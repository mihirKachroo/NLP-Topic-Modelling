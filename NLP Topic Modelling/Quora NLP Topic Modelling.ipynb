{
 "cells": [
  {
   "cell_type": "code",
   "execution_count": 87,
   "metadata": {},
   "outputs": [],
   "source": [
    "import re, nltk, spacy, gensim, string\n",
    "import pandas as pd\n",
    "import seaborn as sns\n",
    "import numpy as np\n",
    "\n",
    "# Sklearn\n",
    "from sklearn.decomposition import LatentDirichletAllocation, TruncatedSVD\n",
    "from sklearn.feature_extraction.text import CountVectorizer, TfidfVectorizer\n",
    "from sklearn.metrics.pairwise import linear_kernel\n",
    "from sklearn.model_selection import GridSearchCV\n",
    "from sklearn.feature_extraction.text import TfidfTransformer;\n",
    "from sklearn.decomposition import NMF;\n",
    "from sklearn.preprocessing import normalize\n",
    "from pprint import pprint\n",
    "\n",
    "# Plotting tools\n",
    "import pyLDAvis\n",
    "import pyLDAvis.sklearn\n",
    "import matplotlib.pyplot as plt\n",
    "\n",
    "from plotly.offline import plot\n",
    "import plotly.graph_objects as go\n",
    "import plotly.express as px"
   ]
  },
  {
   "cell_type": "code",
   "execution_count": 88,
   "metadata": {},
   "outputs": [
    {
     "name": "stdout",
     "output_type": "stream",
     "text": [
      "We have 149 questions in the data\n"
     ]
    }
   ],
   "source": [
    "df = pd.read_csv('quora_challenge.csv')\n",
    "print('We have',len(df), 'questions in the data')"
   ]
  },
  {
   "cell_type": "code",
   "execution_count": 89,
   "metadata": {},
   "outputs": [
    {
     "name": "stdout",
     "output_type": "stream",
     "text": [
      "How much do I need to study marine enginneeing in Canada?\n",
      "\n",
      "Why doesn't Lucasfilm hire Adywan for future Star Wars Special Edition release?\n",
      "\n",
      "Are teacher aloud to give you home work for not going on a field trip?\n",
      "\n",
      "Is it okay to ask strangers their age in your country?\n",
      "\n",
      "Which quotation made you think more and why?\n",
      "\n",
      "What are examples of transverse?\n",
      "\n",
      "What makes a female character a Mary Sue?\n",
      "\n",
      "Why do Indian Railways do not maintain tracks to avoid accidents?\n",
      "\n",
      "When will this formula be positive?\n",
      "\n",
      "\"How much money is \"\"FU money\"\" to you?\"\n",
      "\n"
     ]
    }
   ],
   "source": [
    "a = 100\n",
    "for i in range(a,a+10):\n",
    "    print(df.question_text[i])\n",
    "    print()"
   ]
  },
  {
   "cell_type": "code",
   "execution_count": 90,
   "metadata": {},
   "outputs": [],
   "source": [
    "def clean_text(text):\n",
    "    '''Make text lowercase, remove text in square brackets, remove punctuation and remove words containing numbers.'''\n",
    "    text = text.lower()\n",
    "    text = re.sub(r'\\[.*?\\]', '', text)\n",
    "    text = re.sub(r'[%s]' % re.escape(string.punctuation), '', text)\n",
    "    text = re.sub(r'\\w*\\d\\w*', '', text)\n",
    "    return text\n",
    "\n",
    "df_clean = pd.DataFrame(df.question_text.apply(lambda x: clean_text(x)))"
   ]
  },
  {
   "cell_type": "code",
   "execution_count": 91,
   "metadata": {},
   "outputs": [
    {
     "name": "stdout",
     "output_type": "stream",
     "text": [
      "how much do i need to study marine enginneeing in canada\n",
      "\n",
      "why doesnt lucasfilm hire adywan for future star wars special edition release\n",
      "\n",
      "are teacher aloud to give you home work for not going on a field trip\n",
      "\n",
      "is it okay to ask strangers their age in your country\n",
      "\n",
      "which quotation made you think more and why\n",
      "\n",
      "what are examples of transverse\n",
      "\n",
      "what makes a female character a mary sue\n",
      "\n",
      "why do indian railways do not maintain tracks to avoid accidents\n",
      "\n",
      "when will this formula be positive\n",
      "\n",
      "how much money is fu money to you\n",
      "\n"
     ]
    }
   ],
   "source": [
    "a = 100\n",
    "for i in range(a,a+10):\n",
    "    print(df_clean.question_text[i])\n",
    "    print()"
   ]
  },
  {
   "cell_type": "code",
   "execution_count": 92,
   "metadata": {
    "scrolled": false
   },
   "outputs": [],
   "source": [
    "import spacy\n",
    "nlp = spacy.load(r'/opt/anaconda3/lib/python3.7/site-packages/en_core_web_sm/en_core_web_sm-2.1.0')"
   ]
  },
  {
   "cell_type": "code",
   "execution_count": 93,
   "metadata": {},
   "outputs": [],
   "source": [
    "def lemmatizer(text):        \n",
    "    sent = []\n",
    "    doc = nlp(text)\n",
    "    for word in doc:\n",
    "        sent.append(word.lemma_)\n",
    "    return \" \".join(sent)"
   ]
  },
  {
   "cell_type": "code",
   "execution_count": 94,
   "metadata": {},
   "outputs": [],
   "source": [
    "df_clean[\"question_lemmatize\"] =  df_clean.apply(lambda x: lemmatizer(x['question_text']), axis=1)\n",
    "df_clean['question_lemmatize_clean'] = df_clean['question_lemmatize'].str.replace('-PRON-', '')"
   ]
  },
  {
   "cell_type": "code",
   "execution_count": 95,
   "metadata": {},
   "outputs": [
    {
     "data": {
      "text/html": [
       "<div>\n",
       "<style scoped>\n",
       "    .dataframe tbody tr th:only-of-type {\n",
       "        vertical-align: middle;\n",
       "    }\n",
       "\n",
       "    .dataframe tbody tr th {\n",
       "        vertical-align: top;\n",
       "    }\n",
       "\n",
       "    .dataframe thead th {\n",
       "        text-align: right;\n",
       "    }\n",
       "</style>\n",
       "<table border=\"1\" class=\"dataframe\">\n",
       "  <thead>\n",
       "    <tr style=\"text-align: right;\">\n",
       "      <th></th>\n",
       "      <th>question_text</th>\n",
       "      <th>question_lemmatize</th>\n",
       "      <th>question_lemmatize_clean</th>\n",
       "    </tr>\n",
       "  </thead>\n",
       "  <tbody>\n",
       "    <tr>\n",
       "      <td>0</td>\n",
       "      <td>why is saturn v considered an overestimated ro...</td>\n",
       "      <td>why be saturn v consider an overestimated rock...</td>\n",
       "      <td>why be saturn v consider an overestimated rock...</td>\n",
       "    </tr>\n",
       "    <tr>\n",
       "      <td>1</td>\n",
       "      <td>why is cheap vodka so good</td>\n",
       "      <td>why be cheap vodka so good</td>\n",
       "      <td>why be cheap vodka so good</td>\n",
       "    </tr>\n",
       "    <tr>\n",
       "      <td>2</td>\n",
       "      <td>what does drunk and disorganized mean</td>\n",
       "      <td>what do drunk and disorganize mean</td>\n",
       "      <td>what do drunk and disorganize mean</td>\n",
       "    </tr>\n",
       "    <tr>\n",
       "      <td>3</td>\n",
       "      <td>how can i prepare for isro</td>\n",
       "      <td>how can i prepare for isro</td>\n",
       "      <td>how can i prepare for isro</td>\n",
       "    </tr>\n",
       "    <tr>\n",
       "      <td>4</td>\n",
       "      <td>what is the probation period after ssc cgl</td>\n",
       "      <td>what be the probation period after ssc cgl</td>\n",
       "      <td>what be the probation period after ssc cgl</td>\n",
       "    </tr>\n",
       "    <tr>\n",
       "      <td>...</td>\n",
       "      <td>...</td>\n",
       "      <td>...</td>\n",
       "      <td>...</td>\n",
       "    </tr>\n",
       "    <tr>\n",
       "      <td>144</td>\n",
       "      <td>srm or amritha has more placements</td>\n",
       "      <td>srm or amritha have more placement</td>\n",
       "      <td>srm or amritha have more placement</td>\n",
       "    </tr>\n",
       "    <tr>\n",
       "      <td>145</td>\n",
       "      <td>how can i cure dandruff</td>\n",
       "      <td>how can i cure dandruff</td>\n",
       "      <td>how can i cure dandruff</td>\n",
       "    </tr>\n",
       "    <tr>\n",
       "      <td>146</td>\n",
       "      <td>if someone suffers with severe low self esteem...</td>\n",
       "      <td>if someone suffer with severe low self esteem ...</td>\n",
       "      <td>if someone suffer with severe low self esteem ...</td>\n",
       "    </tr>\n",
       "    <tr>\n",
       "      <td>147</td>\n",
       "      <td>how can i white my teeth</td>\n",
       "      <td>how can i white -PRON- tooth</td>\n",
       "      <td>how can i white  tooth</td>\n",
       "    </tr>\n",
       "    <tr>\n",
       "      <td>148</td>\n",
       "      <td>how did draco malfoy find out about the da coins</td>\n",
       "      <td>how do draco malfoy find out about the da coin</td>\n",
       "      <td>how do draco malfoy find out about the da coin</td>\n",
       "    </tr>\n",
       "  </tbody>\n",
       "</table>\n",
       "<p>149 rows × 3 columns</p>\n",
       "</div>"
      ],
      "text/plain": [
       "                                         question_text  \\\n",
       "0    why is saturn v considered an overestimated ro...   \n",
       "1                           why is cheap vodka so good   \n",
       "2                what does drunk and disorganized mean   \n",
       "3                          how can i prepare for isro    \n",
       "4           what is the probation period after ssc cgl   \n",
       "..                                                 ...   \n",
       "144                 srm or amritha has more placements   \n",
       "145                            how can i cure dandruff   \n",
       "146  if someone suffers with severe low self esteem...   \n",
       "147                           how can i white my teeth   \n",
       "148   how did draco malfoy find out about the da coins   \n",
       "\n",
       "                                    question_lemmatize  \\\n",
       "0    why be saturn v consider an overestimated rock...   \n",
       "1                           why be cheap vodka so good   \n",
       "2                   what do drunk and disorganize mean   \n",
       "3                           how can i prepare for isro   \n",
       "4           what be the probation period after ssc cgl   \n",
       "..                                                 ...   \n",
       "144                 srm or amritha have more placement   \n",
       "145                            how can i cure dandruff   \n",
       "146  if someone suffer with severe low self esteem ...   \n",
       "147                       how can i white -PRON- tooth   \n",
       "148     how do draco malfoy find out about the da coin   \n",
       "\n",
       "                              question_lemmatize_clean  \n",
       "0    why be saturn v consider an overestimated rock...  \n",
       "1                           why be cheap vodka so good  \n",
       "2                   what do drunk and disorganize mean  \n",
       "3                           how can i prepare for isro  \n",
       "4           what be the probation period after ssc cgl  \n",
       "..                                                 ...  \n",
       "144                 srm or amritha have more placement  \n",
       "145                            how can i cure dandruff  \n",
       "146  if someone suffer with severe low self esteem ...  \n",
       "147                             how can i white  tooth  \n",
       "148     how do draco malfoy find out about the da coin  \n",
       "\n",
       "[149 rows x 3 columns]"
      ]
     },
     "execution_count": 95,
     "metadata": {},
     "output_type": "execute_result"
    }
   ],
   "source": [
    "df_clean"
   ]
  },
  {
   "cell_type": "code",
   "execution_count": 96,
   "metadata": {},
   "outputs": [
    {
     "data": {
      "image/png": "[encoded data removed]",
      "text/plain": [
       "<Figure size 720x432 with 1 Axes>"
      ]
     },
     "metadata": {
      "needs_background": "light"
     },
     "output_type": "display_data"
    }
   ],
   "source": [
    "plt.figure(figsize=(10,6))\n",
    "doc_lens = [len(d) for d in df_clean.question_text]\n",
    "plt.hist(doc_lens, bins = 100)\n",
    "plt.title('Distribution of Question character length')\n",
    "plt.ylabel('Number of questions')\n",
    "plt.xlabel('Question character length')\n",
    "sns.despine();"
   ]
  },
  {
   "cell_type": "code",
   "execution_count": 97,
   "metadata": {},
   "outputs": [
    {
     "name": "stdout",
     "output_type": "stream",
     "text": [
      "<wordcloud.wordcloud.WordCloud object at 0x1048a3f10>\n"
     ]
    },
    {
     "data": {
      "image/png": "[encoded data removed]",
      "text/plain": [
       "<Figure size 864x864 with 1 Axes>"
      ]
     },
     "metadata": {
      "needs_background": "light"
     },
     "output_type": "display_data"
    }
   ],
   "source": [
    "import matplotlib as mpl\n",
    "import matplotlib.pyplot as plt\n",
    "%matplotlib inline\n",
    "\n",
    "from subprocess import check_output\n",
    "from wordcloud import WordCloud, STOPWORDS\n",
    "\n",
    "mpl.rcParams['figure.figsize']=(12.0,12.0)  \n",
    "mpl.rcParams['font.size']=12            \n",
    "mpl.rcParams['savefig.dpi']=100             \n",
    "mpl.rcParams['figure.subplot.bottom']=.1 \n",
    "stopwords = set(STOPWORDS)\n",
    "\n",
    "wordcloud = WordCloud(\n",
    "                          background_color='white',\n",
    "                          stopwords=stopwords,\n",
    "                          max_words=500,\n",
    "                          max_font_size=40, \n",
    "                          random_state=42\n",
    "                         ).generate(str(df_clean['question_lemmatize_clean']))\n",
    "\n",
    "print(wordcloud)\n",
    "fig = plt.figure(1)\n",
    "plt.imshow(wordcloud)\n",
    "plt.axis('off')\n",
    "plt.show();"
   ]
  },
  {
   "cell_type": "code",
   "execution_count": 98,
   "metadata": {},
   "outputs": [
    {
     "data": {
      "text/html": [
       "<div>\n",
       "<style scoped>\n",
       "    .dataframe tbody tr th:only-of-type {\n",
       "        vertical-align: middle;\n",
       "    }\n",
       "\n",
       "    .dataframe tbody tr th {\n",
       "        vertical-align: top;\n",
       "    }\n",
       "\n",
       "    .dataframe thead th {\n",
       "        text-align: right;\n",
       "    }\n",
       "</style>\n",
       "<table border=\"1\" class=\"dataframe\">\n",
       "  <thead>\n",
       "    <tr style=\"text-align: right;\">\n",
       "      <th></th>\n",
       "      <th>question_text</th>\n",
       "      <th>question_lemmatize</th>\n",
       "      <th>question_lemmatize_clean</th>\n",
       "    </tr>\n",
       "  </thead>\n",
       "  <tbody>\n",
       "    <tr>\n",
       "      <td>0</td>\n",
       "      <td>why is saturn v considered an overestimated ro...</td>\n",
       "      <td>why be saturn v consider an overestimated rock...</td>\n",
       "      <td>why be saturn v consider an overestimated rock...</td>\n",
       "    </tr>\n",
       "    <tr>\n",
       "      <td>1</td>\n",
       "      <td>why is cheap vodka so good</td>\n",
       "      <td>why be cheap vodka so good</td>\n",
       "      <td>why be cheap vodka so good</td>\n",
       "    </tr>\n",
       "    <tr>\n",
       "      <td>2</td>\n",
       "      <td>what does drunk and disorganized mean</td>\n",
       "      <td>what do drunk and disorganize mean</td>\n",
       "      <td>what do drunk and disorganize mean</td>\n",
       "    </tr>\n",
       "    <tr>\n",
       "      <td>3</td>\n",
       "      <td>how can i prepare for isro</td>\n",
       "      <td>how can i prepare for isro</td>\n",
       "      <td>how can i prepare for isro</td>\n",
       "    </tr>\n",
       "    <tr>\n",
       "      <td>4</td>\n",
       "      <td>what is the probation period after ssc cgl</td>\n",
       "      <td>what be the probation period after ssc cgl</td>\n",
       "      <td>what be the probation period after ssc cgl</td>\n",
       "    </tr>\n",
       "  </tbody>\n",
       "</table>\n",
       "</div>"
      ],
      "text/plain": [
       "                                       question_text  \\\n",
       "0  why is saturn v considered an overestimated ro...   \n",
       "1                         why is cheap vodka so good   \n",
       "2              what does drunk and disorganized mean   \n",
       "3                        how can i prepare for isro    \n",
       "4         what is the probation period after ssc cgl   \n",
       "\n",
       "                                  question_lemmatize  \\\n",
       "0  why be saturn v consider an overestimated rock...   \n",
       "1                         why be cheap vodka so good   \n",
       "2                 what do drunk and disorganize mean   \n",
       "3                         how can i prepare for isro   \n",
       "4         what be the probation period after ssc cgl   \n",
       "\n",
       "                            question_lemmatize_clean  \n",
       "0  why be saturn v consider an overestimated rock...  \n",
       "1                         why be cheap vodka so good  \n",
       "2                 what do drunk and disorganize mean  \n",
       "3                         how can i prepare for isro  \n",
       "4         what be the probation period after ssc cgl  "
      ]
     },
     "execution_count": 98,
     "metadata": {},
     "output_type": "execute_result"
    }
   ],
   "source": [
    "df_clean.to_csv('df_clean.csv', index=False)\n",
    "df_clean = pd.read_csv('df_clean.csv')\n",
    "df_clean.head()"
   ]
  },
  {
   "cell_type": "code",
   "execution_count": 99,
   "metadata": {},
   "outputs": [
    {
     "data": {
      "text/html": [
       "<div>\n",
       "<style scoped>\n",
       "    .dataframe tbody tr th:only-of-type {\n",
       "        vertical-align: middle;\n",
       "    }\n",
       "\n",
       "    .dataframe tbody tr th {\n",
       "        vertical-align: top;\n",
       "    }\n",
       "\n",
       "    .dataframe thead th {\n",
       "        text-align: right;\n",
       "    }\n",
       "</style>\n",
       "<table border=\"1\" class=\"dataframe\">\n",
       "  <thead>\n",
       "    <tr style=\"text-align: right;\">\n",
       "      <th></th>\n",
       "      <th>question_text</th>\n",
       "      <th>question_lemmatize</th>\n",
       "      <th>question_lemmatize_clean</th>\n",
       "    </tr>\n",
       "  </thead>\n",
       "  <tbody>\n",
       "    <tr>\n",
       "      <td>0</td>\n",
       "      <td>why is saturn v considered an overestimated ro...</td>\n",
       "      <td>why be saturn v consider an overestimated rock...</td>\n",
       "      <td>why be saturn v consider an overestimated rock...</td>\n",
       "    </tr>\n",
       "    <tr>\n",
       "      <td>1</td>\n",
       "      <td>why is cheap vodka so good</td>\n",
       "      <td>why be cheap vodka so good</td>\n",
       "      <td>why be cheap vodka so good</td>\n",
       "    </tr>\n",
       "    <tr>\n",
       "      <td>2</td>\n",
       "      <td>what does drunk and disorganized mean</td>\n",
       "      <td>what do drunk and disorganize mean</td>\n",
       "      <td>what do drunk and disorganize mean</td>\n",
       "    </tr>\n",
       "    <tr>\n",
       "      <td>3</td>\n",
       "      <td>how can i prepare for isro</td>\n",
       "      <td>how can i prepare for isro</td>\n",
       "      <td>how can i prepare for isro</td>\n",
       "    </tr>\n",
       "    <tr>\n",
       "      <td>4</td>\n",
       "      <td>what is the probation period after ssc cgl</td>\n",
       "      <td>what be the probation period after ssc cgl</td>\n",
       "      <td>what be the probation period after ssc cgl</td>\n",
       "    </tr>\n",
       "    <tr>\n",
       "      <td>...</td>\n",
       "      <td>...</td>\n",
       "      <td>...</td>\n",
       "      <td>...</td>\n",
       "    </tr>\n",
       "    <tr>\n",
       "      <td>144</td>\n",
       "      <td>srm or amritha has more placements</td>\n",
       "      <td>srm or amritha have more placement</td>\n",
       "      <td>srm or amritha have more placement</td>\n",
       "    </tr>\n",
       "    <tr>\n",
       "      <td>145</td>\n",
       "      <td>how can i cure dandruff</td>\n",
       "      <td>how can i cure dandruff</td>\n",
       "      <td>how can i cure dandruff</td>\n",
       "    </tr>\n",
       "    <tr>\n",
       "      <td>146</td>\n",
       "      <td>if someone suffers with severe low self esteem...</td>\n",
       "      <td>if someone suffer with severe low self esteem ...</td>\n",
       "      <td>if someone suffer with severe low self esteem ...</td>\n",
       "    </tr>\n",
       "    <tr>\n",
       "      <td>147</td>\n",
       "      <td>how can i white my teeth</td>\n",
       "      <td>how can i white -PRON- tooth</td>\n",
       "      <td>how can i white  tooth</td>\n",
       "    </tr>\n",
       "    <tr>\n",
       "      <td>148</td>\n",
       "      <td>how did draco malfoy find out about the da coins</td>\n",
       "      <td>how do draco malfoy find out about the da coin</td>\n",
       "      <td>how do draco malfoy find out about the da coin</td>\n",
       "    </tr>\n",
       "  </tbody>\n",
       "</table>\n",
       "<p>149 rows × 3 columns</p>\n",
       "</div>"
      ],
      "text/plain": [
       "                                         question_text  \\\n",
       "0    why is saturn v considered an overestimated ro...   \n",
       "1                           why is cheap vodka so good   \n",
       "2                what does drunk and disorganized mean   \n",
       "3                          how can i prepare for isro    \n",
       "4           what is the probation period after ssc cgl   \n",
       "..                                                 ...   \n",
       "144                 srm or amritha has more placements   \n",
       "145                            how can i cure dandruff   \n",
       "146  if someone suffers with severe low self esteem...   \n",
       "147                           how can i white my teeth   \n",
       "148   how did draco malfoy find out about the da coins   \n",
       "\n",
       "                                    question_lemmatize  \\\n",
       "0    why be saturn v consider an overestimated rock...   \n",
       "1                           why be cheap vodka so good   \n",
       "2                   what do drunk and disorganize mean   \n",
       "3                           how can i prepare for isro   \n",
       "4           what be the probation period after ssc cgl   \n",
       "..                                                 ...   \n",
       "144                 srm or amritha have more placement   \n",
       "145                            how can i cure dandruff   \n",
       "146  if someone suffer with severe low self esteem ...   \n",
       "147                       how can i white -PRON- tooth   \n",
       "148     how do draco malfoy find out about the da coin   \n",
       "\n",
       "                              question_lemmatize_clean  \n",
       "0    why be saturn v consider an overestimated rock...  \n",
       "1                           why be cheap vodka so good  \n",
       "2                   what do drunk and disorganize mean  \n",
       "3                           how can i prepare for isro  \n",
       "4           what be the probation period after ssc cgl  \n",
       "..                                                 ...  \n",
       "144                 srm or amritha have more placement  \n",
       "145                            how can i cure dandruff  \n",
       "146  if someone suffer with severe low self esteem ...  \n",
       "147                             how can i white  tooth  \n",
       "148     how do draco malfoy find out about the da coin  \n",
       "\n",
       "[149 rows x 3 columns]"
      ]
     },
     "execution_count": 99,
     "metadata": {},
     "output_type": "execute_result"
    }
   ],
   "source": [
    "df_clean['question_lemmatize_clean'] = df_clean['question_lemmatize'].str.replace('-PRON-', '')\n",
    "df_clean"
   ]
  },
  {
   "cell_type": "code",
   "execution_count": 100,
   "metadata": {},
   "outputs": [],
   "source": [
    "def get_top_n_words(corpus, n=None):\n",
    "    vec = CountVectorizer(stop_words='english').fit(corpus)\n",
    "    bag_of_words = vec.transform(corpus)\n",
    "    sum_words = bag_of_words.sum(axis=0) \n",
    "    words_freq = [(word, sum_words[0, idx]) for word, idx in vec.vocabulary_.items()]\n",
    "    words_freq =sorted(words_freq, key = lambda x: x[1], reverse=True)\n",
    "    return words_freq[:n]\n",
    "common_words = get_top_n_words(df_clean['question_lemmatize_clean'], 30)\n",
    "df2 = pd.DataFrame(common_words, columns = ['unigram' , 'count'])"
   ]
  },
  {
   "cell_type": "code",
   "execution_count": 101,
   "metadata": {},
   "outputs": [
    {
     "data": {
      "text/html": [
       "<div>\n",
       "<style scoped>\n",
       "    .dataframe tbody tr th:only-of-type {\n",
       "        vertical-align: middle;\n",
       "    }\n",
       "\n",
       "    .dataframe tbody tr th {\n",
       "        vertical-align: top;\n",
       "    }\n",
       "\n",
       "    .dataframe thead th {\n",
       "        text-align: right;\n",
       "    }\n",
       "</style>\n",
       "<table border=\"1\" class=\"dataframe\">\n",
       "  <thead>\n",
       "    <tr style=\"text-align: right;\">\n",
       "      <th></th>\n",
       "      <th>unigram</th>\n",
       "      <th>count</th>\n",
       "    </tr>\n",
       "  </thead>\n",
       "  <tbody>\n",
       "    <tr>\n",
       "      <td>0</td>\n",
       "      <td>make</td>\n",
       "      <td>8</td>\n",
       "    </tr>\n",
       "    <tr>\n",
       "      <td>1</td>\n",
       "      <td>life</td>\n",
       "      <td>7</td>\n",
       "    </tr>\n",
       "    <tr>\n",
       "      <td>2</td>\n",
       "      <td>feel</td>\n",
       "      <td>6</td>\n",
       "    </tr>\n",
       "    <tr>\n",
       "      <td>3</td>\n",
       "      <td>good</td>\n",
       "      <td>5</td>\n",
       "    </tr>\n",
       "    <tr>\n",
       "      <td>4</td>\n",
       "      <td>movie</td>\n",
       "      <td>4</td>\n",
       "    </tr>\n",
       "    <tr>\n",
       "      <td>5</td>\n",
       "      <td>country</td>\n",
       "      <td>4</td>\n",
       "    </tr>\n",
       "    <tr>\n",
       "      <td>6</td>\n",
       "      <td>choose</td>\n",
       "      <td>4</td>\n",
       "    </tr>\n",
       "    <tr>\n",
       "      <td>7</td>\n",
       "      <td>like</td>\n",
       "      <td>4</td>\n",
       "    </tr>\n",
       "    <tr>\n",
       "      <td>8</td>\n",
       "      <td>start</td>\n",
       "      <td>4</td>\n",
       "    </tr>\n",
       "    <tr>\n",
       "      <td>9</td>\n",
       "      <td>way</td>\n",
       "      <td>4</td>\n",
       "    </tr>\n",
       "    <tr>\n",
       "      <td>10</td>\n",
       "      <td>use</td>\n",
       "      <td>4</td>\n",
       "    </tr>\n",
       "    <tr>\n",
       "      <td>11</td>\n",
       "      <td>time</td>\n",
       "      <td>4</td>\n",
       "    </tr>\n",
       "    <tr>\n",
       "      <td>12</td>\n",
       "      <td>school</td>\n",
       "      <td>4</td>\n",
       "    </tr>\n",
       "    <tr>\n",
       "      <td>13</td>\n",
       "      <td>world</td>\n",
       "      <td>4</td>\n",
       "    </tr>\n",
       "    <tr>\n",
       "      <td>14</td>\n",
       "      <td>people</td>\n",
       "      <td>4</td>\n",
       "    </tr>\n",
       "    <tr>\n",
       "      <td>15</td>\n",
       "      <td>think</td>\n",
       "      <td>4</td>\n",
       "    </tr>\n",
       "    <tr>\n",
       "      <td>16</td>\n",
       "      <td>money</td>\n",
       "      <td>4</td>\n",
       "    </tr>\n",
       "    <tr>\n",
       "      <td>17</td>\n",
       "      <td>high</td>\n",
       "      <td>4</td>\n",
       "    </tr>\n",
       "    <tr>\n",
       "      <td>18</td>\n",
       "      <td>quora</td>\n",
       "      <td>4</td>\n",
       "    </tr>\n",
       "    <tr>\n",
       "      <td>19</td>\n",
       "      <td>different</td>\n",
       "      <td>3</td>\n",
       "    </tr>\n",
       "    <tr>\n",
       "      <td>20</td>\n",
       "      <td>ask</td>\n",
       "      <td>3</td>\n",
       "    </tr>\n",
       "    <tr>\n",
       "      <td>21</td>\n",
       "      <td>eat</td>\n",
       "      <td>3</td>\n",
       "    </tr>\n",
       "    <tr>\n",
       "      <td>22</td>\n",
       "      <td>animal</td>\n",
       "      <td>3</td>\n",
       "    </tr>\n",
       "    <tr>\n",
       "      <td>23</td>\n",
       "      <td>come</td>\n",
       "      <td>3</td>\n",
       "    </tr>\n",
       "    <tr>\n",
       "      <td>24</td>\n",
       "      <td>person</td>\n",
       "      <td>3</td>\n",
       "    </tr>\n",
       "    <tr>\n",
       "      <td>25</td>\n",
       "      <td>review</td>\n",
       "      <td>3</td>\n",
       "    </tr>\n",
       "    <tr>\n",
       "      <td>26</td>\n",
       "      <td>year</td>\n",
       "      <td>3</td>\n",
       "    </tr>\n",
       "    <tr>\n",
       "      <td>27</td>\n",
       "      <td>pay</td>\n",
       "      <td>3</td>\n",
       "    </tr>\n",
       "    <tr>\n",
       "      <td>28</td>\n",
       "      <td>company</td>\n",
       "      <td>3</td>\n",
       "    </tr>\n",
       "    <tr>\n",
       "      <td>29</td>\n",
       "      <td>big</td>\n",
       "      <td>3</td>\n",
       "    </tr>\n",
       "  </tbody>\n",
       "</table>\n",
       "</div>"
      ],
      "text/plain": [
       "      unigram  count\n",
       "0        make      8\n",
       "1        life      7\n",
       "2        feel      6\n",
       "3        good      5\n",
       "4       movie      4\n",
       "5     country      4\n",
       "6      choose      4\n",
       "7        like      4\n",
       "8       start      4\n",
       "9         way      4\n",
       "10        use      4\n",
       "11       time      4\n",
       "12     school      4\n",
       "13      world      4\n",
       "14     people      4\n",
       "15      think      4\n",
       "16      money      4\n",
       "17       high      4\n",
       "18      quora      4\n",
       "19  different      3\n",
       "20        ask      3\n",
       "21        eat      3\n",
       "22     animal      3\n",
       "23       come      3\n",
       "24     person      3\n",
       "25     review      3\n",
       "26       year      3\n",
       "27        pay      3\n",
       "28    company      3\n",
       "29        big      3"
      ]
     },
     "execution_count": 101,
     "metadata": {},
     "output_type": "execute_result"
    }
   ],
   "source": [
    "df2"
   ]
  },
  {
   "cell_type": "code",
   "execution_count": 102,
   "metadata": {},
   "outputs": [
    {
     "data": {
      "application/vnd.plotly.v1+json": {
       "config": {
        "plotlyServerURL": "https://plot.ly"
       },
       "data": [
        {
         "type": "bar",
         "x": [
          "make",
          "life",
          "feel",
          "good",
          "movie",
          "country",
          "choose",
          "like",
          "start",
          "way",
          "use",
          "time",
          "school",
          "world",
          "people",
          "think",
          "money",
          "high",
          "quora",
          "different",
          "ask",
          "eat",
          "animal",
          "come",
          "person",
          "review",
          "year",
          "pay",
          "company",
          "big"
         ],
         "y": [
          8,
          7,
          6,
          5,
          4,
          4,
          4,
          4,
          4,
          4,
          4,
          4,
          4,
          4,
          4,
          4,
          4,
          4,
          4,
          3,
          3,
          3,
          3,
          3,
          3,
          3,
          3,
          3,
          3,
          3
         ]
        }
       ],
       "layout": {
        "template": {
         "data": {
          "bar": [
           {
            "error_x": {
             "color": "#2a3f5f"
            },
            "error_y": {
             "color": "#2a3f5f"
            },
            "marker": {
             "line": {
              "color": "#E5ECF6",
              "width": 0.5
             }
            },
            "type": "bar"
           }
          ],
          "barpolar": [
           {
            "marker": {
             "line": {
              "color": "#E5ECF6",
              "width": 0.5
             }
            },
            "type": "barpolar"
           }
          ],
          "carpet": [
           {
            "aaxis": {
             "endlinecolor": "#2a3f5f",
             "gridcolor": "white",
             "linecolor": "white",
             "minorgridcolor": "white",
             "startlinecolor": "#2a3f5f"
            },
            "baxis": {
             "endlinecolor": "#2a3f5f",
             "gridcolor": "white",
             "linecolor": "white",
             "minorgridcolor": "white",
             "startlinecolor": "#2a3f5f"
            },
            "type": "carpet"
           }
          ],
          "choropleth": [
           {
            "colorbar": {
             "outlinewidth": 0,
             "ticks": ""
            },
            "type": "choropleth"
           }
          ],
          "contour": [
           {
            "colorbar": {
             "outlinewidth": 0,
             "ticks": ""
            },
            "colorscale": [
             [
              0,
              "#0d0887"
             ],
             [
              0.1111111111111111,
              "#46039f"
             ],
             [
              0.2222222222222222,
              "#7201a8"
             ],
             [
              0.3333333333333333,
              "#9c179e"
             ],
             [
              0.4444444444444444,
              "#bd3786"
             ],
             [
              0.5555555555555556,
              "#d8576b"
             ],
             [
              0.6666666666666666,
              "#ed7953"
             ],
             [
              0.7777777777777778,
              "#fb9f3a"
             ],
             [
              0.8888888888888888,
              "#fdca26"
             ],
             [
              1,
              "#f0f921"
             ]
            ],
            "type": "contour"
           }
          ],
          "contourcarpet": [
           {
            "colorbar": {
             "outlinewidth": 0,
             "ticks": ""
            },
            "type": "contourcarpet"
           }
          ],
          "heatmap": [
           {
            "colorbar": {
             "outlinewidth": 0,
             "ticks": ""
            },
            "colorscale": [
             [
              0,
              "#0d0887"
             ],
             [
              0.1111111111111111,
              "#46039f"
             ],
             [
              0.2222222222222222,
              "#7201a8"
             ],
             [
              0.3333333333333333,
              "#9c179e"
             ],
             [
              0.4444444444444444,
              "#bd3786"
             ],
             [
              0.5555555555555556,
              "#d8576b"
             ],
             [
              0.6666666666666666,
              "#ed7953"
             ],
             [
              0.7777777777777778,
              "#fb9f3a"
             ],
             [
              0.8888888888888888,
              "#fdca26"
             ],
             [
              1,
              "#f0f921"
             ]
            ],
            "type": "heatmap"
           }
          ],
          "heatmapgl": [
           {
            "colorbar": {
             "outlinewidth": 0,
             "ticks": ""
            },
            "colorscale": [
             [
              0,
              "#0d0887"
             ],
             [
              0.1111111111111111,
              "#46039f"
             ],
             [
              0.2222222222222222,
              "#7201a8"
             ],
             [
              0.3333333333333333,
              "#9c179e"
             ],
             [
              0.4444444444444444,
              "#bd3786"
             ],
             [
              0.5555555555555556,
              "#d8576b"
             ],
             [
              0.6666666666666666,
              "#ed7953"
             ],
             [
              0.7777777777777778,
              "#fb9f3a"
             ],
             [
              0.8888888888888888,
              "#fdca26"
             ],
             [
              1,
              "#f0f921"
             ]
            ],
            "type": "heatmapgl"
           }
          ],
          "histogram": [
           {
            "marker": {
             "colorbar": {
              "outlinewidth": 0,
              "ticks": ""
             }
            },
            "type": "histogram"
           }
          ],
          "histogram2d": [
           {
            "colorbar": {
             "outlinewidth": 0,
             "ticks": ""
            },
            "colorscale": [
             [
              0,
              "#0d0887"
             ],
             [
              0.1111111111111111,
              "#46039f"
             ],
             [
              0.2222222222222222,
              "#7201a8"
             ],
             [
              0.3333333333333333,
              "#9c179e"
             ],
             [
              0.4444444444444444,
              "#bd3786"
             ],
             [
              0.5555555555555556,
              "#d8576b"
             ],
             [
              0.6666666666666666,
              "#ed7953"
             ],
             [
              0.7777777777777778,
              "#fb9f3a"
             ],
             [
              0.8888888888888888,
              "#fdca26"
             ],
             [
              1,
              "#f0f921"
             ]
            ],
            "type": "histogram2d"
           }
          ],
          "histogram2dcontour": [
           {
            "colorbar": {
             "outlinewidth": 0,
             "ticks": ""
            },
            "colorscale": [
             [
              0,
              "#0d0887"
             ],
             [
              0.1111111111111111,
              "#46039f"
             ],
             [
              0.2222222222222222,
              "#7201a8"
             ],
             [
              0.3333333333333333,
              "#9c179e"
             ],
             [
              0.4444444444444444,
              "#bd3786"
             ],
             [
              0.5555555555555556,
              "#d8576b"
             ],
             [
              0.6666666666666666,
              "#ed7953"
             ],
             [
              0.7777777777777778,
              "#fb9f3a"
             ],
             [
              0.8888888888888888,
              "#fdca26"
             ],
             [
              1,
              "#f0f921"
             ]
            ],
            "type": "histogram2dcontour"
           }
          ],
          "mesh3d": [
           {
            "colorbar": {
             "outlinewidth": 0,
             "ticks": ""
            },
            "type": "mesh3d"
           }
          ],
          "parcoords": [
           {
            "line": {
             "colorbar": {
              "outlinewidth": 0,
              "ticks": ""
             }
            },
            "type": "parcoords"
           }
          ],
          "pie": [
           {
            "automargin": true,
            "type": "pie"
           }
          ],
          "scatter": [
           {
            "marker": {
             "colorbar": {
              "outlinewidth": 0,
              "ticks": ""
             }
            },
            "type": "scatter"
           }
          ],
          "scatter3d": [
           {
            "line": {
             "colorbar": {
              "outlinewidth": 0,
              "ticks": ""
             }
            },
            "marker": {
             "colorbar": {
              "outlinewidth": 0,
              "ticks": ""
             }
            },
            "type": "scatter3d"
           }
          ],
          "scattercarpet": [
           {
            "marker": {
             "colorbar": {
              "outlinewidth": 0,
              "ticks": ""
             }
            },
            "type": "scattercarpet"
           }
          ],
          "scattergeo": [
           {
            "marker": {
             "colorbar": {
              "outlinewidth": 0,
              "ticks": ""
             }
            },
            "type": "scattergeo"
           }
          ],
          "scattergl": [
           {
            "marker": {
             "colorbar": {
              "outlinewidth": 0,
              "ticks": ""
             }
            },
            "type": "scattergl"
           }
          ],
          "scattermapbox": [
           {
            "marker": {
             "colorbar": {
              "outlinewidth": 0,
              "ticks": ""
             }
            },
            "type": "scattermapbox"
           }
          ],
          "scatterpolar": [
           {
            "marker": {
             "colorbar": {
              "outlinewidth": 0,
              "ticks": ""
             }
            },
            "type": "scatterpolar"
           }
          ],
          "scatterpolargl": [
           {
            "marker": {
             "colorbar": {
              "outlinewidth": 0,
              "ticks": ""
             }
            },
            "type": "scatterpolargl"
           }
          ],
          "scatterternary": [
           {
            "marker": {
             "colorbar": {
              "outlinewidth": 0,
              "ticks": ""
             }
            },
            "type": "scatterternary"
           }
          ],
          "surface": [
           {
            "colorbar": {
             "outlinewidth": 0,
             "ticks": ""
            },
            "colorscale": [
             [
              0,
              "#0d0887"
             ],
             [
              0.1111111111111111,
              "#46039f"
             ],
             [
              0.2222222222222222,
              "#7201a8"
             ],
             [
              0.3333333333333333,
              "#9c179e"
             ],
             [
              0.4444444444444444,
              "#bd3786"
             ],
             [
              0.5555555555555556,
              "#d8576b"
             ],
             [
              0.6666666666666666,
              "#ed7953"
             ],
             [
              0.7777777777777778,
              "#fb9f3a"
             ],
             [
              0.8888888888888888,
              "#fdca26"
             ],
             [
              1,
              "#f0f921"
             ]
            ],
            "type": "surface"
           }
          ],
          "table": [
           {
            "cells": {
             "fill": {
              "color": "#EBF0F8"
             },
             "line": {
              "color": "white"
             }
            },
            "header": {
             "fill": {
              "color": "#C8D4E3"
             },
             "line": {
              "color": "white"
             }
            },
            "type": "table"
           }
          ]
         },
         "layout": {
          "annotationdefaults": {
           "arrowcolor": "#2a3f5f",
           "arrowhead": 0,
           "arrowwidth": 1
          },
          "coloraxis": {
           "colorbar": {
            "outlinewidth": 0,
            "ticks": ""
           }
          },
          "colorscale": {
           "diverging": [
            [
             0,
             "#8e0152"
            ],
            [
             0.1,
             "#c51b7d"
            ],
            [
             0.2,
             "#de77ae"
            ],
            [
             0.3,
             "#f1b6da"
            ],
            [
             0.4,
             "#fde0ef"
            ],
            [
             0.5,
             "#f7f7f7"
            ],
            [
             0.6,
             "#e6f5d0"
            ],
            [
             0.7,
             "#b8e186"
            ],
            [
             0.8,
             "#7fbc41"
            ],
            [
             0.9,
             "#4d9221"
            ],
            [
             1,
             "#276419"
            ]
           ],
           "sequential": [
            [
             0,
             "#0d0887"
            ],
            [
             0.1111111111111111,
             "#46039f"
            ],
            [
             0.2222222222222222,
             "#7201a8"
            ],
            [
             0.3333333333333333,
             "#9c179e"
            ],
            [
             0.4444444444444444,
             "#bd3786"
            ],
            [
             0.5555555555555556,
             "#d8576b"
            ],
            [
             0.6666666666666666,
             "#ed7953"
            ],
            [
             0.7777777777777778,
             "#fb9f3a"
            ],
            [
             0.8888888888888888,
             "#fdca26"
            ],
            [
             1,
             "#f0f921"
            ]
           ],
           "sequentialminus": [
            [
             0,
             "#0d0887"
            ],
            [
             0.1111111111111111,
             "#46039f"
            ],
            [
             0.2222222222222222,
             "#7201a8"
            ],
            [
             0.3333333333333333,
             "#9c179e"
            ],
            [
             0.4444444444444444,
             "#bd3786"
            ],
            [
             0.5555555555555556,
             "#d8576b"
            ],
            [
             0.6666666666666666,
             "#ed7953"
            ],
            [
             0.7777777777777778,
             "#fb9f3a"
            ],
            [
             0.8888888888888888,
             "#fdca26"
            ],
            [
             1,
             "#f0f921"
            ]
           ]
          },
          "colorway": [
           "#636efa",
           "#EF553B",
           "#00cc96",
           "#ab63fa",
           "#FFA15A",
           "#19d3f3",
           "#FF6692",
           "#B6E880",
           "#FF97FF",
           "#FECB52"
          ],
          "font": {
           "color": "#2a3f5f"
          },
          "geo": {
           "bgcolor": "white",
           "lakecolor": "white",
           "landcolor": "#E5ECF6",
           "showlakes": true,
           "showland": true,
           "subunitcolor": "white"
          },
          "hoverlabel": {
           "align": "left"
          },
          "hovermode": "closest",
          "mapbox": {
           "style": "light"
          },
          "paper_bgcolor": "white",
          "plot_bgcolor": "#E5ECF6",
          "polar": {
           "angularaxis": {
            "gridcolor": "white",
            "linecolor": "white",
            "ticks": ""
           },
           "bgcolor": "#E5ECF6",
           "radialaxis": {
            "gridcolor": "white",
            "linecolor": "white",
            "ticks": ""
           }
          },
          "scene": {
           "xaxis": {
            "backgroundcolor": "#E5ECF6",
            "gridcolor": "white",
            "gridwidth": 2,
            "linecolor": "white",
            "showbackground": true,
            "ticks": "",
            "zerolinecolor": "white"
           },
           "yaxis": {
            "backgroundcolor": "#E5ECF6",
            "gridcolor": "white",
            "gridwidth": 2,
            "linecolor": "white",
            "showbackground": true,
            "ticks": "",
            "zerolinecolor": "white"
           },
           "zaxis": {
            "backgroundcolor": "#E5ECF6",
            "gridcolor": "white",
            "gridwidth": 2,
            "linecolor": "white",
            "showbackground": true,
            "ticks": "",
            "zerolinecolor": "white"
           }
          },
          "shapedefaults": {
           "line": {
            "color": "#2a3f5f"
           }
          },
          "ternary": {
           "aaxis": {
            "gridcolor": "white",
            "linecolor": "white",
            "ticks": ""
           },
           "baxis": {
            "gridcolor": "white",
            "linecolor": "white",
            "ticks": ""
           },
           "bgcolor": "#E5ECF6",
           "caxis": {
            "gridcolor": "white",
            "linecolor": "white",
            "ticks": ""
           }
          },
          "title": {
           "x": 0.05
          },
          "xaxis": {
           "automargin": true,
           "gridcolor": "white",
           "linecolor": "white",
           "ticks": "",
           "title": {
            "standoff": 15
           },
           "zerolinecolor": "white",
           "zerolinewidth": 2
          },
          "yaxis": {
           "automargin": true,
           "gridcolor": "white",
           "linecolor": "white",
           "ticks": "",
           "title": {
            "standoff": 15
           },
           "zerolinecolor": "white",
           "zerolinewidth": 2
          }
         }
        },
        "title": {
         "text": "Top 30 unigrams in the question text after removing stop words and lemmatization"
        }
       }
      },
      "text/html": [
       "<div>\n",
       "        \n",
       "        \n",
       "            <div id=\"c227d1e9-8ec4-4d93-8cc7-537ae5a7b059\" class=\"plotly-graph-div\" style=\"height:525px; width:100%;\"></div>\n",
       "            <script type=\"text/javascript\">\n",
       "                require([\"plotly\"], function(Plotly) {\n",
       "                    window.PLOTLYENV=window.PLOTLYENV || {};\n",
       "                    \n",
       "                if (document.getElementById(\"c227d1e9-8ec4-4d93-8cc7-537ae5a7b059\")) {\n",
       "                    Plotly.newPlot(\n",
       "                        'c227d1e9-8ec4-4d93-8cc7-537ae5a7b059',\n",
       "                        [{\"type\": \"bar\", \"x\": [\"make\", \"life\", \"feel\", \"good\", \"movie\", \"country\", \"choose\", \"like\", \"start\", \"way\", \"use\", \"time\", \"school\", \"world\", \"people\", \"think\", \"money\", \"high\", \"quora\", \"different\", \"ask\", \"eat\", \"animal\", \"come\", \"person\", \"review\", \"year\", \"pay\", \"company\", \"big\"], \"y\": [8, 7, 6, 5, 4, 4, 4, 4, 4, 4, 4, 4, 4, 4, 4, 4, 4, 4, 4, 3, 3, 3, 3, 3, 3, 3, 3, 3, 3, 3]}],\n",
       "                        {\"template\": {\"data\": {\"bar\": [{\"error_x\": {\"color\": \"#2a3f5f\"}, \"error_y\": {\"color\": \"#2a3f5f\"}, \"marker\": {\"line\": {\"color\": \"#E5ECF6\", \"width\": 0.5}}, \"type\": \"bar\"}], \"barpolar\": [{\"marker\": {\"line\": {\"color\": \"#E5ECF6\", \"width\": 0.5}}, \"type\": \"barpolar\"}], \"carpet\": [{\"aaxis\": {\"endlinecolor\": \"#2a3f5f\", \"gridcolor\": \"white\", \"linecolor\": \"white\", \"minorgridcolor\": \"white\", \"startlinecolor\": \"#2a3f5f\"}, \"baxis\": {\"endlinecolor\": \"#2a3f5f\", \"gridcolor\": \"white\", \"linecolor\": \"white\", \"minorgridcolor\": \"white\", \"startlinecolor\": \"#2a3f5f\"}, \"type\": \"carpet\"}], \"choropleth\": [{\"colorbar\": {\"outlinewidth\": 0, \"ticks\": \"\"}, \"type\": \"choropleth\"}], \"contour\": [{\"colorbar\": {\"outlinewidth\": 0, \"ticks\": \"\"}, \"colorscale\": [[0.0, \"#0d0887\"], [0.1111111111111111, \"#46039f\"], [0.2222222222222222, \"#7201a8\"], [0.3333333333333333, \"#9c179e\"], [0.4444444444444444, \"#bd3786\"], [0.5555555555555556, \"#d8576b\"], [0.6666666666666666, \"#ed7953\"], [0.7777777777777778, \"#fb9f3a\"], [0.8888888888888888, \"#fdca26\"], [1.0, \"#f0f921\"]], \"type\": \"contour\"}], \"contourcarpet\": [{\"colorbar\": {\"outlinewidth\": 0, \"ticks\": \"\"}, \"type\": \"contourcarpet\"}], \"heatmap\": [{\"colorbar\": {\"outlinewidth\": 0, \"ticks\": \"\"}, \"colorscale\": [[0.0, \"#0d0887\"], [0.1111111111111111, \"#46039f\"], [0.2222222222222222, \"#7201a8\"], [0.3333333333333333, \"#9c179e\"], [0.4444444444444444, \"#bd3786\"], [0.5555555555555556, \"#d8576b\"], [0.6666666666666666, \"#ed7953\"], [0.7777777777777778, \"#fb9f3a\"], [0.8888888888888888, \"#fdca26\"], [1.0, \"#f0f921\"]], \"type\": \"heatmap\"}], \"heatmapgl\": [{\"colorbar\": {\"outlinewidth\": 0, \"ticks\": \"\"}, \"colorscale\": [[0.0, \"#0d0887\"], [0.1111111111111111, \"#46039f\"], [0.2222222222222222, \"#7201a8\"], [0.3333333333333333, \"#9c179e\"], [0.4444444444444444, \"#bd3786\"], [0.5555555555555556, \"#d8576b\"], [0.6666666666666666, \"#ed7953\"], [0.7777777777777778, \"#fb9f3a\"], [0.8888888888888888, \"#fdca26\"], [1.0, \"#f0f921\"]], \"type\": \"heatmapgl\"}], \"histogram\": [{\"marker\": {\"colorbar\": {\"outlinewidth\": 0, \"ticks\": \"\"}}, \"type\": \"histogram\"}], \"histogram2d\": [{\"colorbar\": {\"outlinewidth\": 0, \"ticks\": \"\"}, \"colorscale\": [[0.0, \"#0d0887\"], [0.1111111111111111, \"#46039f\"], [0.2222222222222222, \"#7201a8\"], [0.3333333333333333, \"#9c179e\"], [0.4444444444444444, \"#bd3786\"], [0.5555555555555556, \"#d8576b\"], [0.6666666666666666, \"#ed7953\"], [0.7777777777777778, \"#fb9f3a\"], [0.8888888888888888, \"#fdca26\"], [1.0, \"#f0f921\"]], \"type\": \"histogram2d\"}], \"histogram2dcontour\": [{\"colorbar\": {\"outlinewidth\": 0, \"ticks\": \"\"}, \"colorscale\": [[0.0, \"#0d0887\"], [0.1111111111111111, \"#46039f\"], [0.2222222222222222, \"#7201a8\"], [0.3333333333333333, \"#9c179e\"], [0.4444444444444444, \"#bd3786\"], [0.5555555555555556, \"#d8576b\"], [0.6666666666666666, \"#ed7953\"], [0.7777777777777778, \"#fb9f3a\"], [0.8888888888888888, \"#fdca26\"], [1.0, \"#f0f921\"]], \"type\": \"histogram2dcontour\"}], \"mesh3d\": [{\"colorbar\": {\"outlinewidth\": 0, \"ticks\": \"\"}, \"type\": \"mesh3d\"}], \"parcoords\": [{\"line\": {\"colorbar\": {\"outlinewidth\": 0, \"ticks\": \"\"}}, \"type\": \"parcoords\"}], \"pie\": [{\"automargin\": true, \"type\": \"pie\"}], \"scatter\": [{\"marker\": {\"colorbar\": {\"outlinewidth\": 0, \"ticks\": \"\"}}, \"type\": \"scatter\"}], \"scatter3d\": [{\"line\": {\"colorbar\": {\"outlinewidth\": 0, \"ticks\": \"\"}}, \"marker\": {\"colorbar\": {\"outlinewidth\": 0, \"ticks\": \"\"}}, \"type\": \"scatter3d\"}], \"scattercarpet\": [{\"marker\": {\"colorbar\": {\"outlinewidth\": 0, \"ticks\": \"\"}}, \"type\": \"scattercarpet\"}], \"scattergeo\": [{\"marker\": {\"colorbar\": {\"outlinewidth\": 0, \"ticks\": \"\"}}, \"type\": \"scattergeo\"}], \"scattergl\": [{\"marker\": {\"colorbar\": {\"outlinewidth\": 0, \"ticks\": \"\"}}, \"type\": \"scattergl\"}], \"scattermapbox\": [{\"marker\": {\"colorbar\": {\"outlinewidth\": 0, \"ticks\": \"\"}}, \"type\": \"scattermapbox\"}], \"scatterpolar\": [{\"marker\": {\"colorbar\": {\"outlinewidth\": 0, \"ticks\": \"\"}}, \"type\": \"scatterpolar\"}], \"scatterpolargl\": [{\"marker\": {\"colorbar\": {\"outlinewidth\": 0, \"ticks\": \"\"}}, \"type\": \"scatterpolargl\"}], \"scatterternary\": [{\"marker\": {\"colorbar\": {\"outlinewidth\": 0, \"ticks\": \"\"}}, \"type\": \"scatterternary\"}], \"surface\": [{\"colorbar\": {\"outlinewidth\": 0, \"ticks\": \"\"}, \"colorscale\": [[0.0, \"#0d0887\"], [0.1111111111111111, \"#46039f\"], [0.2222222222222222, \"#7201a8\"], [0.3333333333333333, \"#9c179e\"], [0.4444444444444444, \"#bd3786\"], [0.5555555555555556, \"#d8576b\"], [0.6666666666666666, \"#ed7953\"], [0.7777777777777778, \"#fb9f3a\"], [0.8888888888888888, \"#fdca26\"], [1.0, \"#f0f921\"]], \"type\": \"surface\"}], \"table\": [{\"cells\": {\"fill\": {\"color\": \"#EBF0F8\"}, \"line\": {\"color\": \"white\"}}, \"header\": {\"fill\": {\"color\": \"#C8D4E3\"}, \"line\": {\"color\": \"white\"}}, \"type\": \"table\"}]}, \"layout\": {\"annotationdefaults\": {\"arrowcolor\": \"#2a3f5f\", \"arrowhead\": 0, \"arrowwidth\": 1}, \"coloraxis\": {\"colorbar\": {\"outlinewidth\": 0, \"ticks\": \"\"}}, \"colorscale\": {\"diverging\": [[0, \"#8e0152\"], [0.1, \"#c51b7d\"], [0.2, \"#de77ae\"], [0.3, \"#f1b6da\"], [0.4, \"#fde0ef\"], [0.5, \"#f7f7f7\"], [0.6, \"#e6f5d0\"], [0.7, \"#b8e186\"], [0.8, \"#7fbc41\"], [0.9, \"#4d9221\"], [1, \"#276419\"]], \"sequential\": [[0.0, \"#0d0887\"], [0.1111111111111111, \"#46039f\"], [0.2222222222222222, \"#7201a8\"], [0.3333333333333333, \"#9c179e\"], [0.4444444444444444, \"#bd3786\"], [0.5555555555555556, \"#d8576b\"], [0.6666666666666666, \"#ed7953\"], [0.7777777777777778, \"#fb9f3a\"], [0.8888888888888888, \"#fdca26\"], [1.0, \"#f0f921\"]], \"sequentialminus\": [[0.0, \"#0d0887\"], [0.1111111111111111, \"#46039f\"], [0.2222222222222222, \"#7201a8\"], [0.3333333333333333, \"#9c179e\"], [0.4444444444444444, \"#bd3786\"], [0.5555555555555556, \"#d8576b\"], [0.6666666666666666, \"#ed7953\"], [0.7777777777777778, \"#fb9f3a\"], [0.8888888888888888, \"#fdca26\"], [1.0, \"#f0f921\"]]}, \"colorway\": [\"#636efa\", \"#EF553B\", \"#00cc96\", \"#ab63fa\", \"#FFA15A\", \"#19d3f3\", \"#FF6692\", \"#B6E880\", \"#FF97FF\", \"#FECB52\"], \"font\": {\"color\": \"#2a3f5f\"}, \"geo\": {\"bgcolor\": \"white\", \"lakecolor\": \"white\", \"landcolor\": \"#E5ECF6\", \"showlakes\": true, \"showland\": true, \"subunitcolor\": \"white\"}, \"hoverlabel\": {\"align\": \"left\"}, \"hovermode\": \"closest\", \"mapbox\": {\"style\": \"light\"}, \"paper_bgcolor\": \"white\", \"plot_bgcolor\": \"#E5ECF6\", \"polar\": {\"angularaxis\": {\"gridcolor\": \"white\", \"linecolor\": \"white\", \"ticks\": \"\"}, \"bgcolor\": \"#E5ECF6\", \"radialaxis\": {\"gridcolor\": \"white\", \"linecolor\": \"white\", \"ticks\": \"\"}}, \"scene\": {\"xaxis\": {\"backgroundcolor\": \"#E5ECF6\", \"gridcolor\": \"white\", \"gridwidth\": 2, \"linecolor\": \"white\", \"showbackground\": true, \"ticks\": \"\", \"zerolinecolor\": \"white\"}, \"yaxis\": {\"backgroundcolor\": \"#E5ECF6\", \"gridcolor\": \"white\", \"gridwidth\": 2, \"linecolor\": \"white\", \"showbackground\": true, \"ticks\": \"\", \"zerolinecolor\": \"white\"}, \"zaxis\": {\"backgroundcolor\": \"#E5ECF6\", \"gridcolor\": \"white\", \"gridwidth\": 2, \"linecolor\": \"white\", \"showbackground\": true, \"ticks\": \"\", \"zerolinecolor\": \"white\"}}, \"shapedefaults\": {\"line\": {\"color\": \"#2a3f5f\"}}, \"ternary\": {\"aaxis\": {\"gridcolor\": \"white\", \"linecolor\": \"white\", \"ticks\": \"\"}, \"baxis\": {\"gridcolor\": \"white\", \"linecolor\": \"white\", \"ticks\": \"\"}, \"bgcolor\": \"#E5ECF6\", \"caxis\": {\"gridcolor\": \"white\", \"linecolor\": \"white\", \"ticks\": \"\"}}, \"title\": {\"x\": 0.05}, \"xaxis\": {\"automargin\": true, \"gridcolor\": \"white\", \"linecolor\": \"white\", \"ticks\": \"\", \"title\": {\"standoff\": 15}, \"zerolinecolor\": \"white\", \"zerolinewidth\": 2}, \"yaxis\": {\"automargin\": true, \"gridcolor\": \"white\", \"linecolor\": \"white\", \"ticks\": \"\", \"title\": {\"standoff\": 15}, \"zerolinecolor\": \"white\", \"zerolinewidth\": 2}}}, \"title\": {\"text\": \"Top 30 unigrams in the question text after removing stop words and lemmatization\"}},\n",
       "                        {\"responsive\": true}\n",
       "                    ).then(function(){\n",
       "                            \n",
       "var gd = document.getElementById('c227d1e9-8ec4-4d93-8cc7-537ae5a7b059');\n",
       "var x = new MutationObserver(function (mutations, observer) {{\n",
       "        var display = window.getComputedStyle(gd).display;\n",
       "        if (!display || display === 'none') {{\n",
       "            console.log([gd, 'removed!']);\n",
       "            Plotly.purge(gd);\n",
       "            observer.disconnect();\n",
       "        }}\n",
       "}});\n",
       "\n",
       "// Listen for the removal of the full notebook cells\n",
       "var notebookContainer = gd.closest('#notebook-container');\n",
       "if (notebookContainer) {{\n",
       "    x.observe(notebookContainer, {childList: true});\n",
       "}}\n",
       "\n",
       "// Listen for the clearing of the current output cell\n",
       "var outputEl = gd.closest('.output');\n",
       "if (outputEl) {{\n",
       "    x.observe(outputEl, {childList: true});\n",
       "}}\n",
       "\n",
       "                        })\n",
       "                };\n",
       "                });\n",
       "            </script>\n",
       "        </div>"
      ]
     },
     "metadata": {},
     "output_type": "display_data"
    }
   ],
   "source": [
    "fig = go.Figure([go.Bar(x=df2['unigram'], y=df2['count'])])\n",
    "fig.update_layout(title=go.layout.Title(text=\"Top 30 unigrams in the question text after removing stop words and lemmatization\"))\n",
    "fig.show()"
   ]
  },
  {
   "cell_type": "code",
   "execution_count": 103,
   "metadata": {},
   "outputs": [],
   "source": [
    "def get_top_n_bigram(corpus, n=None):\n",
    "    vec = CountVectorizer(ngram_range=(2, 2), stop_words='english').fit(corpus)\n",
    "    bag_of_words = vec.transform(corpus)\n",
    "    sum_words = bag_of_words.sum(axis=0) \n",
    "    words_freq = [(word, sum_words[0, idx]) for word, idx in vec.vocabulary_.items()]\n",
    "    words_freq =sorted(words_freq, key = lambda x: x[1], reverse=True)\n",
    "    return words_freq[:n]\n",
    "common_words = get_top_n_bigram(df_clean['question_lemmatize_clean'], 20)\n",
    "df3 = pd.DataFrame(common_words, columns = ['bigram' , 'count'])"
   ]
  },
  {
   "cell_type": "code",
   "execution_count": 104,
   "metadata": {},
   "outputs": [
    {
     "data": {
      "text/html": [
       "<div>\n",
       "<style scoped>\n",
       "    .dataframe tbody tr th:only-of-type {\n",
       "        vertical-align: middle;\n",
       "    }\n",
       "\n",
       "    .dataframe tbody tr th {\n",
       "        vertical-align: top;\n",
       "    }\n",
       "\n",
       "    .dataframe thead th {\n",
       "        text-align: right;\n",
       "    }\n",
       "</style>\n",
       "<table border=\"1\" class=\"dataframe\">\n",
       "  <thead>\n",
       "    <tr style=\"text-align: right;\">\n",
       "      <th></th>\n",
       "      <th>bigram</th>\n",
       "      <th>count</th>\n",
       "    </tr>\n",
       "  </thead>\n",
       "  <tbody>\n",
       "    <tr>\n",
       "      <td>0</td>\n",
       "      <td>saturn consider</td>\n",
       "      <td>1</td>\n",
       "    </tr>\n",
       "    <tr>\n",
       "      <td>1</td>\n",
       "      <td>consider overestimated</td>\n",
       "      <td>1</td>\n",
       "    </tr>\n",
       "    <tr>\n",
       "      <td>2</td>\n",
       "      <td>overestimated rocket</td>\n",
       "      <td>1</td>\n",
       "    </tr>\n",
       "    <tr>\n",
       "      <td>3</td>\n",
       "      <td>rocket dimensionally</td>\n",
       "      <td>1</td>\n",
       "    </tr>\n",
       "    <tr>\n",
       "      <td>4</td>\n",
       "      <td>dimensionally lunar</td>\n",
       "      <td>1</td>\n",
       "    </tr>\n",
       "    <tr>\n",
       "      <td>5</td>\n",
       "      <td>lunar mission</td>\n",
       "      <td>1</td>\n",
       "    </tr>\n",
       "    <tr>\n",
       "      <td>6</td>\n",
       "      <td>cheap vodka</td>\n",
       "      <td>1</td>\n",
       "    </tr>\n",
       "    <tr>\n",
       "      <td>7</td>\n",
       "      <td>vodka good</td>\n",
       "      <td>1</td>\n",
       "    </tr>\n",
       "    <tr>\n",
       "      <td>8</td>\n",
       "      <td>drunk disorganize</td>\n",
       "      <td>1</td>\n",
       "    </tr>\n",
       "    <tr>\n",
       "      <td>9</td>\n",
       "      <td>disorganize mean</td>\n",
       "      <td>1</td>\n",
       "    </tr>\n",
       "    <tr>\n",
       "      <td>10</td>\n",
       "      <td>prepare isro</td>\n",
       "      <td>1</td>\n",
       "    </tr>\n",
       "    <tr>\n",
       "      <td>11</td>\n",
       "      <td>probation period</td>\n",
       "      <td>1</td>\n",
       "    </tr>\n",
       "    <tr>\n",
       "      <td>12</td>\n",
       "      <td>period ssc</td>\n",
       "      <td>1</td>\n",
       "    </tr>\n",
       "    <tr>\n",
       "      <td>13</td>\n",
       "      <td>ssc cgl</td>\n",
       "      <td>1</td>\n",
       "    </tr>\n",
       "    <tr>\n",
       "      <td>14</td>\n",
       "      <td>cpu flight</td>\n",
       "      <td>1</td>\n",
       "    </tr>\n",
       "    <tr>\n",
       "      <td>15</td>\n",
       "      <td>flight simulation</td>\n",
       "      <td>1</td>\n",
       "    </tr>\n",
       "    <tr>\n",
       "      <td>16</td>\n",
       "      <td>safe hoverboard</td>\n",
       "      <td>1</td>\n",
       "    </tr>\n",
       "    <tr>\n",
       "      <td>17</td>\n",
       "      <td>hoverboard buy</td>\n",
       "      <td>1</td>\n",
       "    </tr>\n",
       "    <tr>\n",
       "      <td>18</td>\n",
       "      <td>change human</td>\n",
       "      <td>1</td>\n",
       "    </tr>\n",
       "    <tr>\n",
       "      <td>19</td>\n",
       "      <td>human model</td>\n",
       "      <td>1</td>\n",
       "    </tr>\n",
       "  </tbody>\n",
       "</table>\n",
       "</div>"
      ],
      "text/plain": [
       "                    bigram  count\n",
       "0          saturn consider      1\n",
       "1   consider overestimated      1\n",
       "2     overestimated rocket      1\n",
       "3     rocket dimensionally      1\n",
       "4      dimensionally lunar      1\n",
       "5            lunar mission      1\n",
       "6              cheap vodka      1\n",
       "7               vodka good      1\n",
       "8        drunk disorganize      1\n",
       "9         disorganize mean      1\n",
       "10            prepare isro      1\n",
       "11        probation period      1\n",
       "12              period ssc      1\n",
       "13                 ssc cgl      1\n",
       "14              cpu flight      1\n",
       "15       flight simulation      1\n",
       "16         safe hoverboard      1\n",
       "17          hoverboard buy      1\n",
       "18            change human      1\n",
       "19             human model      1"
      ]
     },
     "execution_count": 104,
     "metadata": {},
     "output_type": "execute_result"
    }
   ],
   "source": [
    "df3"
   ]
  },
  {
   "cell_type": "code",
   "execution_count": 105,
   "metadata": {},
   "outputs": [
    {
     "data": {
      "application/vnd.plotly.v1+json": {
       "config": {
        "plotlyServerURL": "https://plot.ly"
       },
       "data": [
        {
         "type": "bar",
         "x": [
          "saturn consider",
          "consider overestimated",
          "overestimated rocket",
          "rocket dimensionally",
          "dimensionally lunar",
          "lunar mission",
          "cheap vodka",
          "vodka good",
          "drunk disorganize",
          "disorganize mean",
          "prepare isro",
          "probation period",
          "period ssc",
          "ssc cgl",
          "cpu flight",
          "flight simulation",
          "safe hoverboard",
          "hoverboard buy",
          "change human",
          "human model"
         ],
         "y": [
          1,
          1,
          1,
          1,
          1,
          1,
          1,
          1,
          1,
          1,
          1,
          1,
          1,
          1,
          1,
          1,
          1,
          1,
          1,
          1
         ]
        }
       ],
       "layout": {
        "template": {
         "data": {
          "bar": [
           {
            "error_x": {
             "color": "#2a3f5f"
            },
            "error_y": {
             "color": "#2a3f5f"
            },
            "marker": {
             "line": {
              "color": "#E5ECF6",
              "width": 0.5
             }
            },
            "type": "bar"
           }
          ],
          "barpolar": [
           {
            "marker": {
             "line": {
              "color": "#E5ECF6",
              "width": 0.5
             }
            },
            "type": "barpolar"
           }
          ],
          "carpet": [
           {
            "aaxis": {
             "endlinecolor": "#2a3f5f",
             "gridcolor": "white",
             "linecolor": "white",
             "minorgridcolor": "white",
             "startlinecolor": "#2a3f5f"
            },
            "baxis": {
             "endlinecolor": "#2a3f5f",
             "gridcolor": "white",
             "linecolor": "white",
             "minorgridcolor": "white",
             "startlinecolor": "#2a3f5f"
            },
            "type": "carpet"
           }
          ],
          "choropleth": [
           {
            "colorbar": {
             "outlinewidth": 0,
             "ticks": ""
            },
            "type": "choropleth"
           }
          ],
          "contour": [
           {
            "colorbar": {
             "outlinewidth": 0,
             "ticks": ""
            },
            "colorscale": [
             [
              0,
              "#0d0887"
             ],
             [
              0.1111111111111111,
              "#46039f"
             ],
             [
              0.2222222222222222,
              "#7201a8"
             ],
             [
              0.3333333333333333,
              "#9c179e"
             ],
             [
              0.4444444444444444,
              "#bd3786"
             ],
             [
              0.5555555555555556,
              "#d8576b"
             ],
             [
              0.6666666666666666,
              "#ed7953"
             ],
             [
              0.7777777777777778,
              "#fb9f3a"
             ],
             [
              0.8888888888888888,
              "#fdca26"
             ],
             [
              1,
              "#f0f921"
             ]
            ],
            "type": "contour"
           }
          ],
          "contourcarpet": [
           {
            "colorbar": {
             "outlinewidth": 0,
             "ticks": ""
            },
            "type": "contourcarpet"
           }
          ],
          "heatmap": [
           {
            "colorbar": {
             "outlinewidth": 0,
             "ticks": ""
            },
            "colorscale": [
             [
              0,
              "#0d0887"
             ],
             [
              0.1111111111111111,
              "#46039f"
             ],
             [
              0.2222222222222222,
              "#7201a8"
             ],
             [
              0.3333333333333333,
              "#9c179e"
             ],
             [
              0.4444444444444444,
              "#bd3786"
             ],
             [
              0.5555555555555556,
              "#d8576b"
             ],
             [
              0.6666666666666666,
              "#ed7953"
             ],
             [
              0.7777777777777778,
              "#fb9f3a"
             ],
             [
              0.8888888888888888,
              "#fdca26"
             ],
             [
              1,
              "#f0f921"
             ]
            ],
            "type": "heatmap"
           }
          ],
          "heatmapgl": [
           {
            "colorbar": {
             "outlinewidth": 0,
             "ticks": ""
            },
            "colorscale": [
             [
              0,
              "#0d0887"
             ],
             [
              0.1111111111111111,
              "#46039f"
             ],
             [
              0.2222222222222222,
              "#7201a8"
             ],
             [
              0.3333333333333333,
              "#9c179e"
             ],
             [
              0.4444444444444444,
              "#bd3786"
             ],
             [
              0.5555555555555556,
              "#d8576b"
             ],
             [
              0.6666666666666666,
              "#ed7953"
             ],
             [
              0.7777777777777778,
              "#fb9f3a"
             ],
             [
              0.8888888888888888,
              "#fdca26"
             ],
             [
              1,
              "#f0f921"
             ]
            ],
            "type": "heatmapgl"
           }
          ],
          "histogram": [
           {
            "marker": {
             "colorbar": {
              "outlinewidth": 0,
              "ticks": ""
             }
            },
            "type": "histogram"
           }
          ],
          "histogram2d": [
           {
            "colorbar": {
             "outlinewidth": 0,
             "ticks": ""
            },
            "colorscale": [
             [
              0,
              "#0d0887"
             ],
             [
              0.1111111111111111,
              "#46039f"
             ],
             [
              0.2222222222222222,
              "#7201a8"
             ],
             [
              0.3333333333333333,
              "#9c179e"
             ],
             [
              0.4444444444444444,
              "#bd3786"
             ],
             [
              0.5555555555555556,
              "#d8576b"
             ],
             [
              0.6666666666666666,
              "#ed7953"
             ],
             [
              0.7777777777777778,
              "#fb9f3a"
             ],
             [
              0.8888888888888888,
              "#fdca26"
             ],
             [
              1,
              "#f0f921"
             ]
            ],
            "type": "histogram2d"
           }
          ],
          "histogram2dcontour": [
           {
            "colorbar": {
             "outlinewidth": 0,
             "ticks": ""
            },
            "colorscale": [
             [
              0,
              "#0d0887"
             ],
             [
              0.1111111111111111,
              "#46039f"
             ],
             [
              0.2222222222222222,
              "#7201a8"
             ],
             [
              0.3333333333333333,
              "#9c179e"
             ],
             [
              0.4444444444444444,
              "#bd3786"
             ],
             [
              0.5555555555555556,
              "#d8576b"
             ],
             [
              0.6666666666666666,
              "#ed7953"
             ],
             [
              0.7777777777777778,
              "#fb9f3a"
             ],
             [
              0.8888888888888888,
              "#fdca26"
             ],
             [
              1,
              "#f0f921"
             ]
            ],
            "type": "histogram2dcontour"
           }
          ],
          "mesh3d": [
           {
            "colorbar": {
             "outlinewidth": 0,
             "ticks": ""
            },
            "type": "mesh3d"
           }
          ],
          "parcoords": [
           {
            "line": {
             "colorbar": {
              "outlinewidth": 0,
              "ticks": ""
             }
            },
            "type": "parcoords"
           }
          ],
          "pie": [
           {
            "automargin": true,
            "type": "pie"
           }
          ],
          "scatter": [
           {
            "marker": {
             "colorbar": {
              "outlinewidth": 0,
              "ticks": ""
             }
            },
            "type": "scatter"
           }
          ],
          "scatter3d": [
           {
            "line": {
             "colorbar": {
              "outlinewidth": 0,
              "ticks": ""
             }
            },
            "marker": {
             "colorbar": {
              "outlinewidth": 0,
              "ticks": ""
             }
            },
            "type": "scatter3d"
           }
          ],
          "scattercarpet": [
           {
            "marker": {
             "colorbar": {
              "outlinewidth": 0,
              "ticks": ""
             }
            },
            "type": "scattercarpet"
           }
          ],
          "scattergeo": [
           {
            "marker": {
             "colorbar": {
              "outlinewidth": 0,
              "ticks": ""
             }
            },
            "type": "scattergeo"
           }
          ],
          "scattergl": [
           {
            "marker": {
             "colorbar": {
              "outlinewidth": 0,
              "ticks": ""
             }
            },
            "type": "scattergl"
           }
          ],
          "scattermapbox": [
           {
            "marker": {
             "colorbar": {
              "outlinewidth": 0,
              "ticks": ""
             }
            },
            "type": "scattermapbox"
           }
          ],
          "scatterpolar": [
           {
            "marker": {
             "colorbar": {
              "outlinewidth": 0,
              "ticks": ""
             }
            },
            "type": "scatterpolar"
           }
          ],
          "scatterpolargl": [
           {
            "marker": {
             "colorbar": {
              "outlinewidth": 0,
              "ticks": ""
             }
            },
            "type": "scatterpolargl"
           }
          ],
          "scatterternary": [
           {
            "marker": {
             "colorbar": {
              "outlinewidth": 0,
              "ticks": ""
             }
            },
            "type": "scatterternary"
           }
          ],
          "surface": [
           {
            "colorbar": {
             "outlinewidth": 0,
             "ticks": ""
            },
            "colorscale": [
             [
              0,
              "#0d0887"
             ],
             [
              0.1111111111111111,
              "#46039f"
             ],
             [
              0.2222222222222222,
              "#7201a8"
             ],
             [
              0.3333333333333333,
              "#9c179e"
             ],
             [
              0.4444444444444444,
              "#bd3786"
             ],
             [
              0.5555555555555556,
              "#d8576b"
             ],
             [
              0.6666666666666666,
              "#ed7953"
             ],
             [
              0.7777777777777778,
              "#fb9f3a"
             ],
             [
              0.8888888888888888,
              "#fdca26"
             ],
             [
              1,
              "#f0f921"
             ]
            ],
            "type": "surface"
           }
          ],
          "table": [
           {
            "cells": {
             "fill": {
              "color": "#EBF0F8"
             },
             "line": {
              "color": "white"
             }
            },
            "header": {
             "fill": {
              "color": "#C8D4E3"
             },
             "line": {
              "color": "white"
             }
            },
            "type": "table"
           }
          ]
         },
         "layout": {
          "annotationdefaults": {
           "arrowcolor": "#2a3f5f",
           "arrowhead": 0,
           "arrowwidth": 1
          },
          "coloraxis": {
           "colorbar": {
            "outlinewidth": 0,
            "ticks": ""
           }
          },
          "colorscale": {
           "diverging": [
            [
             0,
             "#8e0152"
            ],
            [
             0.1,
             "#c51b7d"
            ],
            [
             0.2,
             "#de77ae"
            ],
            [
             0.3,
             "#f1b6da"
            ],
            [
             0.4,
             "#fde0ef"
            ],
            [
             0.5,
             "#f7f7f7"
            ],
            [
             0.6,
             "#e6f5d0"
            ],
            [
             0.7,
             "#b8e186"
            ],
            [
             0.8,
             "#7fbc41"
            ],
            [
             0.9,
             "#4d9221"
            ],
            [
             1,
             "#276419"
            ]
           ],
           "sequential": [
            [
             0,
             "#0d0887"
            ],
            [
             0.1111111111111111,
             "#46039f"
            ],
            [
             0.2222222222222222,
             "#7201a8"
            ],
            [
             0.3333333333333333,
             "#9c179e"
            ],
            [
             0.4444444444444444,
             "#bd3786"
            ],
            [
             0.5555555555555556,
             "#d8576b"
            ],
            [
             0.6666666666666666,
             "#ed7953"
            ],
            [
             0.7777777777777778,
             "#fb9f3a"
            ],
            [
             0.8888888888888888,
             "#fdca26"
            ],
            [
             1,
             "#f0f921"
            ]
           ],
           "sequentialminus": [
            [
             0,
             "#0d0887"
            ],
            [
             0.1111111111111111,
             "#46039f"
            ],
            [
             0.2222222222222222,
             "#7201a8"
            ],
            [
             0.3333333333333333,
             "#9c179e"
            ],
            [
             0.4444444444444444,
             "#bd3786"
            ],
            [
             0.5555555555555556,
             "#d8576b"
            ],
            [
             0.6666666666666666,
             "#ed7953"
            ],
            [
             0.7777777777777778,
             "#fb9f3a"
            ],
            [
             0.8888888888888888,
             "#fdca26"
            ],
            [
             1,
             "#f0f921"
            ]
           ]
          },
          "colorway": [
           "#636efa",
           "#EF553B",
           "#00cc96",
           "#ab63fa",
           "#FFA15A",
           "#19d3f3",
           "#FF6692",
           "#B6E880",
           "#FF97FF",
           "#FECB52"
          ],
          "font": {
           "color": "#2a3f5f"
          },
          "geo": {
           "bgcolor": "white",
           "lakecolor": "white",
           "landcolor": "#E5ECF6",
           "showlakes": true,
           "showland": true,
           "subunitcolor": "white"
          },
          "hoverlabel": {
           "align": "left"
          },
          "hovermode": "closest",
          "mapbox": {
           "style": "light"
          },
          "paper_bgcolor": "white",
          "plot_bgcolor": "#E5ECF6",
          "polar": {
           "angularaxis": {
            "gridcolor": "white",
            "linecolor": "white",
            "ticks": ""
           },
           "bgcolor": "#E5ECF6",
           "radialaxis": {
            "gridcolor": "white",
            "linecolor": "white",
            "ticks": ""
           }
          },
          "scene": {
           "xaxis": {
            "backgroundcolor": "#E5ECF6",
            "gridcolor": "white",
            "gridwidth": 2,
            "linecolor": "white",
            "showbackground": true,
            "ticks": "",
            "zerolinecolor": "white"
           },
           "yaxis": {
            "backgroundcolor": "#E5ECF6",
            "gridcolor": "white",
            "gridwidth": 2,
            "linecolor": "white",
            "showbackground": true,
            "ticks": "",
            "zerolinecolor": "white"
           },
           "zaxis": {
            "backgroundcolor": "#E5ECF6",
            "gridcolor": "white",
            "gridwidth": 2,
            "linecolor": "white",
            "showbackground": true,
            "ticks": "",
            "zerolinecolor": "white"
           }
          },
          "shapedefaults": {
           "line": {
            "color": "#2a3f5f"
           }
          },
          "ternary": {
           "aaxis": {
            "gridcolor": "white",
            "linecolor": "white",
            "ticks": ""
           },
           "baxis": {
            "gridcolor": "white",
            "linecolor": "white",
            "ticks": ""
           },
           "bgcolor": "#E5ECF6",
           "caxis": {
            "gridcolor": "white",
            "linecolor": "white",
            "ticks": ""
           }
          },
          "title": {
           "x": 0.05
          },
          "xaxis": {
           "automargin": true,
           "gridcolor": "white",
           "linecolor": "white",
           "ticks": "",
           "title": {
            "standoff": 15
           },
           "zerolinecolor": "white",
           "zerolinewidth": 2
          },
          "yaxis": {
           "automargin": true,
           "gridcolor": "white",
           "linecolor": "white",
           "ticks": "",
           "title": {
            "standoff": 15
           },
           "zerolinecolor": "white",
           "zerolinewidth": 2
          }
         }
        },
        "title": {
         "text": "Top 20 bigrams in the question text after removing stop words and lemmatization"
        }
       }
      },
      "text/html": [
       "<div>\n",
       "        \n",
       "        \n",
       "            <div id=\"eb06074d-3902-421a-a6cb-1a532af8e49a\" class=\"plotly-graph-div\" style=\"height:525px; width:100%;\"></div>\n",
       "            <script type=\"text/javascript\">\n",
       "                require([\"plotly\"], function(Plotly) {\n",
       "                    window.PLOTLYENV=window.PLOTLYENV || {};\n",
       "                    \n",
       "                if (document.getElementById(\"eb06074d-3902-421a-a6cb-1a532af8e49a\")) {\n",
       "                    Plotly.newPlot(\n",
       "                        'eb06074d-3902-421a-a6cb-1a532af8e49a',\n",
       "                        [{\"type\": \"bar\", \"x\": [\"saturn consider\", \"consider overestimated\", \"overestimated rocket\", \"rocket dimensionally\", \"dimensionally lunar\", \"lunar mission\", \"cheap vodka\", \"vodka good\", \"drunk disorganize\", \"disorganize mean\", \"prepare isro\", \"probation period\", \"period ssc\", \"ssc cgl\", \"cpu flight\", \"flight simulation\", \"safe hoverboard\", \"hoverboard buy\", \"change human\", \"human model\"], \"y\": [1, 1, 1, 1, 1, 1, 1, 1, 1, 1, 1, 1, 1, 1, 1, 1, 1, 1, 1, 1]}],\n",
       "                        {\"template\": {\"data\": {\"bar\": [{\"error_x\": {\"color\": \"#2a3f5f\"}, \"error_y\": {\"color\": \"#2a3f5f\"}, \"marker\": {\"line\": {\"color\": \"#E5ECF6\", \"width\": 0.5}}, \"type\": \"bar\"}], \"barpolar\": [{\"marker\": {\"line\": {\"color\": \"#E5ECF6\", \"width\": 0.5}}, \"type\": \"barpolar\"}], \"carpet\": [{\"aaxis\": {\"endlinecolor\": \"#2a3f5f\", \"gridcolor\": \"white\", \"linecolor\": \"white\", \"minorgridcolor\": \"white\", \"startlinecolor\": \"#2a3f5f\"}, \"baxis\": {\"endlinecolor\": \"#2a3f5f\", \"gridcolor\": \"white\", \"linecolor\": \"white\", \"minorgridcolor\": \"white\", \"startlinecolor\": \"#2a3f5f\"}, \"type\": \"carpet\"}], \"choropleth\": [{\"colorbar\": {\"outlinewidth\": 0, \"ticks\": \"\"}, \"type\": \"choropleth\"}], \"contour\": [{\"colorbar\": {\"outlinewidth\": 0, \"ticks\": \"\"}, \"colorscale\": [[0.0, \"#0d0887\"], [0.1111111111111111, \"#46039f\"], [0.2222222222222222, \"#7201a8\"], [0.3333333333333333, \"#9c179e\"], [0.4444444444444444, \"#bd3786\"], [0.5555555555555556, \"#d8576b\"], [0.6666666666666666, \"#ed7953\"], [0.7777777777777778, \"#fb9f3a\"], [0.8888888888888888, \"#fdca26\"], [1.0, \"#f0f921\"]], \"type\": \"contour\"}], \"contourcarpet\": [{\"colorbar\": {\"outlinewidth\": 0, \"ticks\": \"\"}, \"type\": \"contourcarpet\"}], \"heatmap\": [{\"colorbar\": {\"outlinewidth\": 0, \"ticks\": \"\"}, \"colorscale\": [[0.0, \"#0d0887\"], [0.1111111111111111, \"#46039f\"], [0.2222222222222222, \"#7201a8\"], [0.3333333333333333, \"#9c179e\"], [0.4444444444444444, \"#bd3786\"], [0.5555555555555556, \"#d8576b\"], [0.6666666666666666, \"#ed7953\"], [0.7777777777777778, \"#fb9f3a\"], [0.8888888888888888, \"#fdca26\"], [1.0, \"#f0f921\"]], \"type\": \"heatmap\"}], \"heatmapgl\": [{\"colorbar\": {\"outlinewidth\": 0, \"ticks\": \"\"}, \"colorscale\": [[0.0, \"#0d0887\"], [0.1111111111111111, \"#46039f\"], [0.2222222222222222, \"#7201a8\"], [0.3333333333333333, \"#9c179e\"], [0.4444444444444444, \"#bd3786\"], [0.5555555555555556, \"#d8576b\"], [0.6666666666666666, \"#ed7953\"], [0.7777777777777778, \"#fb9f3a\"], [0.8888888888888888, \"#fdca26\"], [1.0, \"#f0f921\"]], \"type\": \"heatmapgl\"}], \"histogram\": [{\"marker\": {\"colorbar\": {\"outlinewidth\": 0, \"ticks\": \"\"}}, \"type\": \"histogram\"}], \"histogram2d\": [{\"colorbar\": {\"outlinewidth\": 0, \"ticks\": \"\"}, \"colorscale\": [[0.0, \"#0d0887\"], [0.1111111111111111, \"#46039f\"], [0.2222222222222222, \"#7201a8\"], [0.3333333333333333, \"#9c179e\"], [0.4444444444444444, \"#bd3786\"], [0.5555555555555556, \"#d8576b\"], [0.6666666666666666, \"#ed7953\"], [0.7777777777777778, \"#fb9f3a\"], [0.8888888888888888, \"#fdca26\"], [1.0, \"#f0f921\"]], \"type\": \"histogram2d\"}], \"histogram2dcontour\": [{\"colorbar\": {\"outlinewidth\": 0, \"ticks\": \"\"}, \"colorscale\": [[0.0, \"#0d0887\"], [0.1111111111111111, \"#46039f\"], [0.2222222222222222, \"#7201a8\"], [0.3333333333333333, \"#9c179e\"], [0.4444444444444444, \"#bd3786\"], [0.5555555555555556, \"#d8576b\"], [0.6666666666666666, \"#ed7953\"], [0.7777777777777778, \"#fb9f3a\"], [0.8888888888888888, \"#fdca26\"], [1.0, \"#f0f921\"]], \"type\": \"histogram2dcontour\"}], \"mesh3d\": [{\"colorbar\": {\"outlinewidth\": 0, \"ticks\": \"\"}, \"type\": \"mesh3d\"}], \"parcoords\": [{\"line\": {\"colorbar\": {\"outlinewidth\": 0, \"ticks\": \"\"}}, \"type\": \"parcoords\"}], \"pie\": [{\"automargin\": true, \"type\": \"pie\"}], \"scatter\": [{\"marker\": {\"colorbar\": {\"outlinewidth\": 0, \"ticks\": \"\"}}, \"type\": \"scatter\"}], \"scatter3d\": [{\"line\": {\"colorbar\": {\"outlinewidth\": 0, \"ticks\": \"\"}}, \"marker\": {\"colorbar\": {\"outlinewidth\": 0, \"ticks\": \"\"}}, \"type\": \"scatter3d\"}], \"scattercarpet\": [{\"marker\": {\"colorbar\": {\"outlinewidth\": 0, \"ticks\": \"\"}}, \"type\": \"scattercarpet\"}], \"scattergeo\": [{\"marker\": {\"colorbar\": {\"outlinewidth\": 0, \"ticks\": \"\"}}, \"type\": \"scattergeo\"}], \"scattergl\": [{\"marker\": {\"colorbar\": {\"outlinewidth\": 0, \"ticks\": \"\"}}, \"type\": \"scattergl\"}], \"scattermapbox\": [{\"marker\": {\"colorbar\": {\"outlinewidth\": 0, \"ticks\": \"\"}}, \"type\": \"scattermapbox\"}], \"scatterpolar\": [{\"marker\": {\"colorbar\": {\"outlinewidth\": 0, \"ticks\": \"\"}}, \"type\": \"scatterpolar\"}], \"scatterpolargl\": [{\"marker\": {\"colorbar\": {\"outlinewidth\": 0, \"ticks\": \"\"}}, \"type\": \"scatterpolargl\"}], \"scatterternary\": [{\"marker\": {\"colorbar\": {\"outlinewidth\": 0, \"ticks\": \"\"}}, \"type\": \"scatterternary\"}], \"surface\": [{\"colorbar\": {\"outlinewidth\": 0, \"ticks\": \"\"}, \"colorscale\": [[0.0, \"#0d0887\"], [0.1111111111111111, \"#46039f\"], [0.2222222222222222, \"#7201a8\"], [0.3333333333333333, \"#9c179e\"], [0.4444444444444444, \"#bd3786\"], [0.5555555555555556, \"#d8576b\"], [0.6666666666666666, \"#ed7953\"], [0.7777777777777778, \"#fb9f3a\"], [0.8888888888888888, \"#fdca26\"], [1.0, \"#f0f921\"]], \"type\": \"surface\"}], \"table\": [{\"cells\": {\"fill\": {\"color\": \"#EBF0F8\"}, \"line\": {\"color\": \"white\"}}, \"header\": {\"fill\": {\"color\": \"#C8D4E3\"}, \"line\": {\"color\": \"white\"}}, \"type\": \"table\"}]}, \"layout\": {\"annotationdefaults\": {\"arrowcolor\": \"#2a3f5f\", \"arrowhead\": 0, \"arrowwidth\": 1}, \"coloraxis\": {\"colorbar\": {\"outlinewidth\": 0, \"ticks\": \"\"}}, \"colorscale\": {\"diverging\": [[0, \"#8e0152\"], [0.1, \"#c51b7d\"], [0.2, \"#de77ae\"], [0.3, \"#f1b6da\"], [0.4, \"#fde0ef\"], [0.5, \"#f7f7f7\"], [0.6, \"#e6f5d0\"], [0.7, \"#b8e186\"], [0.8, \"#7fbc41\"], [0.9, \"#4d9221\"], [1, \"#276419\"]], \"sequential\": [[0.0, \"#0d0887\"], [0.1111111111111111, \"#46039f\"], [0.2222222222222222, \"#7201a8\"], [0.3333333333333333, \"#9c179e\"], [0.4444444444444444, \"#bd3786\"], [0.5555555555555556, \"#d8576b\"], [0.6666666666666666, \"#ed7953\"], [0.7777777777777778, \"#fb9f3a\"], [0.8888888888888888, \"#fdca26\"], [1.0, \"#f0f921\"]], \"sequentialminus\": [[0.0, \"#0d0887\"], [0.1111111111111111, \"#46039f\"], [0.2222222222222222, \"#7201a8\"], [0.3333333333333333, \"#9c179e\"], [0.4444444444444444, \"#bd3786\"], [0.5555555555555556, \"#d8576b\"], [0.6666666666666666, \"#ed7953\"], [0.7777777777777778, \"#fb9f3a\"], [0.8888888888888888, \"#fdca26\"], [1.0, \"#f0f921\"]]}, \"colorway\": [\"#636efa\", \"#EF553B\", \"#00cc96\", \"#ab63fa\", \"#FFA15A\", \"#19d3f3\", \"#FF6692\", \"#B6E880\", \"#FF97FF\", \"#FECB52\"], \"font\": {\"color\": \"#2a3f5f\"}, \"geo\": {\"bgcolor\": \"white\", \"lakecolor\": \"white\", \"landcolor\": \"#E5ECF6\", \"showlakes\": true, \"showland\": true, \"subunitcolor\": \"white\"}, \"hoverlabel\": {\"align\": \"left\"}, \"hovermode\": \"closest\", \"mapbox\": {\"style\": \"light\"}, \"paper_bgcolor\": \"white\", \"plot_bgcolor\": \"#E5ECF6\", \"polar\": {\"angularaxis\": {\"gridcolor\": \"white\", \"linecolor\": \"white\", \"ticks\": \"\"}, \"bgcolor\": \"#E5ECF6\", \"radialaxis\": {\"gridcolor\": \"white\", \"linecolor\": \"white\", \"ticks\": \"\"}}, \"scene\": {\"xaxis\": {\"backgroundcolor\": \"#E5ECF6\", \"gridcolor\": \"white\", \"gridwidth\": 2, \"linecolor\": \"white\", \"showbackground\": true, \"ticks\": \"\", \"zerolinecolor\": \"white\"}, \"yaxis\": {\"backgroundcolor\": \"#E5ECF6\", \"gridcolor\": \"white\", \"gridwidth\": 2, \"linecolor\": \"white\", \"showbackground\": true, \"ticks\": \"\", \"zerolinecolor\": \"white\"}, \"zaxis\": {\"backgroundcolor\": \"#E5ECF6\", \"gridcolor\": \"white\", \"gridwidth\": 2, \"linecolor\": \"white\", \"showbackground\": true, \"ticks\": \"\", \"zerolinecolor\": \"white\"}}, \"shapedefaults\": {\"line\": {\"color\": \"#2a3f5f\"}}, \"ternary\": {\"aaxis\": {\"gridcolor\": \"white\", \"linecolor\": \"white\", \"ticks\": \"\"}, \"baxis\": {\"gridcolor\": \"white\", \"linecolor\": \"white\", \"ticks\": \"\"}, \"bgcolor\": \"#E5ECF6\", \"caxis\": {\"gridcolor\": \"white\", \"linecolor\": \"white\", \"ticks\": \"\"}}, \"title\": {\"x\": 0.05}, \"xaxis\": {\"automargin\": true, \"gridcolor\": \"white\", \"linecolor\": \"white\", \"ticks\": \"\", \"title\": {\"standoff\": 15}, \"zerolinecolor\": \"white\", \"zerolinewidth\": 2}, \"yaxis\": {\"automargin\": true, \"gridcolor\": \"white\", \"linecolor\": \"white\", \"ticks\": \"\", \"title\": {\"standoff\": 15}, \"zerolinecolor\": \"white\", \"zerolinewidth\": 2}}}, \"title\": {\"text\": \"Top 20 bigrams in the question text after removing stop words and lemmatization\"}},\n",
       "                        {\"responsive\": true}\n",
       "                    ).then(function(){\n",
       "                            \n",
       "var gd = document.getElementById('eb06074d-3902-421a-a6cb-1a532af8e49a');\n",
       "var x = new MutationObserver(function (mutations, observer) {{\n",
       "        var display = window.getComputedStyle(gd).display;\n",
       "        if (!display || display === 'none') {{\n",
       "            console.log([gd, 'removed!']);\n",
       "            Plotly.purge(gd);\n",
       "            observer.disconnect();\n",
       "        }}\n",
       "}});\n",
       "\n",
       "// Listen for the removal of the full notebook cells\n",
       "var notebookContainer = gd.closest('#notebook-container');\n",
       "if (notebookContainer) {{\n",
       "    x.observe(notebookContainer, {childList: true});\n",
       "}}\n",
       "\n",
       "// Listen for the clearing of the current output cell\n",
       "var outputEl = gd.closest('.output');\n",
       "if (outputEl) {{\n",
       "    x.observe(outputEl, {childList: true});\n",
       "}}\n",
       "\n",
       "                        })\n",
       "                };\n",
       "                });\n",
       "            </script>\n",
       "        </div>"
      ]
     },
     "metadata": {},
     "output_type": "display_data"
    }
   ],
   "source": [
    "fig = go.Figure([go.Bar(x=df3['bigram'], y=df3['count'])])\n",
    "fig.update_layout(title=go.layout.Title(text=\"Top 20 bigrams in the question text after removing stop words and lemmatization\"))\n",
    "fig.show()"
   ]
  },
  {
   "cell_type": "code",
   "execution_count": 106,
   "metadata": {},
   "outputs": [],
   "source": [
    "def get_top_n_trigram(corpus, n=None):\n",
    "    vec = CountVectorizer(ngram_range=(3, 3), stop_words='english').fit(corpus)\n",
    "    bag_of_words = vec.transform(corpus)\n",
    "    sum_words = bag_of_words.sum(axis=0) \n",
    "    words_freq = [(word, sum_words[0, idx]) for word, idx in vec.vocabulary_.items()]\n",
    "    words_freq =sorted(words_freq, key = lambda x: x[1], reverse=True)\n",
    "    return words_freq[:n]\n",
    "common_words = get_top_n_trigram(df_clean['question_lemmatize_clean'], 20)\n",
    "df4 = pd.DataFrame(common_words, columns = ['trigram' , 'count'])"
   ]
  },
  {
   "cell_type": "code",
   "execution_count": 107,
   "metadata": {},
   "outputs": [
    {
     "data": {
      "text/html": [
       "<div>\n",
       "<style scoped>\n",
       "    .dataframe tbody tr th:only-of-type {\n",
       "        vertical-align: middle;\n",
       "    }\n",
       "\n",
       "    .dataframe tbody tr th {\n",
       "        vertical-align: top;\n",
       "    }\n",
       "\n",
       "    .dataframe thead th {\n",
       "        text-align: right;\n",
       "    }\n",
       "</style>\n",
       "<table border=\"1\" class=\"dataframe\">\n",
       "  <thead>\n",
       "    <tr style=\"text-align: right;\">\n",
       "      <th></th>\n",
       "      <th>trigram</th>\n",
       "      <th>count</th>\n",
       "    </tr>\n",
       "  </thead>\n",
       "  <tbody>\n",
       "    <tr>\n",
       "      <td>0</td>\n",
       "      <td>saturn consider overestimated</td>\n",
       "      <td>1</td>\n",
       "    </tr>\n",
       "    <tr>\n",
       "      <td>1</td>\n",
       "      <td>consider overestimated rocket</td>\n",
       "      <td>1</td>\n",
       "    </tr>\n",
       "    <tr>\n",
       "      <td>2</td>\n",
       "      <td>overestimated rocket dimensionally</td>\n",
       "      <td>1</td>\n",
       "    </tr>\n",
       "    <tr>\n",
       "      <td>3</td>\n",
       "      <td>rocket dimensionally lunar</td>\n",
       "      <td>1</td>\n",
       "    </tr>\n",
       "    <tr>\n",
       "      <td>4</td>\n",
       "      <td>dimensionally lunar mission</td>\n",
       "      <td>1</td>\n",
       "    </tr>\n",
       "    <tr>\n",
       "      <td>5</td>\n",
       "      <td>cheap vodka good</td>\n",
       "      <td>1</td>\n",
       "    </tr>\n",
       "    <tr>\n",
       "      <td>6</td>\n",
       "      <td>drunk disorganize mean</td>\n",
       "      <td>1</td>\n",
       "    </tr>\n",
       "    <tr>\n",
       "      <td>7</td>\n",
       "      <td>probation period ssc</td>\n",
       "      <td>1</td>\n",
       "    </tr>\n",
       "    <tr>\n",
       "      <td>8</td>\n",
       "      <td>period ssc cgl</td>\n",
       "      <td>1</td>\n",
       "    </tr>\n",
       "    <tr>\n",
       "      <td>9</td>\n",
       "      <td>cpu flight simulation</td>\n",
       "      <td>1</td>\n",
       "    </tr>\n",
       "    <tr>\n",
       "      <td>10</td>\n",
       "      <td>safe hoverboard buy</td>\n",
       "      <td>1</td>\n",
       "    </tr>\n",
       "    <tr>\n",
       "      <td>11</td>\n",
       "      <td>change human model</td>\n",
       "      <td>1</td>\n",
       "    </tr>\n",
       "    <tr>\n",
       "      <td>12</td>\n",
       "      <td>human model far</td>\n",
       "      <td>1</td>\n",
       "    </tr>\n",
       "    <tr>\n",
       "      <td>13</td>\n",
       "      <td>model far ingestion</td>\n",
       "      <td>1</td>\n",
       "    </tr>\n",
       "    <tr>\n",
       "      <td>14</td>\n",
       "      <td>far ingestion digestion</td>\n",
       "      <td>1</td>\n",
       "    </tr>\n",
       "    <tr>\n",
       "      <td>15</td>\n",
       "      <td>ingestion digestion excretion</td>\n",
       "      <td>1</td>\n",
       "    </tr>\n",
       "    <tr>\n",
       "      <td>16</td>\n",
       "      <td>digestion excretion concern</td>\n",
       "      <td>1</td>\n",
       "    </tr>\n",
       "    <tr>\n",
       "      <td>17</td>\n",
       "      <td>excretion concern jeopardise</td>\n",
       "      <td>1</td>\n",
       "    </tr>\n",
       "    <tr>\n",
       "      <td>18</td>\n",
       "      <td>concern jeopardise human</td>\n",
       "      <td>1</td>\n",
       "    </tr>\n",
       "    <tr>\n",
       "      <td>19</td>\n",
       "      <td>jeopardise human life</td>\n",
       "      <td>1</td>\n",
       "    </tr>\n",
       "  </tbody>\n",
       "</table>\n",
       "</div>"
      ],
      "text/plain": [
       "                               trigram  count\n",
       "0        saturn consider overestimated      1\n",
       "1        consider overestimated rocket      1\n",
       "2   overestimated rocket dimensionally      1\n",
       "3           rocket dimensionally lunar      1\n",
       "4          dimensionally lunar mission      1\n",
       "5                     cheap vodka good      1\n",
       "6               drunk disorganize mean      1\n",
       "7                 probation period ssc      1\n",
       "8                       period ssc cgl      1\n",
       "9                cpu flight simulation      1\n",
       "10                 safe hoverboard buy      1\n",
       "11                  change human model      1\n",
       "12                     human model far      1\n",
       "13                 model far ingestion      1\n",
       "14             far ingestion digestion      1\n",
       "15       ingestion digestion excretion      1\n",
       "16         digestion excretion concern      1\n",
       "17        excretion concern jeopardise      1\n",
       "18            concern jeopardise human      1\n",
       "19               jeopardise human life      1"
      ]
     },
     "execution_count": 107,
     "metadata": {},
     "output_type": "execute_result"
    }
   ],
   "source": [
    "df4"
   ]
  },
  {
   "cell_type": "code",
   "execution_count": 108,
   "metadata": {},
   "outputs": [
    {
     "data": {
      "application/vnd.plotly.v1+json": {
       "config": {
        "plotlyServerURL": "https://plot.ly"
       },
       "data": [
        {
         "type": "bar",
         "x": [
          "saturn consider overestimated",
          "consider overestimated rocket",
          "overestimated rocket dimensionally",
          "rocket dimensionally lunar",
          "dimensionally lunar mission",
          "cheap vodka good",
          "drunk disorganize mean",
          "probation period ssc",
          "period ssc cgl",
          "cpu flight simulation",
          "safe hoverboard buy",
          "change human model",
          "human model far",
          "model far ingestion",
          "far ingestion digestion",
          "ingestion digestion excretion",
          "digestion excretion concern",
          "excretion concern jeopardise",
          "concern jeopardise human",
          "jeopardise human life"
         ],
         "y": [
          1,
          1,
          1,
          1,
          1,
          1,
          1,
          1,
          1,
          1,
          1,
          1,
          1,
          1,
          1,
          1,
          1,
          1,
          1,
          1
         ]
        }
       ],
       "layout": {
        "template": {
         "data": {
          "bar": [
           {
            "error_x": {
             "color": "#2a3f5f"
            },
            "error_y": {
             "color": "#2a3f5f"
            },
            "marker": {
             "line": {
              "color": "#E5ECF6",
              "width": 0.5
             }
            },
            "type": "bar"
           }
          ],
          "barpolar": [
           {
            "marker": {
             "line": {
              "color": "#E5ECF6",
              "width": 0.5
             }
            },
            "type": "barpolar"
           }
          ],
          "carpet": [
           {
            "aaxis": {
             "endlinecolor": "#2a3f5f",
             "gridcolor": "white",
             "linecolor": "white",
             "minorgridcolor": "white",
             "startlinecolor": "#2a3f5f"
            },
            "baxis": {
             "endlinecolor": "#2a3f5f",
             "gridcolor": "white",
             "linecolor": "white",
             "minorgridcolor": "white",
             "startlinecolor": "#2a3f5f"
            },
            "type": "carpet"
           }
          ],
          "choropleth": [
           {
            "colorbar": {
             "outlinewidth": 0,
             "ticks": ""
            },
            "type": "choropleth"
           }
          ],
          "contour": [
           {
            "colorbar": {
             "outlinewidth": 0,
             "ticks": ""
            },
            "colorscale": [
             [
              0,
              "#0d0887"
             ],
             [
              0.1111111111111111,
              "#46039f"
             ],
             [
              0.2222222222222222,
              "#7201a8"
             ],
             [
              0.3333333333333333,
              "#9c179e"
             ],
             [
              0.4444444444444444,
              "#bd3786"
             ],
             [
              0.5555555555555556,
              "#d8576b"
             ],
             [
              0.6666666666666666,
              "#ed7953"
             ],
             [
              0.7777777777777778,
              "#fb9f3a"
             ],
             [
              0.8888888888888888,
              "#fdca26"
             ],
             [
              1,
              "#f0f921"
             ]
            ],
            "type": "contour"
           }
          ],
          "contourcarpet": [
           {
            "colorbar": {
             "outlinewidth": 0,
             "ticks": ""
            },
            "type": "contourcarpet"
           }
          ],
          "heatmap": [
           {
            "colorbar": {
             "outlinewidth": 0,
             "ticks": ""
            },
            "colorscale": [
             [
              0,
              "#0d0887"
             ],
             [
              0.1111111111111111,
              "#46039f"
             ],
             [
              0.2222222222222222,
              "#7201a8"
             ],
             [
              0.3333333333333333,
              "#9c179e"
             ],
             [
              0.4444444444444444,
              "#bd3786"
             ],
             [
              0.5555555555555556,
              "#d8576b"
             ],
             [
              0.6666666666666666,
              "#ed7953"
             ],
             [
              0.7777777777777778,
              "#fb9f3a"
             ],
             [
              0.8888888888888888,
              "#fdca26"
             ],
             [
              1,
              "#f0f921"
             ]
            ],
            "type": "heatmap"
           }
          ],
          "heatmapgl": [
           {
            "colorbar": {
             "outlinewidth": 0,
             "ticks": ""
            },
            "colorscale": [
             [
              0,
              "#0d0887"
             ],
             [
              0.1111111111111111,
              "#46039f"
             ],
             [
              0.2222222222222222,
              "#7201a8"
             ],
             [
              0.3333333333333333,
              "#9c179e"
             ],
             [
              0.4444444444444444,
              "#bd3786"
             ],
             [
              0.5555555555555556,
              "#d8576b"
             ],
             [
              0.6666666666666666,
              "#ed7953"
             ],
             [
              0.7777777777777778,
              "#fb9f3a"
             ],
             [
              0.8888888888888888,
              "#fdca26"
             ],
             [
              1,
              "#f0f921"
             ]
            ],
            "type": "heatmapgl"
           }
          ],
          "histogram": [
           {
            "marker": {
             "colorbar": {
              "outlinewidth": 0,
              "ticks": ""
             }
            },
            "type": "histogram"
           }
          ],
          "histogram2d": [
           {
            "colorbar": {
             "outlinewidth": 0,
             "ticks": ""
            },
            "colorscale": [
             [
              0,
              "#0d0887"
             ],
             [
              0.1111111111111111,
              "#46039f"
             ],
             [
              0.2222222222222222,
              "#7201a8"
             ],
             [
              0.3333333333333333,
              "#9c179e"
             ],
             [
              0.4444444444444444,
              "#bd3786"
             ],
             [
              0.5555555555555556,
              "#d8576b"
             ],
             [
              0.6666666666666666,
              "#ed7953"
             ],
             [
              0.7777777777777778,
              "#fb9f3a"
             ],
             [
              0.8888888888888888,
              "#fdca26"
             ],
             [
              1,
              "#f0f921"
             ]
            ],
            "type": "histogram2d"
           }
          ],
          "histogram2dcontour": [
           {
            "colorbar": {
             "outlinewidth": 0,
             "ticks": ""
            },
            "colorscale": [
             [
              0,
              "#0d0887"
             ],
             [
              0.1111111111111111,
              "#46039f"
             ],
             [
              0.2222222222222222,
              "#7201a8"
             ],
             [
              0.3333333333333333,
              "#9c179e"
             ],
             [
              0.4444444444444444,
              "#bd3786"
             ],
             [
              0.5555555555555556,
              "#d8576b"
             ],
             [
              0.6666666666666666,
              "#ed7953"
             ],
             [
              0.7777777777777778,
              "#fb9f3a"
             ],
             [
              0.8888888888888888,
              "#fdca26"
             ],
             [
              1,
              "#f0f921"
             ]
            ],
            "type": "histogram2dcontour"
           }
          ],
          "mesh3d": [
           {
            "colorbar": {
             "outlinewidth": 0,
             "ticks": ""
            },
            "type": "mesh3d"
           }
          ],
          "parcoords": [
           {
            "line": {
             "colorbar": {
              "outlinewidth": 0,
              "ticks": ""
             }
            },
            "type": "parcoords"
           }
          ],
          "pie": [
           {
            "automargin": true,
            "type": "pie"
           }
          ],
          "scatter": [
           {
            "marker": {
             "colorbar": {
              "outlinewidth": 0,
              "ticks": ""
             }
            },
            "type": "scatter"
           }
          ],
          "scatter3d": [
           {
            "line": {
             "colorbar": {
              "outlinewidth": 0,
              "ticks": ""
             }
            },
            "marker": {
             "colorbar": {
              "outlinewidth": 0,
              "ticks": ""
             }
            },
            "type": "scatter3d"
           }
          ],
          "scattercarpet": [
           {
            "marker": {
             "colorbar": {
              "outlinewidth": 0,
              "ticks": ""
             }
            },
            "type": "scattercarpet"
           }
          ],
          "scattergeo": [
           {
            "marker": {
             "colorbar": {
              "outlinewidth": 0,
              "ticks": ""
             }
            },
            "type": "scattergeo"
           }
          ],
          "scattergl": [
           {
            "marker": {
             "colorbar": {
              "outlinewidth": 0,
              "ticks": ""
             }
            },
            "type": "scattergl"
           }
          ],
          "scattermapbox": [
           {
            "marker": {
             "colorbar": {
              "outlinewidth": 0,
              "ticks": ""
             }
            },
            "type": "scattermapbox"
           }
          ],
          "scatterpolar": [
           {
            "marker": {
             "colorbar": {
              "outlinewidth": 0,
              "ticks": ""
             }
            },
            "type": "scatterpolar"
           }
          ],
          "scatterpolargl": [
           {
            "marker": {
             "colorbar": {
              "outlinewidth": 0,
              "ticks": ""
             }
            },
            "type": "scatterpolargl"
           }
          ],
          "scatterternary": [
           {
            "marker": {
             "colorbar": {
              "outlinewidth": 0,
              "ticks": ""
             }
            },
            "type": "scatterternary"
           }
          ],
          "surface": [
           {
            "colorbar": {
             "outlinewidth": 0,
             "ticks": ""
            },
            "colorscale": [
             [
              0,
              "#0d0887"
             ],
             [
              0.1111111111111111,
              "#46039f"
             ],
             [
              0.2222222222222222,
              "#7201a8"
             ],
             [
              0.3333333333333333,
              "#9c179e"
             ],
             [
              0.4444444444444444,
              "#bd3786"
             ],
             [
              0.5555555555555556,
              "#d8576b"
             ],
             [
              0.6666666666666666,
              "#ed7953"
             ],
             [
              0.7777777777777778,
              "#fb9f3a"
             ],
             [
              0.8888888888888888,
              "#fdca26"
             ],
             [
              1,
              "#f0f921"
             ]
            ],
            "type": "surface"
           }
          ],
          "table": [
           {
            "cells": {
             "fill": {
              "color": "#EBF0F8"
             },
             "line": {
              "color": "white"
             }
            },
            "header": {
             "fill": {
              "color": "#C8D4E3"
             },
             "line": {
              "color": "white"
             }
            },
            "type": "table"
           }
          ]
         },
         "layout": {
          "annotationdefaults": {
           "arrowcolor": "#2a3f5f",
           "arrowhead": 0,
           "arrowwidth": 1
          },
          "coloraxis": {
           "colorbar": {
            "outlinewidth": 0,
            "ticks": ""
           }
          },
          "colorscale": {
           "diverging": [
            [
             0,
             "#8e0152"
            ],
            [
             0.1,
             "#c51b7d"
            ],
            [
             0.2,
             "#de77ae"
            ],
            [
             0.3,
             "#f1b6da"
            ],
            [
             0.4,
             "#fde0ef"
            ],
            [
             0.5,
             "#f7f7f7"
            ],
            [
             0.6,
             "#e6f5d0"
            ],
            [
             0.7,
             "#b8e186"
            ],
            [
             0.8,
             "#7fbc41"
            ],
            [
             0.9,
             "#4d9221"
            ],
            [
             1,
             "#276419"
            ]
           ],
           "sequential": [
            [
             0,
             "#0d0887"
            ],
            [
             0.1111111111111111,
             "#46039f"
            ],
            [
             0.2222222222222222,
             "#7201a8"
            ],
            [
             0.3333333333333333,
             "#9c179e"
            ],
            [
             0.4444444444444444,
             "#bd3786"
            ],
            [
             0.5555555555555556,
             "#d8576b"
            ],
            [
             0.6666666666666666,
             "#ed7953"
            ],
            [
             0.7777777777777778,
             "#fb9f3a"
            ],
            [
             0.8888888888888888,
             "#fdca26"
            ],
            [
             1,
             "#f0f921"
            ]
           ],
           "sequentialminus": [
            [
             0,
             "#0d0887"
            ],
            [
             0.1111111111111111,
             "#46039f"
            ],
            [
             0.2222222222222222,
             "#7201a8"
            ],
            [
             0.3333333333333333,
             "#9c179e"
            ],
            [
             0.4444444444444444,
             "#bd3786"
            ],
            [
             0.5555555555555556,
             "#d8576b"
            ],
            [
             0.6666666666666666,
             "#ed7953"
            ],
            [
             0.7777777777777778,
             "#fb9f3a"
            ],
            [
             0.8888888888888888,
             "#fdca26"
            ],
            [
             1,
             "#f0f921"
            ]
           ]
          },
          "colorway": [
           "#636efa",
           "#EF553B",
           "#00cc96",
           "#ab63fa",
           "#FFA15A",
           "#19d3f3",
           "#FF6692",
           "#B6E880",
           "#FF97FF",
           "#FECB52"
          ],
          "font": {
           "color": "#2a3f5f"
          },
          "geo": {
           "bgcolor": "white",
           "lakecolor": "white",
           "landcolor": "#E5ECF6",
           "showlakes": true,
           "showland": true,
           "subunitcolor": "white"
          },
          "hoverlabel": {
           "align": "left"
          },
          "hovermode": "closest",
          "mapbox": {
           "style": "light"
          },
          "paper_bgcolor": "white",
          "plot_bgcolor": "#E5ECF6",
          "polar": {
           "angularaxis": {
            "gridcolor": "white",
            "linecolor": "white",
            "ticks": ""
           },
           "bgcolor": "#E5ECF6",
           "radialaxis": {
            "gridcolor": "white",
            "linecolor": "white",
            "ticks": ""
           }
          },
          "scene": {
           "xaxis": {
            "backgroundcolor": "#E5ECF6",
            "gridcolor": "white",
            "gridwidth": 2,
            "linecolor": "white",
            "showbackground": true,
            "ticks": "",
            "zerolinecolor": "white"
           },
           "yaxis": {
            "backgroundcolor": "#E5ECF6",
            "gridcolor": "white",
            "gridwidth": 2,
            "linecolor": "white",
            "showbackground": true,
            "ticks": "",
            "zerolinecolor": "white"
           },
           "zaxis": {
            "backgroundcolor": "#E5ECF6",
            "gridcolor": "white",
            "gridwidth": 2,
            "linecolor": "white",
            "showbackground": true,
            "ticks": "",
            "zerolinecolor": "white"
           }
          },
          "shapedefaults": {
           "line": {
            "color": "#2a3f5f"
           }
          },
          "ternary": {
           "aaxis": {
            "gridcolor": "white",
            "linecolor": "white",
            "ticks": ""
           },
           "baxis": {
            "gridcolor": "white",
            "linecolor": "white",
            "ticks": ""
           },
           "bgcolor": "#E5ECF6",
           "caxis": {
            "gridcolor": "white",
            "linecolor": "white",
            "ticks": ""
           }
          },
          "title": {
           "x": 0.05
          },
          "xaxis": {
           "automargin": true,
           "gridcolor": "white",
           "linecolor": "white",
           "ticks": "",
           "title": {
            "standoff": 15
           },
           "zerolinecolor": "white",
           "zerolinewidth": 2
          },
          "yaxis": {
           "automargin": true,
           "gridcolor": "white",
           "linecolor": "white",
           "ticks": "",
           "title": {
            "standoff": 15
           },
           "zerolinecolor": "white",
           "zerolinewidth": 2
          }
         }
        },
        "title": {
         "text": "Top 20 trigrams in the question text"
        }
       }
      },
      "text/html": [
       "<div>\n",
       "        \n",
       "        \n",
       "            <div id=\"dacdeba0-0034-4b6b-aace-a48ab5cee018\" class=\"plotly-graph-div\" style=\"height:525px; width:100%;\"></div>\n",
       "            <script type=\"text/javascript\">\n",
       "                require([\"plotly\"], function(Plotly) {\n",
       "                    window.PLOTLYENV=window.PLOTLYENV || {};\n",
       "                    \n",
       "                if (document.getElementById(\"dacdeba0-0034-4b6b-aace-a48ab5cee018\")) {\n",
       "                    Plotly.newPlot(\n",
       "                        'dacdeba0-0034-4b6b-aace-a48ab5cee018',\n",
       "                        [{\"type\": \"bar\", \"x\": [\"saturn consider overestimated\", \"consider overestimated rocket\", \"overestimated rocket dimensionally\", \"rocket dimensionally lunar\", \"dimensionally lunar mission\", \"cheap vodka good\", \"drunk disorganize mean\", \"probation period ssc\", \"period ssc cgl\", \"cpu flight simulation\", \"safe hoverboard buy\", \"change human model\", \"human model far\", \"model far ingestion\", \"far ingestion digestion\", \"ingestion digestion excretion\", \"digestion excretion concern\", \"excretion concern jeopardise\", \"concern jeopardise human\", \"jeopardise human life\"], \"y\": [1, 1, 1, 1, 1, 1, 1, 1, 1, 1, 1, 1, 1, 1, 1, 1, 1, 1, 1, 1]}],\n",
       "                        {\"template\": {\"data\": {\"bar\": [{\"error_x\": {\"color\": \"#2a3f5f\"}, \"error_y\": {\"color\": \"#2a3f5f\"}, \"marker\": {\"line\": {\"color\": \"#E5ECF6\", \"width\": 0.5}}, \"type\": \"bar\"}], \"barpolar\": [{\"marker\": {\"line\": {\"color\": \"#E5ECF6\", \"width\": 0.5}}, \"type\": \"barpolar\"}], \"carpet\": [{\"aaxis\": {\"endlinecolor\": \"#2a3f5f\", \"gridcolor\": \"white\", \"linecolor\": \"white\", \"minorgridcolor\": \"white\", \"startlinecolor\": \"#2a3f5f\"}, \"baxis\": {\"endlinecolor\": \"#2a3f5f\", \"gridcolor\": \"white\", \"linecolor\": \"white\", \"minorgridcolor\": \"white\", \"startlinecolor\": \"#2a3f5f\"}, \"type\": \"carpet\"}], \"choropleth\": [{\"colorbar\": {\"outlinewidth\": 0, \"ticks\": \"\"}, \"type\": \"choropleth\"}], \"contour\": [{\"colorbar\": {\"outlinewidth\": 0, \"ticks\": \"\"}, \"colorscale\": [[0.0, \"#0d0887\"], [0.1111111111111111, \"#46039f\"], [0.2222222222222222, \"#7201a8\"], [0.3333333333333333, \"#9c179e\"], [0.4444444444444444, \"#bd3786\"], [0.5555555555555556, \"#d8576b\"], [0.6666666666666666, \"#ed7953\"], [0.7777777777777778, \"#fb9f3a\"], [0.8888888888888888, \"#fdca26\"], [1.0, \"#f0f921\"]], \"type\": \"contour\"}], \"contourcarpet\": [{\"colorbar\": {\"outlinewidth\": 0, \"ticks\": \"\"}, \"type\": \"contourcarpet\"}], \"heatmap\": [{\"colorbar\": {\"outlinewidth\": 0, \"ticks\": \"\"}, \"colorscale\": [[0.0, \"#0d0887\"], [0.1111111111111111, \"#46039f\"], [0.2222222222222222, \"#7201a8\"], [0.3333333333333333, \"#9c179e\"], [0.4444444444444444, \"#bd3786\"], [0.5555555555555556, \"#d8576b\"], [0.6666666666666666, \"#ed7953\"], [0.7777777777777778, \"#fb9f3a\"], [0.8888888888888888, \"#fdca26\"], [1.0, \"#f0f921\"]], \"type\": \"heatmap\"}], \"heatmapgl\": [{\"colorbar\": {\"outlinewidth\": 0, \"ticks\": \"\"}, \"colorscale\": [[0.0, \"#0d0887\"], [0.1111111111111111, \"#46039f\"], [0.2222222222222222, \"#7201a8\"], [0.3333333333333333, \"#9c179e\"], [0.4444444444444444, \"#bd3786\"], [0.5555555555555556, \"#d8576b\"], [0.6666666666666666, \"#ed7953\"], [0.7777777777777778, \"#fb9f3a\"], [0.8888888888888888, \"#fdca26\"], [1.0, \"#f0f921\"]], \"type\": \"heatmapgl\"}], \"histogram\": [{\"marker\": {\"colorbar\": {\"outlinewidth\": 0, \"ticks\": \"\"}}, \"type\": \"histogram\"}], \"histogram2d\": [{\"colorbar\": {\"outlinewidth\": 0, \"ticks\": \"\"}, \"colorscale\": [[0.0, \"#0d0887\"], [0.1111111111111111, \"#46039f\"], [0.2222222222222222, \"#7201a8\"], [0.3333333333333333, \"#9c179e\"], [0.4444444444444444, \"#bd3786\"], [0.5555555555555556, \"#d8576b\"], [0.6666666666666666, \"#ed7953\"], [0.7777777777777778, \"#fb9f3a\"], [0.8888888888888888, \"#fdca26\"], [1.0, \"#f0f921\"]], \"type\": \"histogram2d\"}], \"histogram2dcontour\": [{\"colorbar\": {\"outlinewidth\": 0, \"ticks\": \"\"}, \"colorscale\": [[0.0, \"#0d0887\"], [0.1111111111111111, \"#46039f\"], [0.2222222222222222, \"#7201a8\"], [0.3333333333333333, \"#9c179e\"], [0.4444444444444444, \"#bd3786\"], [0.5555555555555556, \"#d8576b\"], [0.6666666666666666, \"#ed7953\"], [0.7777777777777778, \"#fb9f3a\"], [0.8888888888888888, \"#fdca26\"], [1.0, \"#f0f921\"]], \"type\": \"histogram2dcontour\"}], \"mesh3d\": [{\"colorbar\": {\"outlinewidth\": 0, \"ticks\": \"\"}, \"type\": \"mesh3d\"}], \"parcoords\": [{\"line\": {\"colorbar\": {\"outlinewidth\": 0, \"ticks\": \"\"}}, \"type\": \"parcoords\"}], \"pie\": [{\"automargin\": true, \"type\": \"pie\"}], \"scatter\": [{\"marker\": {\"colorbar\": {\"outlinewidth\": 0, \"ticks\": \"\"}}, \"type\": \"scatter\"}], \"scatter3d\": [{\"line\": {\"colorbar\": {\"outlinewidth\": 0, \"ticks\": \"\"}}, \"marker\": {\"colorbar\": {\"outlinewidth\": 0, \"ticks\": \"\"}}, \"type\": \"scatter3d\"}], \"scattercarpet\": [{\"marker\": {\"colorbar\": {\"outlinewidth\": 0, \"ticks\": \"\"}}, \"type\": \"scattercarpet\"}], \"scattergeo\": [{\"marker\": {\"colorbar\": {\"outlinewidth\": 0, \"ticks\": \"\"}}, \"type\": \"scattergeo\"}], \"scattergl\": [{\"marker\": {\"colorbar\": {\"outlinewidth\": 0, \"ticks\": \"\"}}, \"type\": \"scattergl\"}], \"scattermapbox\": [{\"marker\": {\"colorbar\": {\"outlinewidth\": 0, \"ticks\": \"\"}}, \"type\": \"scattermapbox\"}], \"scatterpolar\": [{\"marker\": {\"colorbar\": {\"outlinewidth\": 0, \"ticks\": \"\"}}, \"type\": \"scatterpolar\"}], \"scatterpolargl\": [{\"marker\": {\"colorbar\": {\"outlinewidth\": 0, \"ticks\": \"\"}}, \"type\": \"scatterpolargl\"}], \"scatterternary\": [{\"marker\": {\"colorbar\": {\"outlinewidth\": 0, \"ticks\": \"\"}}, \"type\": \"scatterternary\"}], \"surface\": [{\"colorbar\": {\"outlinewidth\": 0, \"ticks\": \"\"}, \"colorscale\": [[0.0, \"#0d0887\"], [0.1111111111111111, \"#46039f\"], [0.2222222222222222, \"#7201a8\"], [0.3333333333333333, \"#9c179e\"], [0.4444444444444444, \"#bd3786\"], [0.5555555555555556, \"#d8576b\"], [0.6666666666666666, \"#ed7953\"], [0.7777777777777778, \"#fb9f3a\"], [0.8888888888888888, \"#fdca26\"], [1.0, \"#f0f921\"]], \"type\": \"surface\"}], \"table\": [{\"cells\": {\"fill\": {\"color\": \"#EBF0F8\"}, \"line\": {\"color\": \"white\"}}, \"header\": {\"fill\": {\"color\": \"#C8D4E3\"}, \"line\": {\"color\": \"white\"}}, \"type\": \"table\"}]}, \"layout\": {\"annotationdefaults\": {\"arrowcolor\": \"#2a3f5f\", \"arrowhead\": 0, \"arrowwidth\": 1}, \"coloraxis\": {\"colorbar\": {\"outlinewidth\": 0, \"ticks\": \"\"}}, \"colorscale\": {\"diverging\": [[0, \"#8e0152\"], [0.1, \"#c51b7d\"], [0.2, \"#de77ae\"], [0.3, \"#f1b6da\"], [0.4, \"#fde0ef\"], [0.5, \"#f7f7f7\"], [0.6, \"#e6f5d0\"], [0.7, \"#b8e186\"], [0.8, \"#7fbc41\"], [0.9, \"#4d9221\"], [1, \"#276419\"]], \"sequential\": [[0.0, \"#0d0887\"], [0.1111111111111111, \"#46039f\"], [0.2222222222222222, \"#7201a8\"], [0.3333333333333333, \"#9c179e\"], [0.4444444444444444, \"#bd3786\"], [0.5555555555555556, \"#d8576b\"], [0.6666666666666666, \"#ed7953\"], [0.7777777777777778, \"#fb9f3a\"], [0.8888888888888888, \"#fdca26\"], [1.0, \"#f0f921\"]], \"sequentialminus\": [[0.0, \"#0d0887\"], [0.1111111111111111, \"#46039f\"], [0.2222222222222222, \"#7201a8\"], [0.3333333333333333, \"#9c179e\"], [0.4444444444444444, \"#bd3786\"], [0.5555555555555556, \"#d8576b\"], [0.6666666666666666, \"#ed7953\"], [0.7777777777777778, \"#fb9f3a\"], [0.8888888888888888, \"#fdca26\"], [1.0, \"#f0f921\"]]}, \"colorway\": [\"#636efa\", \"#EF553B\", \"#00cc96\", \"#ab63fa\", \"#FFA15A\", \"#19d3f3\", \"#FF6692\", \"#B6E880\", \"#FF97FF\", \"#FECB52\"], \"font\": {\"color\": \"#2a3f5f\"}, \"geo\": {\"bgcolor\": \"white\", \"lakecolor\": \"white\", \"landcolor\": \"#E5ECF6\", \"showlakes\": true, \"showland\": true, \"subunitcolor\": \"white\"}, \"hoverlabel\": {\"align\": \"left\"}, \"hovermode\": \"closest\", \"mapbox\": {\"style\": \"light\"}, \"paper_bgcolor\": \"white\", \"plot_bgcolor\": \"#E5ECF6\", \"polar\": {\"angularaxis\": {\"gridcolor\": \"white\", \"linecolor\": \"white\", \"ticks\": \"\"}, \"bgcolor\": \"#E5ECF6\", \"radialaxis\": {\"gridcolor\": \"white\", \"linecolor\": \"white\", \"ticks\": \"\"}}, \"scene\": {\"xaxis\": {\"backgroundcolor\": \"#E5ECF6\", \"gridcolor\": \"white\", \"gridwidth\": 2, \"linecolor\": \"white\", \"showbackground\": true, \"ticks\": \"\", \"zerolinecolor\": \"white\"}, \"yaxis\": {\"backgroundcolor\": \"#E5ECF6\", \"gridcolor\": \"white\", \"gridwidth\": 2, \"linecolor\": \"white\", \"showbackground\": true, \"ticks\": \"\", \"zerolinecolor\": \"white\"}, \"zaxis\": {\"backgroundcolor\": \"#E5ECF6\", \"gridcolor\": \"white\", \"gridwidth\": 2, \"linecolor\": \"white\", \"showbackground\": true, \"ticks\": \"\", \"zerolinecolor\": \"white\"}}, \"shapedefaults\": {\"line\": {\"color\": \"#2a3f5f\"}}, \"ternary\": {\"aaxis\": {\"gridcolor\": \"white\", \"linecolor\": \"white\", \"ticks\": \"\"}, \"baxis\": {\"gridcolor\": \"white\", \"linecolor\": \"white\", \"ticks\": \"\"}, \"bgcolor\": \"#E5ECF6\", \"caxis\": {\"gridcolor\": \"white\", \"linecolor\": \"white\", \"ticks\": \"\"}}, \"title\": {\"x\": 0.05}, \"xaxis\": {\"automargin\": true, \"gridcolor\": \"white\", \"linecolor\": \"white\", \"ticks\": \"\", \"title\": {\"standoff\": 15}, \"zerolinecolor\": \"white\", \"zerolinewidth\": 2}, \"yaxis\": {\"automargin\": true, \"gridcolor\": \"white\", \"linecolor\": \"white\", \"ticks\": \"\", \"title\": {\"standoff\": 15}, \"zerolinecolor\": \"white\", \"zerolinewidth\": 2}}}, \"title\": {\"text\": \"Top 20 trigrams in the question text\"}},\n",
       "                        {\"responsive\": true}\n",
       "                    ).then(function(){\n",
       "                            \n",
       "var gd = document.getElementById('dacdeba0-0034-4b6b-aace-a48ab5cee018');\n",
       "var x = new MutationObserver(function (mutations, observer) {{\n",
       "        var display = window.getComputedStyle(gd).display;\n",
       "        if (!display || display === 'none') {{\n",
       "            console.log([gd, 'removed!']);\n",
       "            Plotly.purge(gd);\n",
       "            observer.disconnect();\n",
       "        }}\n",
       "}});\n",
       "\n",
       "// Listen for the removal of the full notebook cells\n",
       "var notebookContainer = gd.closest('#notebook-container');\n",
       "if (notebookContainer) {{\n",
       "    x.observe(notebookContainer, {childList: true});\n",
       "}}\n",
       "\n",
       "// Listen for the clearing of the current output cell\n",
       "var outputEl = gd.closest('.output');\n",
       "if (outputEl) {{\n",
       "    x.observe(outputEl, {childList: true});\n",
       "}}\n",
       "\n",
       "                        })\n",
       "                };\n",
       "                });\n",
       "            </script>\n",
       "        </div>"
      ]
     },
     "metadata": {},
     "output_type": "display_data"
    }
   ],
   "source": [
    "fig = go.Figure([go.Bar(x=df4['trigram'], y=df4['count'])])\n",
    "fig.update_layout(title=go.layout.Title(text=\"Top 20 trigrams in the question text\"))\n",
    "fig.show()"
   ]
  },
  {
   "cell_type": "code",
   "execution_count": 109,
   "metadata": {},
   "outputs": [],
   "source": [
    "vectorizer = CountVectorizer(analyzer='word',       \n",
    "                             min_df=3,                        # minimum required occurences of a word \n",
    "                             stop_words='english',             # remove stop words\n",
    "                             lowercase=True,                   # convert all words to lowercase\n",
    "                             token_pattern='[a-zA-Z0-9]{3,}',  # num chars > 3\n",
    "                             max_features=5000,             # max number of unique words. Build a vocabulary that only consider the top max_features ordered by term frequency across the corpus\n",
    "                            )\n",
    "\n",
    "data_vectorized = vectorizer.fit_transform(df_clean['question_lemmatize_clean'])\n",
    "\n",
    "lda_model = LatentDirichletAllocation(n_components=20, # Number of topics\n",
    "                                      learning_method='online',\n",
    "                                      random_state=0,       \n",
    "                                      n_jobs = -1  # Use all available CPUs\n",
    "                                     )\n",
    "lda_output = lda_model.fit_transform(data_vectorized)"
   ]
  },
  {
   "cell_type": "code",
   "execution_count": 110,
   "metadata": {},
   "outputs": [
    {
     "name": "stderr",
     "output_type": "stream",
     "text": [
      "/opt/anaconda3/lib/python3.7/site-packages/pyLDAvis/_prepare.py:257: FutureWarning:\n",
      "\n",
      "Sorting because non-concatenation axis is not aligned. A future version\n",
      "of pandas will change to not sort by default.\n",
      "\n",
      "To accept the future behavior, pass 'sort=False'.\n",
      "\n",
      "To retain the current behavior and silence the warning, pass 'sort=True'.\n",
      "\n",
      "\n"
     ]
    },
    {
     "data": {
      "text/html": [
       "\n",
       "<link rel=\"stylesheet\" type=\"text/css\" href=\"https://cdn.rawgit.com/bmabey/pyLDAvis/files/ldavis.v1.0.0.css\">\n",
       "\n",
       "\n",
       "<div id=\"ldavis_el39991123205311528862579117\"></div>\n",
       "<script type=\"text/javascript\">\n",
       "\n",
       "var ldavis_el39991123205311528862579117_data = {\"mdsDat\": {\"x\": [-34.26211166381836, 13.115216255187988, -30.832664489746094, -69.64332580566406, -82.47250366210938, 18.457429885864258, -69.74342346191406, -117.51400756835938, 34.26779556274414, -20.14346694946289, 38.742942810058594, 56.41632080078125, 63.977725982666016, 85.88018798828125, -2.8546414375305176, -30.35239601135254, -36.06806945800781, -108.78672790527344, -74.77751922607422, 8.377266883850098], \"y\": [-44.19940185546875, -50.67932891845703, 53.66291427612305, -17.661264419555664, 76.97274017333984, 81.36185455322266, -78.58294677734375, 11.847216606140137, -93.36188507080078, -93.11457061767578, -2.7456252574920654, 48.508323669433594, -46.959808349609375, 4.099929332733154, -11.874479293823242, 100.12564086914062, 10.089859962463379, -43.785255432128906, 31.013429641723633, 32.37361145019531], \"topics\": [1, 2, 3, 4, 5, 6, 7, 8, 9, 10, 11, 12, 13, 14, 15, 16, 17, 18, 19, 20], \"cluster\": [1, 1, 1, 1, 1, 1, 1, 1, 1, 1, 1, 1, 1, 1, 1, 1, 1, 1, 1, 1], \"Freq\": [12.600351052720955, 9.417191165536424, 7.558834032914376, 7.215163931119312, 6.1497276712859295, 5.780737700251191, 5.658663361641943, 5.534494740456514, 5.410890726072816, 4.870349297237405, 4.073239846533143, 3.9558937866415214, 3.713670323155163, 3.5949453552472366, 3.048497281997199, 2.7752732268440243, 2.7752732215732356, 1.9556010929333238, 1.9556010929196166, 1.9556010929186665]}, \"tinfo\": {\"Category\": [\"Default\", \"Default\", \"Default\", \"Default\", \"Default\", \"Default\", \"Default\", \"Default\", \"Default\", \"Default\", \"Default\", \"Default\", \"Default\", \"Default\", \"Default\", \"Default\", \"Default\", \"Default\", \"Default\", \"Default\", \"Default\", \"Default\", \"Default\", \"Default\", \"Default\", \"Default\", \"Default\", \"Default\", \"Default\", \"Default\", \"Topic1\", \"Topic1\", \"Topic1\", \"Topic1\", \"Topic1\", \"Topic1\", \"Topic1\", \"Topic1\", \"Topic1\", \"Topic1\", \"Topic1\", \"Topic1\", \"Topic1\", \"Topic1\", \"Topic1\", \"Topic1\", \"Topic1\", \"Topic1\", \"Topic1\", \"Topic1\", \"Topic1\", \"Topic1\", \"Topic1\", \"Topic1\", \"Topic1\", \"Topic1\", \"Topic1\", \"Topic1\", \"Topic1\", \"Topic1\", \"Topic1\", \"Topic2\", \"Topic2\", \"Topic2\", \"Topic2\", \"Topic2\", \"Topic2\", \"Topic2\", \"Topic2\", \"Topic2\", \"Topic2\", \"Topic2\", \"Topic2\", \"Topic2\", \"Topic2\", \"Topic2\", \"Topic2\", \"Topic2\", \"Topic2\", \"Topic2\", \"Topic2\", \"Topic2\", \"Topic2\", \"Topic2\", \"Topic2\", \"Topic2\", \"Topic2\", \"Topic2\", \"Topic2\", \"Topic2\", \"Topic2\", \"Topic2\", \"Topic3\", \"Topic3\", \"Topic3\", \"Topic3\", \"Topic3\", \"Topic3\", \"Topic3\", \"Topic3\", \"Topic3\", \"Topic3\", \"Topic3\", \"Topic3\", \"Topic3\", \"Topic3\", \"Topic3\", \"Topic3\", \"Topic3\", \"Topic3\", \"Topic3\", \"Topic3\", \"Topic3\", \"Topic3\", \"Topic3\", \"Topic3\", \"Topic3\", \"Topic3\", \"Topic3\", \"Topic3\", \"Topic3\", \"Topic3\", \"Topic3\", \"Topic4\", \"Topic4\", \"Topic4\", \"Topic4\", \"Topic4\", \"Topic4\", \"Topic4\", \"Topic4\", \"Topic4\", \"Topic4\", \"Topic4\", \"Topic4\", \"Topic4\", \"Topic4\", \"Topic4\", \"Topic4\", \"Topic4\", \"Topic4\", \"Topic4\", \"Topic4\", \"Topic4\", \"Topic4\", \"Topic4\", \"Topic4\", \"Topic4\", \"Topic4\", \"Topic4\", \"Topic4\", \"Topic4\", \"Topic4\", \"Topic4\", \"Topic5\", \"Topic5\", \"Topic5\", \"Topic5\", \"Topic5\", \"Topic5\", \"Topic5\", \"Topic5\", \"Topic5\", \"Topic5\", \"Topic5\", \"Topic5\", \"Topic5\", \"Topic5\", \"Topic5\", \"Topic5\", \"Topic5\", \"Topic5\", \"Topic5\", \"Topic5\", \"Topic5\", \"Topic5\", \"Topic5\", \"Topic5\", \"Topic5\", \"Topic5\", \"Topic5\", \"Topic5\", \"Topic5\", \"Topic5\", \"Topic5\", \"Topic6\", \"Topic6\", \"Topic6\", \"Topic6\", \"Topic6\", \"Topic6\", \"Topic6\", \"Topic6\", \"Topic6\", \"Topic6\", \"Topic6\", \"Topic6\", \"Topic6\", \"Topic6\", \"Topic6\", \"Topic6\", \"Topic6\", \"Topic6\", \"Topic6\", \"Topic6\", \"Topic6\", \"Topic6\", \"Topic6\", \"Topic6\", \"Topic6\", \"Topic6\", \"Topic6\", \"Topic6\", \"Topic6\", \"Topic6\", \"Topic6\", \"Topic7\", \"Topic7\", \"Topic7\", \"Topic7\", \"Topic7\", \"Topic7\", \"Topic7\", \"Topic7\", \"Topic7\", \"Topic7\", \"Topic7\", \"Topic7\", \"Topic7\", \"Topic7\", \"Topic7\", \"Topic7\", \"Topic7\", \"Topic7\", \"Topic7\", \"Topic7\", \"Topic7\", \"Topic7\", \"Topic7\", \"Topic7\", \"Topic7\", \"Topic7\", \"Topic7\", \"Topic7\", \"Topic7\", \"Topic7\", \"Topic8\", \"Topic8\", \"Topic8\", \"Topic8\", \"Topic8\", \"Topic8\", \"Topic8\", \"Topic8\", \"Topic8\", \"Topic8\", \"Topic8\", \"Topic8\", \"Topic8\", \"Topic8\", \"Topic8\", \"Topic8\", \"Topic8\", \"Topic8\", \"Topic8\", \"Topic8\", \"Topic8\", \"Topic8\", \"Topic8\", \"Topic8\", \"Topic8\", \"Topic8\", \"Topic8\", \"Topic8\", \"Topic8\", \"Topic8\", \"Topic8\", \"Topic9\", \"Topic9\", \"Topic9\", \"Topic9\", \"Topic9\", \"Topic9\", \"Topic9\", \"Topic9\", \"Topic9\", \"Topic9\", \"Topic9\", \"Topic9\", \"Topic9\", \"Topic9\", \"Topic9\", \"Topic9\", \"Topic9\", \"Topic9\", \"Topic9\", \"Topic9\", \"Topic9\", \"Topic9\", \"Topic9\", \"Topic9\", \"Topic9\", \"Topic9\", \"Topic9\", \"Topic9\", \"Topic9\", \"Topic9\", \"Topic9\", \"Topic10\", \"Topic10\", \"Topic10\", \"Topic10\", \"Topic10\", \"Topic10\", \"Topic10\", \"Topic10\", \"Topic10\", \"Topic10\", \"Topic10\", \"Topic10\", \"Topic10\", \"Topic10\", \"Topic10\", \"Topic10\", \"Topic10\", \"Topic10\", \"Topic10\", \"Topic10\", \"Topic10\", \"Topic10\", \"Topic10\", \"Topic10\", \"Topic10\", \"Topic10\", \"Topic10\", \"Topic10\", \"Topic10\", \"Topic10\", \"Topic10\", \"Topic11\", \"Topic11\", \"Topic11\", \"Topic11\", \"Topic11\", \"Topic11\", \"Topic11\", \"Topic11\", \"Topic11\", \"Topic11\", \"Topic11\", \"Topic11\", \"Topic11\", \"Topic11\", \"Topic11\", \"Topic11\", \"Topic11\", \"Topic11\", \"Topic11\", \"Topic11\", \"Topic11\", \"Topic11\", \"Topic11\", \"Topic11\", \"Topic11\", \"Topic11\", \"Topic11\", \"Topic11\", \"Topic11\", \"Topic11\", \"Topic11\", \"Topic12\", \"Topic12\", \"Topic12\", \"Topic12\", \"Topic12\", \"Topic12\", \"Topic12\", \"Topic12\", \"Topic12\", \"Topic12\", \"Topic12\", \"Topic12\", \"Topic12\", \"Topic12\", \"Topic12\", \"Topic12\", \"Topic12\", \"Topic12\", \"Topic12\", \"Topic12\", \"Topic12\", \"Topic12\", \"Topic12\", \"Topic12\", \"Topic12\", \"Topic12\", \"Topic12\", \"Topic12\", \"Topic12\", \"Topic12\", \"Topic12\", \"Topic13\", \"Topic13\", \"Topic13\", \"Topic13\", \"Topic13\", \"Topic13\", \"Topic13\", \"Topic13\", \"Topic13\", \"Topic13\", \"Topic13\", \"Topic13\", \"Topic13\", \"Topic13\", \"Topic13\", \"Topic13\", \"Topic13\", \"Topic13\", \"Topic13\", \"Topic13\", \"Topic13\", \"Topic13\", \"Topic13\", \"Topic13\", \"Topic13\", \"Topic13\", \"Topic13\", \"Topic13\", \"Topic13\", \"Topic13\", \"Topic13\", \"Topic14\", \"Topic14\", \"Topic14\", \"Topic14\", \"Topic14\", \"Topic14\", \"Topic14\", \"Topic14\", \"Topic14\", \"Topic14\", \"Topic14\", \"Topic14\", \"Topic14\", \"Topic14\", \"Topic14\", \"Topic14\", \"Topic14\", \"Topic14\", \"Topic14\", \"Topic14\", \"Topic14\", \"Topic14\", \"Topic14\", \"Topic14\", \"Topic14\", \"Topic14\", \"Topic14\", \"Topic14\", \"Topic14\", \"Topic14\", \"Topic14\", \"Topic15\", \"Topic15\", \"Topic15\", \"Topic15\", \"Topic15\", \"Topic15\", \"Topic15\", \"Topic15\", \"Topic15\", \"Topic15\", \"Topic15\", \"Topic15\", \"Topic15\", \"Topic15\", \"Topic15\", \"Topic15\", \"Topic15\", \"Topic15\", \"Topic15\", \"Topic15\", \"Topic15\", \"Topic15\", \"Topic15\", \"Topic15\", \"Topic15\", \"Topic15\", \"Topic15\", \"Topic15\", \"Topic15\", \"Topic15\", \"Topic15\", \"Topic16\", \"Topic16\", \"Topic16\", \"Topic16\", \"Topic16\", \"Topic16\", \"Topic16\", \"Topic16\", \"Topic16\", \"Topic16\", \"Topic16\", \"Topic16\", \"Topic16\", \"Topic16\", \"Topic16\", \"Topic16\", \"Topic16\", \"Topic16\", \"Topic16\", \"Topic16\", \"Topic16\", \"Topic16\", \"Topic16\", \"Topic16\", \"Topic16\", \"Topic16\", \"Topic16\", \"Topic16\", \"Topic16\", \"Topic16\", \"Topic17\", \"Topic17\", \"Topic17\", \"Topic17\", \"Topic17\", \"Topic17\", \"Topic17\", \"Topic17\", \"Topic17\", \"Topic17\", \"Topic17\", \"Topic17\", \"Topic17\", \"Topic17\", \"Topic17\", \"Topic17\", \"Topic17\", \"Topic17\", \"Topic17\", \"Topic17\", \"Topic17\", \"Topic17\", \"Topic17\", \"Topic17\", \"Topic17\", \"Topic17\", \"Topic17\", \"Topic17\", \"Topic17\", \"Topic17\", \"Topic17\", \"Topic18\", \"Topic18\", \"Topic18\", \"Topic18\", \"Topic18\", \"Topic18\", \"Topic18\", \"Topic18\", \"Topic18\", \"Topic18\", \"Topic18\", \"Topic18\", \"Topic18\", \"Topic18\", \"Topic18\", \"Topic18\", \"Topic18\", \"Topic18\", \"Topic18\", \"Topic18\", \"Topic18\", \"Topic18\", \"Topic18\", \"Topic18\", \"Topic18\", \"Topic18\", \"Topic18\", \"Topic18\", \"Topic18\", \"Topic18\", \"Topic18\", \"Topic19\", \"Topic19\", \"Topic19\", \"Topic19\", \"Topic19\", \"Topic19\", \"Topic19\", \"Topic19\", \"Topic19\", \"Topic19\", \"Topic19\", \"Topic19\", \"Topic19\", \"Topic19\", \"Topic19\", \"Topic19\", \"Topic19\", \"Topic19\", \"Topic19\", \"Topic19\", \"Topic19\", \"Topic19\", \"Topic19\", \"Topic19\", \"Topic19\", \"Topic19\", \"Topic19\", \"Topic19\", \"Topic19\", \"Topic19\", \"Topic19\", \"Topic20\", \"Topic20\", \"Topic20\", \"Topic20\", \"Topic20\", \"Topic20\", \"Topic20\", \"Topic20\", \"Topic20\", \"Topic20\", \"Topic20\", \"Topic20\", \"Topic20\", \"Topic20\", \"Topic20\", \"Topic20\", \"Topic20\", \"Topic20\", \"Topic20\", \"Topic20\", \"Topic20\", \"Topic20\", \"Topic20\", \"Topic20\", \"Topic20\", \"Topic20\", \"Topic20\", \"Topic20\", \"Topic20\", \"Topic20\"], \"Freq\": [6.0, 4.0, 4.0, 4.0, 5.0, 4.0, 4.0, 3.0, 3.0, 4.0, 4.0, 5.0, 2.0, 3.0, 4.0, 3.0, 2.0, 3.0, 3.0, 3.0, 4.0, 3.0, 3.0, 3.0, 3.0, 3.0, 4.0, 3.0, 3.0, 2.0, 2.476165665713082, 1.9503783679155662, 1.9268180731611344, 1.9236878213746873, 1.3431190877683306, 1.3343869637500145, 0.6762754963163395, 0.7284751355206814, 0.12248084806108542, 0.16070807634923903, 0.14306182094645412, 0.11508900300835082, 0.13205756341621336, 0.14587267797555953, 0.12190394200582767, 0.12823742728097443, 0.11141554430175124, 0.13213815938955498, 0.15874609421659794, 0.13487546922083266, 0.14535171483983303, 0.12879879443762318, 0.11860410001893706, 0.12253517764184227, 0.13195533076559435, 0.12992836736543423, 0.11883801903987466, 0.12742312281995305, 0.11752500797184173, 0.13154568460368832, 0.13402972712266417, 4.01406223706206, 2.2304815613554476, 2.2395414459929714, 0.8082471710463637, 0.49545269230706684, 0.29657714284586784, 0.09331422457533943, 0.05510009183311786, 0.05189913190564398, 0.05867157791548805, 0.05555318545029471, 0.054143855897640564, 0.05193654199056913, 0.05661783491147321, 0.054144287674350935, 0.057445511943153296, 0.0515016491995381, 0.056971261231400526, 0.05283474937055254, 0.05272612245995254, 0.05898735305601927, 0.05494988724610309, 0.05553260088880481, 0.05309810180270059, 0.0531106704765025, 0.056014169739689826, 0.05392451061742382, 0.05577194039299633, 0.05311178440284376, 0.05401348450596538, 0.053236441857092386, 2.328574155182909, 2.4710892806148825, 2.618084133762175, 0.1803434762912155, 0.13705810793139606, 0.051200356629928646, 0.05685607233884957, 0.0569720622419487, 0.06470942074258208, 0.056957238881355614, 0.059738749012653726, 0.05787256570321131, 0.0690454617150388, 0.05546140400839711, 0.05781812032670328, 0.05836688824040095, 0.057827222365528765, 0.06049371003863071, 0.0560884157571747, 0.05164489387863403, 0.055035083674315956, 0.05640819358807988, 0.052509252335204204, 0.0601086093246, 0.05698485896367681, 0.0547417954600264, 0.056955179019822465, 0.053399264628065025, 0.054435173405504286, 0.059349579502143764, 0.05564879459048161, 3.0891079737374985, 2.8170873406586368, 0.3800371422953659, 0.3765050300646311, 0.3760320997197252, 0.06801388823646982, 0.09620105634986371, 0.07123275231374857, 0.0702987146520811, 0.07811508691610101, 0.06914278557215434, 0.06594457000833351, 0.06972931643384604, 0.06192456862850358, 0.06596343670235578, 0.062048219913415796, 0.07085994621571003, 0.06869690540967861, 0.06452214953932274, 0.06478877136428941, 0.06808689832277533, 0.06114234110852355, 0.06306185438998446, 0.06802680992104923, 0.06519569370641429, 0.06440331260064877, 0.06800567991665306, 0.06345083601163733, 0.07020315210340043, 0.059695038563177864, 0.0649766245895648, 2.4080957290960154, 2.3940310125038757, 0.7850347435779997, 0.21586661189674253, 0.18613609005088633, 0.057292208186030424, 0.06660810883536733, 0.056418554066957435, 0.06000007513426374, 0.06240566677384458, 0.05887219863092348, 0.058194246635737315, 0.06213984313587838, 0.05913267778900383, 0.058159325124180254, 0.05323829437988272, 0.057335804376495866, 0.06013911378991973, 0.057888118930680986, 0.056786652125745546, 0.06075347017601457, 0.053725298487174764, 0.05455878992342394, 0.05866965730005975, 0.05668885560853111, 0.05635151223658598, 0.05898312237157461, 0.05217460741622807, 0.05652629384845675, 0.05977103594811703, 0.06069004061223441, 1.5854997790711236, 1.4144975146763277, 0.5992264470627693, 0.5997850321208037, 0.10200728094383907, 0.10575151340449564, 0.09133956553416359, 0.09867522186936128, 0.10419987758599017, 0.12975997761823663, 0.12876374833104257, 0.09941281583506753, 0.10506956200927133, 0.10616137643531043, 0.11592795214096399, 0.1264078294027305, 0.10598411464354832, 0.10422371679726666, 0.10325650155927932, 0.0949880753374635, 0.10309202949041635, 0.10090150472874089, 0.09941425715337424, 0.10356896110252131, 0.10235823341148323, 0.09525240713709783, 0.12660943485123877, 0.09759836383789261, 0.10073719216355846, 0.09560674802764367, 0.10642296002342921, 4.390491713182914, 0.2011781729359598, 0.2836551830325667, 0.12532168599869764, 0.11006295050411738, 0.10258596396888402, 0.06523565211238046, 0.06986717697627338, 0.07219358471373385, 0.0665903703383519, 0.06698539794250899, 0.06581859662188684, 0.07111674585564498, 0.07331399073304992, 0.06526772778390395, 0.06482382573933171, 0.07286676684289119, 0.06914121887927616, 0.06820836269758421, 0.06472588226282162, 0.06682762217959229, 0.06579145305030669, 0.07785501025748645, 0.07253560984769883, 0.060891328348034846, 0.06862141367635463, 0.06529024291462732, 0.06652793640766096, 0.06563984931174902, 0.06603977580898522, 2.1618770382154544, 0.6406323338476425, 0.6533506020053359, 0.22651398261494832, 0.1142259525210018, 0.11113741928174233, 0.1099072313186463, 0.1205453811959899, 0.11456568109888111, 0.11622209374193136, 0.11376545876873238, 0.10040037347671237, 0.12214307710279354, 0.12163627825081189, 0.11192851941462928, 0.12372331939417483, 0.11123218248845691, 0.11270830372276451, 0.10944485280928865, 0.1114513840240779, 0.09833964318848165, 0.12045188212462224, 0.12514413985932965, 0.11601218494176263, 0.10881566998883876, 0.11379669606586307, 0.11828876021340395, 0.11766783227797742, 0.1008980071069592, 0.11640956081246169, 0.10884774148322936, 1.406877717871059, 1.494469761545095, 0.6232267445408909, 0.11187100243261479, 0.11015461680219875, 0.10748789811204582, 0.11589355527534498, 0.13034172060266672, 0.10343069555978361, 0.10872934839465229, 0.11410409806158363, 0.10044019316760165, 0.11875658214148717, 0.10481801125529129, 0.11188086355036807, 0.111543818541516, 0.11711570783644117, 0.10551045944945246, 0.10966488903022915, 0.10723324572552419, 0.1083013912539056, 0.10011125160918068, 0.11582100151718575, 0.10758271529099897, 0.103967755200607, 0.10521656983813932, 0.10919460452844781, 0.10301350966129307, 0.11912471107637077, 0.11390369717339076, 0.1014985487634677, 1.8305888856734271, 0.13256109170892694, 0.17135166484895653, 0.1256578579156933, 0.15294762435860218, 0.12348041891182124, 0.13729144942077445, 0.13646222651789067, 0.16674028907137897, 0.1363025720272948, 0.11866022574875945, 0.13247735987384632, 0.16285912946775047, 0.1304397929942254, 0.12813829778404368, 0.13800971131410464, 0.13249324062159884, 0.13032954416758355, 0.13890780347526405, 0.1297142298146506, 0.13235765622492526, 0.12822635530274842, 0.12667381826803237, 0.13555959265871023, 0.1757315686768149, 0.12346593026694315, 0.13412716609152875, 0.1255509708514571, 0.13291398864555634, 0.14318728550288953, 0.1286183944234345, 1.067989694771676, 0.6456331073645726, 0.11340249759288135, 0.1109874288158313, 0.12233590699697831, 0.10457286271904148, 0.11580326266278128, 0.11257994955168485, 0.10508021531203403, 0.10786886217151587, 0.1139504809936019, 0.11856761772609586, 0.11098702246515135, 0.12079484637305414, 0.12001541683418745, 0.1080765685621732, 0.11819192590826683, 0.11153375700843644, 0.11159184192895948, 0.10573312939585865, 0.11426009913172476, 0.10845301015307661, 0.10334553644928865, 0.10992929722735488, 0.10887249488563001, 0.11317460165061466, 0.11319997111272402, 0.10656400413407754, 0.1161631025082808, 0.11550621812691608, 0.11418788223596339, 2.7748435888560734, 0.29317632975857516, 0.07337947724701045, 0.059017505378090265, 0.05929284020446629, 0.06428069155924289, 0.06364330858565924, 0.06423768464879727, 0.05973720819758573, 0.05819322194746734, 0.05688794411130878, 0.06140547274968126, 0.06139034613796757, 0.0568011638445538, 0.06316088269629264, 0.05955571537628749, 0.05839363727170564, 0.06307607736098718, 0.06205048310385429, 0.0585710043453208, 0.058450638601093764, 0.05496843622199411, 0.062454116868881096, 0.05915978839349563, 0.059955681536172575, 0.059892043999740734, 0.056984131963868374, 0.06475477691956587, 0.056702566975065864, 0.06252366478829821, 0.059249990053550965, 1.4001070628084176, 0.1027453270442264, 0.10370050081040327, 0.10150330972567169, 0.10755022881052961, 0.11051340160052878, 0.13633310014630876, 0.11763249626633336, 0.10147942022803871, 0.11071482260881685, 0.1049022195653127, 0.09745374746991202, 0.09636652467436418, 0.11273913639764864, 0.10737395917624323, 0.10689416117584197, 0.10076747502151293, 0.09977973624533248, 0.09648035352335316, 0.09955484686490713, 0.09869512311783947, 0.11485837287854148, 0.10687503244598869, 0.09964839394042553, 0.0970508345409636, 0.10306459534121788, 0.10579389521648791, 0.09570764836536588, 0.09614670463542274, 0.10055622616275277, 0.09768913744058838, 3.048219049788957, 0.08137314289153205, 0.058955763176754106, 0.04033319479956838, 0.041145703299934125, 0.05806580684034858, 0.04318753779515651, 0.04018031836021927, 0.04512887130053407, 0.04059809263024086, 0.05097697946994296, 0.03854264629363306, 0.03812581594984751, 0.04328187725306155, 0.044398775973431816, 0.04327459038351549, 0.039134981967440204, 0.03833586741588154, 0.041242386077593514, 0.04699501870761813, 0.04524475947978087, 0.04168281169063966, 0.042434267595632603, 0.04047962295223273, 0.04395420361712867, 0.04312110606768599, 0.04112077914881621, 0.04136515873104895, 0.04243939153628666, 0.043121993730621415, 0.039372818476544696, 0.389796241229706, 0.3833458474560803, 0.3865323568619991, 0.39215540145135064, 0.3913854305560585, 0.06496965658622109, 0.06850224212827229, 0.06776009642211801, 0.07031238436797459, 0.07013005152326943, 0.08203922978584141, 0.06797291676489922, 0.06695706056164981, 0.06983678910086381, 0.07407950299244842, 0.06829648191233191, 0.07526903692636347, 0.06953079761066829, 0.07236216932851257, 0.06304489081497835, 0.0647459475654561, 0.06564843115137677, 0.061869493469359035, 0.06804096088019616, 0.06590272587485725, 0.0649137291362628, 0.06816094182618553, 0.06825090019179783, 0.06527003299284208, 0.06800657120460797, 0.06407836536203403, 0.8072073614886497, 0.1670084226626138, 0.08357680835971443, 0.07712126214812104, 0.082457117070167, 0.09099401756045761, 0.08255468578191578, 0.09968751149418738, 0.07513329322279104, 0.0747640076503227, 0.07458726239010138, 0.08628196833854418, 0.08165101044903426, 0.09937972000040171, 0.08415167250380466, 0.08795078382119512, 0.0839954941268295, 0.07566952067530901, 0.08993132642456517, 0.08621009464531279, 0.08306304979233044, 0.08361080836350693, 0.08562735781105366, 0.08511631142131987, 0.08059806428570254, 0.0827233925625328, 0.07959521051625522, 0.07946003701423208, 0.08650173290473473, 0.07493633951124885, 0.8429181550080312, 0.09020016679831068, 0.07877243701719565, 0.08634289419369384, 0.0910368325105476, 0.084826084710658, 0.08893316180852091, 0.07969268126238133, 0.08808423659498446, 0.07698687772131294, 0.08291792924453924, 0.08243160135401591, 0.08714224854311534, 0.0828309489122851, 0.08839261730985011, 0.08620027179671252, 0.08075200169761923, 0.08842543214060912, 0.08222195101220228, 0.08065213592905832, 0.088280462127508, 0.08507613669626085, 0.08794307683167789, 0.0794276022921678, 0.08884837618032859, 0.08507721538799147, 0.08383507427683028, 0.07773800915596576, 0.08258681339152049, 0.09011008614070665, 0.08714981227274522, 0.12440723422354673, 0.07144563191963137, 0.08017857713510436, 0.07546649271542762, 0.07952822458655585, 0.07598070529694971, 0.0765919089275059, 0.07292952597824649, 0.0886999138136151, 0.07515558233059642, 0.07646394232097121, 0.07507647035812749, 0.07647181837835389, 0.08176306426586064, 0.08015282578997816, 0.07382690463934101, 0.07386507705426767, 0.07155957156552163, 0.07674589803470128, 0.07851388878650557, 0.07030004373213425, 0.07015114986472337, 0.07123740115671773, 0.07747929268196928, 0.07149873440826118, 0.07386309802161929, 0.07522628914468564, 0.06604151958861816, 0.0738146438902633, 0.07755385265252782, 0.07384405011632668, 0.0810292751345875, 0.07070539844060034, 0.08010837334229225, 0.07315260246190446, 0.07954802742240735, 0.07758963276021971, 0.07664541682878916, 0.07473015936656646, 0.07877188189811629, 0.07547060735315145, 0.07867534858428496, 0.07399698139985007, 0.09682599419105635, 0.08392077159272639, 0.07767844882466365, 0.07122018967932411, 0.07723613326957791, 0.0712462017324885, 0.08203196406120462, 0.07974362505046285, 0.07258736815737327, 0.07199057301410612, 0.07303568183830325, 0.07162848997125054, 0.07560342839728346, 0.07833165960012732, 0.07102332380283671, 0.07373903351214041, 0.08459528918247837, 0.07400842886353831, 0.07896302362822007, 0.07927449477491776, 0.07381984753514402, 0.07257657383324881, 0.07569241620469325, 0.07916951064608455, 0.07859932005991974, 0.08076547499956432, 0.0754109007747215, 0.07543207015554113, 0.07775826824593027, 0.07252374342871024, 0.07772430285155643, 0.078259872814241, 0.0783196613537845, 0.08225332042572761, 0.0945382172241492, 0.0697558121129498, 0.07231474963516725, 0.07790791111384877, 0.0741217498431601, 0.07274125307391015, 0.0729310334385423, 0.07912212777467778, 0.07819832072622492, 0.08524964591501435, 0.0739771492886542, 0.0800788074814009, 0.07464147872871844, 0.07976373874984813, 0.07332355687454338], \"Term\": [\"make\", \"use\", \"think\", \"way\", \"good\", \"life\", \"eat\", \"time\", \"movie\", \"year\", \"stay\", \"feel\", \"come\", \"country\", \"quora\", \"person\", \"play\", \"people\", \"big\", \"company\", \"world\", \"ask\", \"high\", \"different\", \"choose\", \"pay\", \"school\", \"start\", \"money\", \"like\", \"school\", \"money\", \"choose\", \"high\", \"pay\", \"feel\", \"start\", \"life\", \"work\", \"people\", \"ask\", \"play\", \"big\", \"time\", \"come\", \"company\", \"like\", \"country\", \"quora\", \"different\", \"think\", \"year\", \"movie\", \"person\", \"world\", \"eat\", \"stay\", \"way\", \"use\", \"good\", \"make\", \"good\", \"different\", \"world\", \"work\", \"life\", \"start\", \"ask\", \"play\", \"like\", \"company\", \"come\", \"pay\", \"big\", \"people\", \"country\", \"money\", \"time\", \"person\", \"movie\", \"choose\", \"quora\", \"year\", \"stay\", \"high\", \"school\", \"eat\", \"think\", \"use\", \"way\", \"feel\", \"make\", \"person\", \"quora\", \"feel\", \"people\", \"time\", \"work\", \"play\", \"like\", \"ask\", \"come\", \"company\", \"big\", \"choose\", \"pay\", \"start\", \"country\", \"different\", \"stay\", \"year\", \"movie\", \"high\", \"school\", \"money\", \"eat\", \"world\", \"think\", \"way\", \"use\", \"life\", \"good\", \"make\", \"way\", \"eat\", \"like\", \"play\", \"money\", \"work\", \"person\", \"come\", \"company\", \"time\", \"pay\", \"ask\", \"people\", \"big\", \"country\", \"start\", \"stay\", \"year\", \"choose\", \"different\", \"school\", \"movie\", \"high\", \"think\", \"quora\", \"world\", \"use\", \"life\", \"good\", \"feel\", \"make\", \"year\", \"stay\", \"like\", \"life\", \"quora\", \"work\", \"ask\", \"play\", \"come\", \"pay\", \"company\", \"big\", \"people\", \"country\", \"time\", \"start\", \"movie\", \"person\", \"money\", \"choose\", \"school\", \"different\", \"high\", \"world\", \"eat\", \"think\", \"way\", \"use\", \"feel\", \"good\", \"make\", \"big\", \"ask\", \"country\", \"world\", \"work\", \"like\", \"play\", \"come\", \"company\", \"high\", \"school\", \"pay\", \"start\", \"people\", \"money\", \"quora\", \"time\", \"choose\", \"different\", \"movie\", \"stay\", \"year\", \"person\", \"think\", \"way\", \"eat\", \"good\", \"use\", \"life\", \"feel\", \"make\", \"make\", \"company\", \"good\", \"play\", \"like\", \"movie\", \"work\", \"come\", \"start\", \"ask\", \"pay\", \"big\", \"time\", \"money\", \"people\", \"country\", \"school\", \"person\", \"stay\", \"different\", \"year\", \"high\", \"way\", \"eat\", \"choose\", \"think\", \"quora\", \"world\", \"use\", \"feel\", \"movie\", \"come\", \"start\", \"ask\", \"work\", \"like\", \"play\", \"company\", \"big\", \"people\", \"country\", \"pay\", \"year\", \"stay\", \"choose\", \"quora\", \"money\", \"person\", \"different\", \"high\", \"time\", \"think\", \"use\", \"world\", \"school\", \"eat\", \"way\", \"feel\", \"life\", \"good\", \"make\", \"company\", \"people\", \"time\", \"work\", \"like\", \"play\", \"big\", \"movie\", \"come\", \"pay\", \"start\", \"ask\", \"person\", \"country\", \"choose\", \"money\", \"school\", \"different\", \"stay\", \"year\", \"quora\", \"high\", \"way\", \"eat\", \"world\", \"think\", \"use\", \"life\", \"make\", \"good\", \"feel\", \"life\", \"work\", \"company\", \"like\", \"start\", \"play\", \"big\", \"ask\", \"different\", \"pay\", \"come\", \"people\", \"think\", \"time\", \"country\", \"money\", \"choose\", \"movie\", \"school\", \"high\", \"stay\", \"person\", \"year\", \"world\", \"make\", \"quora\", \"use\", \"eat\", \"way\", \"feel\", \"good\", \"country\", \"high\", \"work\", \"play\", \"company\", \"like\", \"pay\", \"big\", \"come\", \"ask\", \"start\", \"time\", \"people\", \"choose\", \"money\", \"movie\", \"school\", \"person\", \"year\", \"different\", \"eat\", \"quora\", \"stay\", \"world\", \"think\", \"use\", \"life\", \"way\", \"feel\", \"good\", \"make\", \"think\", \"people\", \"work\", \"play\", \"like\", \"come\", \"company\", \"start\", \"big\", \"pay\", \"ask\", \"time\", \"movie\", \"country\", \"year\", \"money\", \"choose\", \"school\", \"stay\", \"person\", \"high\", \"different\", \"eat\", \"quora\", \"world\", \"use\", \"way\", \"feel\", \"life\", \"make\", \"good\", \"time\", \"work\", \"play\", \"like\", \"come\", \"ask\", \"stay\", \"country\", \"big\", \"people\", \"start\", \"pay\", \"company\", \"school\", \"person\", \"high\", \"choose\", \"money\", \"movie\", \"different\", \"year\", \"use\", \"think\", \"world\", \"quora\", \"way\", \"life\", \"eat\", \"feel\", \"good\", \"make\", \"use\", \"like\", \"start\", \"work\", \"play\", \"school\", \"ask\", \"come\", \"people\", \"big\", \"year\", \"pay\", \"company\", \"movie\", \"money\", \"different\", \"time\", \"country\", \"choose\", \"world\", \"quora\", \"person\", \"stay\", \"high\", \"eat\", \"think\", \"way\", \"life\", \"feel\", \"good\", \"make\", \"pay\", \"start\", \"country\", \"choose\", \"life\", \"work\", \"like\", \"play\", \"come\", \"company\", \"movie\", \"ask\", \"big\", \"people\", \"money\", \"time\", \"stay\", \"year\", \"quora\", \"different\", \"high\", \"school\", \"person\", \"eat\", \"world\", \"think\", \"use\", \"way\", \"feel\", \"good\", \"make\", \"play\", \"country\", \"work\", \"like\", \"come\", \"start\", \"pay\", \"stay\", \"ask\", \"company\", \"big\", \"movie\", \"time\", \"world\", \"choose\", \"high\", \"money\", \"people\", \"school\", \"person\", \"different\", \"year\", \"quora\", \"think\", \"eat\", \"use\", \"way\", \"life\", \"good\", \"feel\", \"come\", \"play\", \"work\", \"like\", \"ask\", \"big\", \"start\", \"company\", \"time\", \"pay\", \"people\", \"country\", \"different\", \"choose\", \"stay\", \"high\", \"movie\", \"school\", \"money\", \"person\", \"world\", \"quora\", \"think\", \"year\", \"life\", \"way\", \"use\", \"eat\", \"feel\", \"make\", \"good\", \"come\", \"work\", \"play\", \"like\", \"company\", \"big\", \"pay\", \"ask\", \"different\", \"start\", \"country\", \"people\", \"time\", \"person\", \"school\", \"choose\", \"money\", \"movie\", \"stay\", \"eat\", \"high\", \"year\", \"quora\", \"use\", \"world\", \"way\", \"life\", \"think\", \"feel\", \"make\", \"good\", \"play\", \"work\", \"come\", \"like\", \"big\", \"company\", \"pay\", \"ask\", \"people\", \"start\", \"choose\", \"time\", \"way\", \"school\", \"money\", \"country\", \"different\", \"movie\", \"eat\", \"world\", \"high\", \"person\", \"stay\", \"year\", \"quora\", \"life\", \"think\", \"use\", \"good\", \"feel\", \"make\", \"work\", \"like\", \"play\", \"come\", \"big\", \"ask\", \"start\", \"company\", \"pay\", \"country\", \"people\", \"movie\", \"money\", \"different\", \"stay\", \"way\", \"time\", \"choose\", \"school\", \"year\", \"person\", \"high\", \"think\", \"eat\", \"life\", \"quora\", \"use\", \"world\", \"feel\", \"make\"], \"Total\": [6.0, 4.0, 4.0, 4.0, 5.0, 4.0, 4.0, 3.0, 3.0, 4.0, 4.0, 5.0, 2.0, 3.0, 4.0, 3.0, 2.0, 3.0, 3.0, 3.0, 4.0, 3.0, 3.0, 3.0, 3.0, 3.0, 4.0, 3.0, 3.0, 2.0, 4.119054239471288, 3.8381309973163136, 3.7964694982031917, 3.9924429258867202, 3.1841033867151673, 5.416590077809571, 3.380333584823573, 4.866579164470536, 2.4117403756606084, 3.458940247340483, 3.157002226004677, 2.731308740303559, 3.1565178694976472, 3.5772853644687053, 2.9898999820460412, 3.1575585366943963, 2.7492704789542315, 3.5226914938291336, 4.2611352601229795, 3.872413208399172, 4.426986610095078, 4.013304425109791, 3.7405166524933224, 3.967055628013832, 4.369382244554276, 4.416043017768907, 4.07426195770508, 4.738702322517657, 4.680741234613647, 5.892247846543413, 6.041290402566976, 5.892247846543413, 3.872413208399172, 4.369382244554276, 2.4117403756606084, 4.866579164470536, 3.380333584823573, 3.157002226004677, 2.731308740303559, 2.7492704789542315, 3.1575585366943963, 2.9898999820460412, 3.1841033867151673, 3.1565178694976472, 3.458940247340483, 3.5226914938291336, 3.8381309973163136, 3.5772853644687053, 3.967055628013832, 3.7405166524933224, 3.7964694982031917, 4.2611352601229795, 4.013304425109791, 4.07426195770508, 3.9924429258867202, 4.119054239471288, 4.416043017768907, 4.426986610095078, 4.680741234613647, 4.738702322517657, 5.416590077809571, 6.041290402566976, 3.967055628013832, 4.2611352601229795, 5.416590077809571, 3.458940247340483, 3.5772853644687053, 2.4117403756606084, 2.731308740303559, 2.7492704789542315, 3.157002226004677, 2.9898999820460412, 3.1575585366943963, 3.1565178694976472, 3.7964694982031917, 3.1841033867151673, 3.380333584823573, 3.5226914938291336, 3.872413208399172, 4.07426195770508, 4.013304425109791, 3.7405166524933224, 3.9924429258867202, 4.119054239471288, 3.8381309973163136, 4.416043017768907, 4.369382244554276, 4.426986610095078, 4.738702322517657, 4.680741234613647, 4.866579164470536, 5.892247846543413, 6.041290402566976, 4.738702322517657, 4.416043017768907, 2.7492704789542315, 2.731308740303559, 3.8381309973163136, 2.4117403756606084, 3.967055628013832, 2.9898999820460412, 3.1575585366943963, 3.5772853644687053, 3.1841033867151673, 3.157002226004677, 3.458940247340483, 3.1565178694976472, 3.5226914938291336, 3.380333584823573, 4.07426195770508, 4.013304425109791, 3.7964694982031917, 3.872413208399172, 4.119054239471288, 3.7405166524933224, 3.9924429258867202, 4.426986610095078, 4.2611352601229795, 4.369382244554276, 4.680741234613647, 4.866579164470536, 5.892247846543413, 5.416590077809571, 6.041290402566976, 4.013304425109791, 4.07426195770508, 2.7492704789542315, 4.866579164470536, 4.2611352601229795, 2.4117403756606084, 3.157002226004677, 2.731308740303559, 2.9898999820460412, 3.1841033867151673, 3.1575585366943963, 3.1565178694976472, 3.458940247340483, 3.5226914938291336, 3.5772853644687053, 3.380333584823573, 3.7405166524933224, 3.967055628013832, 3.8381309973163136, 3.7964694982031917, 4.119054239471288, 3.872413208399172, 3.9924429258867202, 4.369382244554276, 4.416043017768907, 4.426986610095078, 4.738702322517657, 4.680741234613647, 5.416590077809571, 5.892247846543413, 6.041290402566976, 3.1565178694976472, 3.157002226004677, 3.5226914938291336, 4.369382244554276, 2.4117403756606084, 2.7492704789542315, 2.731308740303559, 2.9898999820460412, 3.1575585366943963, 3.9924429258867202, 4.119054239471288, 3.1841033867151673, 3.380333584823573, 3.458940247340483, 3.8381309973163136, 4.2611352601229795, 3.5772853644687053, 3.7964694982031917, 3.872413208399172, 3.7405166524933224, 4.07426195770508, 4.013304425109791, 3.967055628013832, 4.426986610095078, 4.738702322517657, 4.416043017768907, 5.892247846543413, 4.680741234613647, 4.866579164470536, 5.416590077809571, 6.041290402566976, 6.041290402566976, 3.1575585366943963, 5.892247846543413, 2.731308740303559, 2.7492704789542315, 3.7405166524933224, 2.4117403756606084, 2.9898999820460412, 3.380333584823573, 3.157002226004677, 3.1841033867151673, 3.1565178694976472, 3.5772853644687053, 3.8381309973163136, 3.458940247340483, 3.5226914938291336, 4.119054239471288, 3.967055628013832, 4.07426195770508, 3.872413208399172, 4.013304425109791, 3.9924429258867202, 4.738702322517657, 4.416043017768907, 3.7964694982031917, 4.426986610095078, 4.2611352601229795, 4.369382244554276, 4.680741234613647, 5.416590077809571, 3.7405166524933224, 2.9898999820460412, 3.380333584823573, 3.157002226004677, 2.4117403756606084, 2.7492704789542315, 2.731308740303559, 3.1575585366943963, 3.1565178694976472, 3.458940247340483, 3.5226914938291336, 3.1841033867151673, 4.013304425109791, 4.07426195770508, 3.7964694982031917, 4.2611352601229795, 3.8381309973163136, 3.967055628013832, 3.872413208399172, 3.9924429258867202, 3.5772853644687053, 4.426986610095078, 4.680741234613647, 4.369382244554276, 4.119054239471288, 4.416043017768907, 4.738702322517657, 5.416590077809571, 4.866579164470536, 5.892247846543413, 6.041290402566976, 3.1575585366943963, 3.458940247340483, 3.5772853644687053, 2.4117403756606084, 2.7492704789542315, 2.731308740303559, 3.1565178694976472, 3.7405166524933224, 2.9898999820460412, 3.1841033867151673, 3.380333584823573, 3.157002226004677, 3.967055628013832, 3.5226914938291336, 3.7964694982031917, 3.8381309973163136, 4.119054239471288, 3.872413208399172, 4.07426195770508, 4.013304425109791, 4.2611352601229795, 3.9924429258867202, 4.738702322517657, 4.416043017768907, 4.369382244554276, 4.426986610095078, 4.680741234613647, 4.866579164470536, 6.041290402566976, 5.892247846543413, 5.416590077809571, 4.866579164470536, 2.4117403756606084, 3.1575585366943963, 2.7492704789542315, 3.380333584823573, 2.731308740303559, 3.1565178694976472, 3.157002226004677, 3.872413208399172, 3.1841033867151673, 2.9898999820460412, 3.458940247340483, 4.426986610095078, 3.5772853644687053, 3.5226914938291336, 3.8381309973163136, 3.7964694982031917, 3.7405166524933224, 4.119054239471288, 3.9924429258867202, 4.07426195770508, 3.967055628013832, 4.013304425109791, 4.369382244554276, 6.041290402566976, 4.2611352601229795, 4.680741234613647, 4.416043017768907, 4.738702322517657, 5.416590077809571, 5.892247846543413, 3.5226914938291336, 3.9924429258867202, 2.4117403756606084, 2.731308740303559, 3.1575585366943963, 2.7492704789542315, 3.1841033867151673, 3.1565178694976472, 2.9898999820460412, 3.157002226004677, 3.380333584823573, 3.5772853644687053, 3.458940247340483, 3.7964694982031917, 3.8381309973163136, 3.7405166524933224, 4.119054239471288, 3.967055628013832, 4.013304425109791, 3.872413208399172, 4.416043017768907, 4.2611352601229795, 4.07426195770508, 4.369382244554276, 4.426986610095078, 4.680741234613647, 4.866579164470536, 4.738702322517657, 5.416590077809571, 5.892247846543413, 6.041290402566976, 4.426986610095078, 3.458940247340483, 2.4117403756606084, 2.731308740303559, 2.7492704789542315, 2.9898999820460412, 3.1575585366943963, 3.380333584823573, 3.1565178694976472, 3.1841033867151673, 3.157002226004677, 3.5772853644687053, 3.7405166524933224, 3.5226914938291336, 4.013304425109791, 3.8381309973163136, 3.7964694982031917, 4.119054239471288, 4.07426195770508, 3.967055628013832, 3.9924429258867202, 3.872413208399172, 4.416043017768907, 4.2611352601229795, 4.369382244554276, 4.680741234613647, 4.738702322517657, 5.416590077809571, 4.866579164470536, 6.041290402566976, 5.892247846543413, 3.5772853644687053, 2.4117403756606084, 2.731308740303559, 2.7492704789542315, 2.9898999820460412, 3.157002226004677, 4.07426195770508, 3.5226914938291336, 3.1565178694976472, 3.458940247340483, 3.380333584823573, 3.1841033867151673, 3.1575585366943963, 4.119054239471288, 3.967055628013832, 3.9924429258867202, 3.7964694982031917, 3.8381309973163136, 3.7405166524933224, 3.872413208399172, 4.013304425109791, 4.680741234613647, 4.426986610095078, 4.369382244554276, 4.2611352601229795, 4.738702322517657, 4.866579164470536, 4.416043017768907, 5.416590077809571, 5.892247846543413, 6.041290402566976, 4.680741234613647, 2.7492704789542315, 3.380333584823573, 2.4117403756606084, 2.731308740303559, 4.119054239471288, 3.157002226004677, 2.9898999820460412, 3.458940247340483, 3.1565178694976472, 4.013304425109791, 3.1841033867151673, 3.1575585366943963, 3.7405166524933224, 3.8381309973163136, 3.872413208399172, 3.5772853644687053, 3.5226914938291336, 3.7964694982031917, 4.369382244554276, 4.2611352601229795, 3.967055628013832, 4.07426195770508, 3.9924429258867202, 4.416043017768907, 4.426986610095078, 4.738702322517657, 4.866579164470536, 5.416590077809571, 5.892247846543413, 6.041290402566976, 3.1841033867151673, 3.380333584823573, 3.5226914938291336, 3.7964694982031917, 4.866579164470536, 2.4117403756606084, 2.7492704789542315, 2.731308740303559, 2.9898999820460412, 3.1575585366943963, 3.7405166524933224, 3.157002226004677, 3.1565178694976472, 3.458940247340483, 3.8381309973163136, 3.5772853644687053, 4.07426195770508, 4.013304425109791, 4.2611352601229795, 3.872413208399172, 3.9924429258867202, 4.119054239471288, 3.967055628013832, 4.416043017768907, 4.369382244554276, 4.426986610095078, 4.680741234613647, 4.738702322517657, 5.416590077809571, 5.892247846543413, 6.041290402566976, 2.731308740303559, 3.5226914938291336, 2.4117403756606084, 2.7492704789542315, 2.9898999820460412, 3.380333584823573, 3.1841033867151673, 4.07426195770508, 3.157002226004677, 3.1575585366943963, 3.1565178694976472, 3.7405166524933224, 3.5772853644687053, 4.369382244554276, 3.7964694982031917, 3.9924429258867202, 3.8381309973163136, 3.458940247340483, 4.119054239471288, 3.967055628013832, 3.872413208399172, 4.013304425109791, 4.2611352601229795, 4.426986610095078, 4.416043017768907, 4.680741234613647, 4.738702322517657, 4.866579164470536, 5.892247846543413, 5.416590077809571, 2.9898999820460412, 2.731308740303559, 2.4117403756606084, 2.7492704789542315, 3.157002226004677, 3.1565178694976472, 3.380333584823573, 3.1575585366943963, 3.5772853644687053, 3.1841033867151673, 3.458940247340483, 3.5226914938291336, 3.872413208399172, 3.7964694982031917, 4.07426195770508, 3.9924429258867202, 3.7405166524933224, 4.119054239471288, 3.8381309973163136, 3.967055628013832, 4.369382244554276, 4.2611352601229795, 4.426986610095078, 4.013304425109791, 4.866579164470536, 4.738702322517657, 4.680741234613647, 4.416043017768907, 5.416590077809571, 6.041290402566976, 5.892247846543413, 2.9898999820460412, 2.4117403756606084, 2.731308740303559, 2.7492704789542315, 3.1575585366943963, 3.1565178694976472, 3.1841033867151673, 3.157002226004677, 3.872413208399172, 3.380333584823573, 3.5226914938291336, 3.458940247340483, 3.5772853644687053, 3.967055628013832, 4.119054239471288, 3.7964694982031917, 3.8381309973163136, 3.7405166524933224, 4.07426195770508, 4.416043017768907, 3.9924429258867202, 4.013304425109791, 4.2611352601229795, 4.680741234613647, 4.369382244554276, 4.738702322517657, 4.866579164470536, 4.426986610095078, 5.416590077809571, 6.041290402566976, 5.892247846543413, 2.731308740303559, 2.4117403756606084, 2.9898999820460412, 2.7492704789542315, 3.1565178694976472, 3.1575585366943963, 3.1841033867151673, 3.157002226004677, 3.458940247340483, 3.380333584823573, 3.7964694982031917, 3.5772853644687053, 4.738702322517657, 4.119054239471288, 3.8381309973163136, 3.5226914938291336, 3.872413208399172, 3.7405166524933224, 4.416043017768907, 4.369382244554276, 3.9924429258867202, 3.967055628013832, 4.07426195770508, 4.013304425109791, 4.2611352601229795, 4.866579164470536, 4.426986610095078, 4.680741234613647, 5.892247846543413, 5.416590077809571, 6.041290402566976, 2.4117403756606084, 2.7492704789542315, 2.731308740303559, 2.9898999820460412, 3.1565178694976472, 3.157002226004677, 3.380333584823573, 3.1575585366943963, 3.1841033867151673, 3.5226914938291336, 3.458940247340483, 3.7405166524933224, 3.8381309973163136, 3.872413208399172, 4.07426195770508, 4.738702322517657, 3.5772853644687053, 3.7964694982031917, 4.119054239471288, 4.013304425109791, 3.967055628013832, 3.9924429258867202, 4.426986610095078, 4.416043017768907, 4.866579164470536, 4.2611352601229795, 4.680741234613647, 4.369382244554276, 5.416590077809571, 6.041290402566976], \"loglift\": [30.0, 29.0, 28.0, 27.0, 26.0, 25.0, 24.0, 23.0, 22.0, 21.0, 20.0, 19.0, 18.0, 17.0, 16.0, 15.0, 14.0, 13.0, 12.0, 11.0, 10.0, 9.0, 8.0, 7.0, 6.0, 5.0, 4.0, 3.0, 2.0, 1.0, 1.5625, 1.3945, 1.3932, 1.3413, 1.2083, 0.6705, 0.4623, 0.1723, -0.9087, -0.9977, -1.0227, -1.0954, -1.1025, -1.1282, -1.1283, -1.1322, -1.1344, -1.2117, -1.2185, -1.2858, -1.3449, -1.3677, -1.3797, -1.4059, -1.4285, -1.4546, -1.4632, -1.5446, -1.6131, -1.7306, -1.7369, 1.9788, 1.811, 1.6943, 1.2694, 0.078, -0.0708, -1.1588, -1.5408, -1.6072, -1.623, -1.623, -1.7116, -1.7446, -1.7498, -1.8127, -1.8393, -1.8781, -1.8806, -1.8972, -1.9141, -1.9173, -1.9283, -1.9328, -1.9574, -1.9884, -2.0048, -2.0453, -2.0673, -2.1285, -2.2454, -2.369, 2.0497, 2.0376, 1.8554, -0.3714, -0.6795, -1.2699, -1.2896, -1.2941, -1.305, -1.3782, -1.3851, -1.4165, -1.4246, -1.4678, -1.486, -1.5178, -1.6217, -1.6275, -1.688, -1.7001, -1.7017, -1.7083, -1.7093, -1.7144, -1.7571, -1.8104, -1.8388, -1.891, -1.9107, -2.0155, -2.1049, 2.2011, 2.1794, 0.6502, 0.6474, 0.3059, -0.9394, -1.0904, -1.1081, -1.1758, -1.1952, -1.2008, -1.2396, -1.2751, -1.3023, -1.3489, -1.3688, -1.4228, -1.4387, -1.4458, -1.4615, -1.4736, -1.4848, -1.5191, -1.5466, -1.5509, -1.5882, -1.6026, -1.7109, -1.801, -1.879, -1.9034, 2.278, 2.2571, 1.5354, -0.3267, -0.3421, -0.9512, -1.0698, -1.091, -1.1199, -1.1435, -1.1934, -1.2047, -1.2306, -1.2984, -1.3304, -1.3622, -1.3893, -1.4004, -1.4055, -1.4138, -1.4278, -1.489, -1.5041, -1.5217, -1.5667, -1.5751, -1.5975, -1.7079, -1.7738, -1.8021, -1.8118, 2.1621, 2.0478, 1.0793, 0.8648, -0.3124, -0.4074, -0.5473, -0.5605, -0.5606, -0.5758, -0.6148, -0.616, -0.6205, -0.6331, -0.6491, -0.6671, -0.6684, -0.7446, -0.7738, -0.8226, -0.8262, -0.8326, -0.8358, -0.9046, -0.9844, -0.9858, -0.9896, -1.0197, -1.027, -1.1863, -1.1883, 2.5528, 0.1186, -0.1617, -0.2097, -0.3461, -0.7243, -0.7381, -0.8844, -0.9744, -0.9868, -0.9895, -0.9983, -1.0461, -1.086, -1.0982, -1.1233, -1.1628, -1.1776, -1.2179, -1.2195, -1.2233, -1.2337, -1.2367, -1.2369, -1.2608, -1.2949, -1.3065, -1.3128, -1.395, -1.535, 2.3459, 1.3536, 1.2506, 0.2596, -0.1558, -0.3142, -0.3187, -0.3714, -0.4219, -0.499, -0.5387, -0.5626, -0.598, -0.6172, -0.6298, -0.6451, -0.647, -0.6668, -0.672, -0.6844, -0.6998, -0.7101, -0.7276, -0.7345, -0.7396, -0.7644, -0.7962, -0.9352, -0.9819, -1.0301, -1.1223, 2.1083, 2.0776, 1.1693, -0.154, -0.3004, -0.3184, -0.3878, -0.4401, -0.4473, -0.4603, -0.4719, -0.5311, -0.5919, -0.598, -0.6076, -0.6216, -0.6435, -0.6861, -0.6983, -0.7056, -0.7556, -0.7691, -0.7947, -0.798, -0.8215, -0.8227, -0.8413, -0.9385, -1.0094, -1.0293, -1.0604, 2.0443, 0.1209, 0.1082, -0.0635, -0.0736, -0.0744, -0.1131, -0.1193, -0.1232, -0.129, -0.2047, -0.2403, -0.2806, -0.2894, -0.2919, -0.3034, -0.3333, -0.3349, -0.3676, -0.4048, -0.4049, -0.41, -0.4338, -0.451, -0.5154, -0.5193, -0.5304, -0.5383, -0.5518, -0.6111, -0.8025, 2.0073, 1.3788, 0.1436, -0.0024, -0.0501, -0.0685, -0.1133, -0.1328, -0.1475, -0.1757, -0.1892, -0.2061, -0.2386, -0.247, -0.2644, -0.3434, -0.3503, -0.3707, -0.3818, -0.4, -0.4538, -0.4702, -0.4736, -0.4818, -0.5046, -0.5215, -0.5603, -0.594, -0.6415, -0.7313, -0.7678, 2.7628, 0.762, -0.2625, -0.6047, -0.6066, -0.6098, -0.6743, -0.7332, -0.7373, -0.7722, -0.7863, -0.8349, -0.8798, -0.8975, -0.9217, -0.9359, -0.9447, -0.9491, -0.9545, -0.9856, -0.994, -1.0249, -1.0286, -1.0471, -1.0588, -1.1287, -1.1908, -1.1967, -1.2224, -1.3409, -1.3697, 2.3551, 0.1373, 0.0221, -0.0058, -0.0319, -0.0591, -0.1042, -0.1063, -0.1442, -0.1486, -0.1796, -0.1934, -0.1962, -0.3052, -0.3163, -0.3272, -0.3359, -0.3566, -0.3645, -0.3678, -0.4122, -0.4144, -0.4307, -0.4876, -0.4889, -0.535, -0.5355, -0.5386, -0.7382, -0.7775, -0.8314, 2.8967, -0.1944, -0.7233, -0.7653, -0.8698, -0.9362, -0.9662, -0.984, -1.0136, -1.0279, -1.0404, -1.0885, -1.091, -1.1336, -1.1339, -1.1684, -1.1897, -1.195, -1.1967, -1.2067, -1.2196, -1.23, -1.2388, -1.2657, -1.2842, -1.3058, -1.4214, -1.4421, -1.5235, -1.5917, -1.7077, 1.3902, 1.3137, 1.2808, 1.2204, 0.9701, -0.1237, -0.2017, -0.206, -0.2595, -0.3167, -0.3293, -0.3477, -0.3627, -0.412, -0.4571, -0.468, -0.5009, -0.5651, -0.5851, -0.6273, -0.6312, -0.6485, -0.6702, -0.6824, -0.7037, -0.7319, -0.7388, -0.7498, -0.9282, -0.9713, -1.0557, 2.3655, 0.5355, 0.2221, 0.0107, -0.0063, -0.0305, -0.068, -0.126, -0.1537, -0.1588, -0.1608, -0.1849, -0.1955, -0.199, -0.2248, -0.231, -0.2376, -0.2379, -0.2399, -0.2446, -0.2576, -0.2868, -0.3229, -0.367, -0.4191, -0.4513, -0.5021, -0.5305, -0.6368, -0.6962, 2.3183, 0.1739, 0.1629, 0.1237, 0.0383, -0.0322, -0.0534, -0.095, -0.1196, -0.1379, -0.1464, -0.1706, -0.2097, -0.2406, -0.2462, -0.2511, -0.2512, -0.2568, -0.2589, -0.3112, -0.3174, -0.3293, -0.3344, -0.3381, -0.4188, -0.4355, -0.4379, -0.4552, -0.599, -0.6209, -0.6293, 0.755, 0.4153, 0.4062, 0.3391, 0.253, 0.2077, 0.207, 0.1666, 0.1581, 0.1283, 0.1043, 0.1043, 0.089, 0.0525, -0.005, -0.0056, -0.016, -0.022, -0.0375, -0.0953, -0.1049, -0.1122, -0.1568, -0.1667, -0.1782, -0.2268, -0.2352, -0.2707, -0.3612, -0.4209, -0.445, 0.4167, 0.4049, 0.3149, 0.3079, 0.2536, 0.2284, 0.2077, 0.191, 0.1523, 0.1325, 0.058, 0.0561, 0.0439, 0.041, 0.0343, 0.0333, 0.0197, -0.0264, -0.0514, -0.0691, -0.0729, -0.0748, -0.087, -0.0914, -0.0973, -0.1947, -0.198, -0.2162, -0.309, -0.3586, -0.4029, 0.5193, 0.317, 0.3066, 0.2582, 0.2488, 0.2415, 0.2003, 0.1999, 0.1918, 0.1211, 0.0697, 0.0607, 0.0418, 0.0336, 0.0318, 0.02, -0.0029, -0.0263, -0.0334, -0.0572, -0.0644, -0.0682, -0.09, -0.0993, -0.1101, -0.1191, -0.1337, -0.1352, -0.2837, -0.477], \"logprob\": [30.0, 29.0, 28.0, 27.0, 26.0, 25.0, 24.0, 23.0, 22.0, 21.0, 20.0, 19.0, 18.0, 17.0, 16.0, 15.0, 14.0, 13.0, 12.0, 11.0, 10.0, 9.0, 8.0, 7.0, 6.0, 5.0, 4.0, 3.0, 2.0, 1.0, -1.8259, -2.0646, -2.0767, -2.0783, -2.4376, -2.4441, -3.1237, -3.0494, -4.8324, -4.5607, -4.6771, -4.8946, -4.7571, -4.6576, -4.8371, -4.7864, -4.9271, -4.7565, -4.573, -4.736, -4.6612, -4.7821, -4.8645, -4.8319, -4.7579, -4.7733, -4.8626, -4.7928, -4.8737, -4.761, -4.7423, -1.0516, -1.6392, -1.6351, -2.6543, -3.1437, -3.6568, -4.8132, -5.34, -5.3998, -5.2772, -5.3318, -5.3575, -5.3991, -5.3128, -5.3575, -5.2983, -5.4075, -5.3066, -5.382, -5.384, -5.2718, -5.3427, -5.3322, -5.377, -5.3768, -5.3235, -5.3616, -5.3279, -5.3767, -5.3599, -5.3744, -1.3763, -1.3169, -1.2591, -3.9345, -4.2089, -5.1936, -5.0888, -5.0868, -4.9594, -5.087, -5.0393, -5.0711, -4.8946, -5.1136, -5.072, -5.0626, -5.0719, -5.0268, -5.1024, -5.1849, -5.1214, -5.0967, -5.1683, -5.0332, -5.0865, -5.1267, -5.0871, -5.1515, -5.1323, -5.0459, -5.1103, -1.0472, -1.1393, -3.1425, -3.1519, -3.1531, -4.8631, -4.5164, -4.8168, -4.83, -4.7246, -4.8466, -4.894, -4.8382, -4.9569, -4.8937, -4.9549, -4.8221, -4.8531, -4.9158, -4.9117, -4.862, -4.9696, -4.9387, -4.8629, -4.9054, -4.9176, -4.8632, -4.9325, -4.8314, -4.9935, -4.9088, -1.1364, -1.1423, -2.2573, -3.5484, -3.6965, -4.8748, -4.7242, -4.8902, -4.8287, -4.7894, -4.8476, -4.8592, -4.7936, -4.8432, -4.8598, -4.9482, -4.8741, -4.8264, -4.8645, -4.8837, -4.8162, -4.9391, -4.9237, -4.8511, -4.8854, -4.8914, -4.8458, -4.9684, -4.8883, -4.8325, -4.8172, -1.4925, -1.6066, -2.4655, -2.4646, -4.2361, -4.2, -4.3466, -4.2693, -4.2148, -3.9955, -4.0032, -4.2619, -4.2065, -4.1962, -4.1082, -4.0216, -4.1978, -4.2146, -4.2239, -4.3074, -4.2255, -4.247, -4.2618, -4.2209, -4.2327, -4.3046, -4.02, -4.2803, -4.2486, -4.3009, -4.1937, -0.4526, -3.5356, -3.192, -4.0089, -4.1387, -4.2091, -4.6618, -4.5932, -4.5604, -4.6412, -4.6353, -4.6529, -4.5755, -4.545, -4.6613, -4.6681, -4.5512, -4.6036, -4.6172, -4.6696, -4.6377, -4.6533, -4.4849, -4.5557, -4.7307, -4.6112, -4.661, -4.6422, -4.6556, -4.6495, -1.1389, -2.3552, -2.3355, -3.3948, -4.0794, -4.1068, -4.118, -4.0256, -4.0765, -4.0621, -4.0835, -4.2084, -4.0124, -4.0166, -4.0997, -3.9996, -4.106, -4.0928, -4.1222, -4.104, -4.2292, -4.0264, -3.9881, -4.0639, -4.128, -4.0832, -4.0445, -4.0497, -4.2035, -4.0605, -4.1277, -1.5459, -1.4855, -2.3601, -4.0777, -4.0931, -4.1176, -4.0423, -3.9249, -4.1561, -4.1062, -4.0579, -4.1855, -4.0179, -4.1428, -4.0776, -4.0806, -4.0319, -4.1362, -4.0976, -4.12, -4.1101, -4.1887, -4.043, -4.1168, -4.1509, -4.139, -4.1019, -4.1602, -4.0148, -4.0597, -4.175, -1.1774, -3.8027, -3.5461, -3.8562, -3.6597, -3.8737, -3.7677, -3.7737, -3.5733, -3.7749, -3.9135, -3.8034, -3.5969, -3.8189, -3.8367, -3.7624, -3.8032, -3.8197, -3.756, -3.8244, -3.8043, -3.836, -3.8482, -3.7804, -3.5208, -3.8738, -3.791, -3.8571, -3.8001, -3.7256, -3.8329, -1.5375, -2.0408, -3.7801, -3.8016, -3.7043, -3.8612, -3.7592, -3.7874, -3.8563, -3.8301, -3.7753, -3.7356, -3.8016, -3.717, -3.7234, -3.8282, -3.7387, -3.7967, -3.7962, -3.8501, -3.7726, -3.8247, -3.873, -3.8112, -3.8209, -3.7821, -3.7819, -3.8423, -3.756, -3.7617, -3.7732, -0.5535, -2.801, -4.1862, -4.404, -4.3993, -4.3186, -4.3285, -4.3192, -4.3919, -4.418, -4.4407, -4.3643, -4.3646, -4.4423, -4.3361, -4.3949, -4.4146, -4.3375, -4.3539, -4.4116, -4.4136, -4.4751, -4.3474, -4.4016, -4.3882, -4.3893, -4.439, -4.3112, -4.444, -4.3463, -4.4, -1.1743, -3.7864, -3.7771, -3.7985, -3.7407, -3.7135, -3.5035, -3.6511, -3.7988, -3.7117, -3.7656, -3.8392, -3.8505, -3.6936, -3.7423, -3.7468, -3.8058, -3.8157, -3.8493, -3.8179, -3.8266, -3.6749, -3.747, -3.817, -3.8434, -3.7833, -3.7571, -3.8573, -3.8528, -3.8079, -3.8368, -0.3638, -3.9871, -4.3093, -4.689, -4.669, -4.3246, -4.6206, -4.6928, -4.5766, -4.6824, -4.4548, -4.7344, -4.7452, -4.6184, -4.5929, -4.6186, -4.7191, -4.7397, -4.6667, -4.5361, -4.574, -4.656, -4.6382, -4.6853, -4.603, -4.6221, -4.6696, -4.6637, -4.6381, -4.6221, -4.7131, -2.2556, -2.2723, -2.264, -2.2496, -2.2516, -4.0473, -3.9944, -4.0053, -3.9683, -3.9709, -3.8141, -4.0021, -4.0172, -3.9751, -3.9161, -3.9974, -3.9002, -3.9795, -3.9396, -4.0774, -4.0508, -4.0369, -4.0962, -4.0011, -4.0331, -4.0482, -3.9994, -3.9981, -4.0427, -4.0017, -4.0611, -1.4338, -3.0093, -3.7016, -3.782, -3.7151, -3.6166, -3.7139, -3.5253, -3.8081, -3.813, -3.8154, -3.6697, -3.7249, -3.5284, -3.6947, -3.6506, -3.6966, -3.801, -3.6283, -3.6706, -3.7078, -3.7012, -3.6774, -3.6833, -3.7379, -3.7119, -3.7504, -3.7521, -3.6672, -3.8107, -1.3905, -3.6253, -3.7608, -3.669, -3.6161, -3.6868, -3.6395, -3.7492, -3.6491, -3.7837, -3.7095, -3.7154, -3.6598, -3.7106, -3.6456, -3.6707, -3.736, -3.6452, -3.7179, -3.7372, -3.6468, -3.6838, -3.6507, -3.7525, -3.6404, -3.6838, -3.6985, -3.774, -3.7135, -3.6263, -3.6597, -2.9537, -3.5084, -3.393, -3.4536, -3.4012, -3.4468, -3.4388, -3.4878, -3.292, -3.4577, -3.4405, -3.4588, -3.4404, -3.3735, -3.3934, -3.4756, -3.4751, -3.5068, -3.4368, -3.414, -3.5245, -3.5267, -3.5113, -3.4273, -3.5076, -3.4751, -3.4568, -3.587, -3.4757, -3.4263, -3.4753, -3.3825, -3.5188, -3.3939, -3.4848, -3.4009, -3.4259, -3.4381, -3.4634, -3.4107, -3.4536, -3.412, -3.4733, -3.2044, -3.3474, -3.4247, -3.5115, -3.4304, -3.5112, -3.3702, -3.3985, -3.4925, -3.5008, -3.4864, -3.5058, -3.4518, -3.4164, -3.5143, -3.4768, -3.3394, -3.4731, -3.4083, -3.4044, -3.4757, -3.4927, -3.4506, -3.4057, -3.4129, -3.3858, -3.4544, -3.4541, -3.4237, -3.4934, -3.4241, -3.4173, -3.4165, -3.3675, -3.2283, -3.5323, -3.4963, -3.4218, -3.4716, -3.4904, -3.4878, -3.4063, -3.4181, -3.3317, -3.4735, -3.3943, -3.4646, -3.3982, -3.4824]}, \"token.table\": {\"Topic\": [6, 6, 1, 8, 17, 9, 6, 11, 2, 4, 1, 3, 2, 1, 11, 1, 10, 5, 7, 1, 8, 1, 9, 3, 16, 3, 1, 1, 8, 5, 12, 9, 13, 14, 4, 2, 2, 6, 5], \"Freq\": [0.31675619097220065, 0.6336095921795923, 0.5268052333744728, 0.33445934847482167, 0.33445934847482167, 0.31670038365999253, 0.2838738509323759, 0.2838738509323759, 0.5164738090609875, 0.6793412083915055, 0.18461799501807466, 0.553853985054224, 0.6788580698190644, 0.5009464223100448, 0.2504732111550224, 0.20548314662190356, 0.4109662932438071, 0.3637328548264121, 0.6621102005459594, 0.5210869564896128, 0.5346854955629877, 0.31406015400512327, 0.2891058903861904, 0.5041522447723605, 0.3661248489575219, 0.4693584873300357, 0.4855483525404402, 0.295828791717369, 0.295828791717369, 0.4908864527519348, 0.6776618644291696, 0.27954157919087874, 0.27954157919087874, 0.6409241292415992, 0.6330847130330208, 0.4146383292712784, 0.45773060997185, 0.228865304985925, 0.498342460015424], \"Term\": [\"ask\", \"big\", \"choose\", \"come\", \"come\", \"company\", \"country\", \"country\", \"different\", \"eat\", \"feel\", \"feel\", \"good\", \"high\", \"high\", \"life\", \"life\", \"like\", \"make\", \"money\", \"movie\", \"pay\", \"people\", \"person\", \"play\", \"quora\", \"school\", \"start\", \"start\", \"stay\", \"think\", \"time\", \"time\", \"use\", \"way\", \"work\", \"world\", \"world\", \"year\"]}, \"R\": 30, \"lambda.step\": 0.01, \"plot.opts\": {\"xlab\": \"PC1\", \"ylab\": \"PC2\"}, \"topic.order\": [1, 18, 16, 14, 5, 10, 13, 9, 4, 6, 20, 7, 17, 2, 15, 8, 11, 12, 3, 19]};\n",
       "\n",
       "function LDAvis_load_lib(url, callback){\n",
       "  var s = document.createElement('script');\n",
       "  s.src = url;\n",
       "  s.async = true;\n",
       "  s.onreadystatechange = s.onload = callback;\n",
       "  s.onerror = function(){console.warn(\"failed to load library \" + url);};\n",
       "  document.getElementsByTagName(\"head\")[0].appendChild(s);\n",
       "}\n",
       "\n",
       "if(typeof(LDAvis) !== \"undefined\"){\n",
       "   // already loaded: just create the visualization\n",
       "   !function(LDAvis){\n",
       "       new LDAvis(\"#\" + \"ldavis_el39991123205311528862579117\", ldavis_el39991123205311528862579117_data);\n",
       "   }(LDAvis);\n",
       "}else if(typeof define === \"function\" && define.amd){\n",
       "   // require.js is available: use it to load d3/LDAvis\n",
       "   require.config({paths: {d3: \"https://cdnjs.cloudflare.com/ajax/libs/d3/3.5.5/d3.min\"}});\n",
       "   require([\"d3\"], function(d3){\n",
       "      window.d3 = d3;\n",
       "      LDAvis_load_lib(\"https://cdn.rawgit.com/bmabey/pyLDAvis/files/ldavis.v1.0.0.js\", function(){\n",
       "        new LDAvis(\"#\" + \"ldavis_el39991123205311528862579117\", ldavis_el39991123205311528862579117_data);\n",
       "      });\n",
       "    });\n",
       "}else{\n",
       "    // require.js not available: dynamically load d3 & LDAvis\n",
       "    LDAvis_load_lib(\"https://cdnjs.cloudflare.com/ajax/libs/d3/3.5.5/d3.min.js\", function(){\n",
       "         LDAvis_load_lib(\"https://cdn.rawgit.com/bmabey/pyLDAvis/files/ldavis.v1.0.0.js\", function(){\n",
       "                 new LDAvis(\"#\" + \"ldavis_el39991123205311528862579117\", ldavis_el39991123205311528862579117_data);\n",
       "            })\n",
       "         });\n",
       "}\n",
       "</script>"
      ],
      "text/plain": [
       "PreparedData(topic_coordinates=                x           y  topics  cluster       Freq\n",
       "topic                                                    \n",
       "0      -34.262112  -44.199402       1        1  12.600351\n",
       "17      13.115216  -50.679329       2        1   9.417191\n",
       "15     -30.832664   53.662914       3        1   7.558834\n",
       "13     -69.643326  -17.661264       4        1   7.215164\n",
       "4      -82.472504   76.972740       5        1   6.149728\n",
       "9       18.457430   81.361855       6        1   5.780738\n",
       "12     -69.743423  -78.582947       7        1   5.658663\n",
       "8     -117.514008   11.847217       8        1   5.534495\n",
       "3       34.267796  -93.361885       9        1   5.410891\n",
       "5      -20.143467  -93.114571      10        1   4.870349\n",
       "19      38.742943   -2.745625      11        1   4.073240\n",
       "6       56.416321   48.508324      12        1   3.955894\n",
       "16      63.977726  -46.959808      13        1   3.713670\n",
       "1       85.880188    4.099929      14        1   3.594945\n",
       "14      -2.854641  -11.874479      15        1   3.048497\n",
       "7      -30.352396  100.125641      16        1   2.775273\n",
       "10     -36.068069   10.089860      17        1   2.775273\n",
       "11    -108.786728  -43.785255      18        1   1.955601\n",
       "2      -74.777519   31.013430      19        1   1.955601\n",
       "18       8.377267   32.373611      20        1   1.955601, topic_info=   Category      Freq   Term     Total  loglift  logprob\n",
       "13  Default  6.000000   make  6.000000  30.0000  30.0000\n",
       "26  Default  4.000000    use  4.000000  29.0000  29.0000\n",
       "24  Default  4.000000  think  4.000000  28.0000  28.0000\n",
       "27  Default  4.000000    way  4.000000  27.0000  27.0000\n",
       "9   Default  5.000000   good  5.000000  26.0000  26.0000\n",
       "..      ...       ...    ...       ...      ...      ...\n",
       "20  Topic20  0.073977  quora  4.261135  -0.1191  -3.4735\n",
       "26  Topic20  0.080079    use  4.680741  -0.1337  -3.3943\n",
       "29  Topic20  0.074641  world  4.369382  -0.1352  -3.4646\n",
       "8   Topic20  0.079764   feel  5.416590  -0.2837  -3.3982\n",
       "13  Topic20  0.073324   make  6.041290  -0.4770  -3.4824\n",
       "\n",
       "[647 rows x 6 columns], token_table=      Topic      Freq       Term\n",
       "term                            \n",
       "0         6  0.316756        ask\n",
       "1         6  0.633610        big\n",
       "2         1  0.526805     choose\n",
       "3         8  0.334459       come\n",
       "3        17  0.334459       come\n",
       "4         9  0.316700    company\n",
       "5         6  0.283874    country\n",
       "5        11  0.283874    country\n",
       "6         2  0.516474  different\n",
       "7         4  0.679341        eat\n",
       "8         1  0.184618       feel\n",
       "8         3  0.553854       feel\n",
       "9         2  0.678858       good\n",
       "10        1  0.500946       high\n",
       "10       11  0.250473       high\n",
       "11        1  0.205483       life\n",
       "11       10  0.410966       life\n",
       "12        5  0.363733       like\n",
       "13        7  0.662110       make\n",
       "14        1  0.521087      money\n",
       "15        8  0.534685      movie\n",
       "16        1  0.314060        pay\n",
       "17        9  0.289106     people\n",
       "18        3  0.504152     person\n",
       "19       16  0.366125       play\n",
       "20        3  0.469358      quora\n",
       "21        1  0.485548     school\n",
       "22        1  0.295829      start\n",
       "22        8  0.295829      start\n",
       "23        5  0.490886       stay\n",
       "24       12  0.677662      think\n",
       "25        9  0.279542       time\n",
       "25       13  0.279542       time\n",
       "26       14  0.640924        use\n",
       "27        4  0.633085        way\n",
       "28        2  0.414638       work\n",
       "29        2  0.457731      world\n",
       "29        6  0.228865      world\n",
       "30        5  0.498342       year, R=30, lambda_step=0.01, plot_opts={'xlab': 'PC1', 'ylab': 'PC2'}, topic_order=[1, 18, 16, 14, 5, 10, 13, 9, 4, 6, 20, 7, 17, 2, 15, 8, 11, 12, 3, 19])"
      ]
     },
     "execution_count": 110,
     "metadata": {},
     "output_type": "execute_result"
    }
   ],
   "source": [
    "pyLDAvis.enable_notebook()\n",
    "pyLDAvis.sklearn.prepare(lda_model, data_vectorized, vectorizer, mds='tsne')"
   ]
  },
  {
   "cell_type": "code",
   "execution_count": 111,
   "metadata": {},
   "outputs": [
    {
     "data": {
      "text/html": [
       "<div>\n",
       "<style scoped>\n",
       "    .dataframe tbody tr th:only-of-type {\n",
       "        vertical-align: middle;\n",
       "    }\n",
       "\n",
       "    .dataframe tbody tr th {\n",
       "        vertical-align: top;\n",
       "    }\n",
       "\n",
       "    .dataframe thead th {\n",
       "        text-align: right;\n",
       "    }\n",
       "</style>\n",
       "<table border=\"1\" class=\"dataframe\">\n",
       "  <thead>\n",
       "    <tr style=\"text-align: right;\">\n",
       "      <th></th>\n",
       "      <th>Word 0</th>\n",
       "      <th>Word 1</th>\n",
       "      <th>Word 2</th>\n",
       "      <th>Word 3</th>\n",
       "      <th>Word 4</th>\n",
       "      <th>Word 5</th>\n",
       "      <th>Word 6</th>\n",
       "      <th>Word 7</th>\n",
       "      <th>Word 8</th>\n",
       "      <th>Word 9</th>\n",
       "      <th>Word 10</th>\n",
       "      <th>Word 11</th>\n",
       "      <th>Word 12</th>\n",
       "      <th>Word 13</th>\n",
       "      <th>Word 14</th>\n",
       "      <th>Word 15</th>\n",
       "      <th>Word 16</th>\n",
       "      <th>Word 17</th>\n",
       "      <th>Word 18</th>\n",
       "      <th>Word 19</th>\n",
       "    </tr>\n",
       "  </thead>\n",
       "  <tbody>\n",
       "    <tr>\n",
       "      <td>Topic 0</td>\n",
       "      <td>school</td>\n",
       "      <td>money</td>\n",
       "      <td>choose</td>\n",
       "      <td>high</td>\n",
       "      <td>pay</td>\n",
       "      <td>feel</td>\n",
       "      <td>life</td>\n",
       "      <td>start</td>\n",
       "      <td>people</td>\n",
       "      <td>quora</td>\n",
       "      <td>time</td>\n",
       "      <td>think</td>\n",
       "      <td>ask</td>\n",
       "      <td>different</td>\n",
       "      <td>make</td>\n",
       "      <td>country</td>\n",
       "      <td>big</td>\n",
       "      <td>world</td>\n",
       "      <td>good</td>\n",
       "      <td>eat</td>\n",
       "    </tr>\n",
       "    <tr>\n",
       "      <td>Topic 1</td>\n",
       "      <td>use</td>\n",
       "      <td>like</td>\n",
       "      <td>start</td>\n",
       "      <td>school</td>\n",
       "      <td>year</td>\n",
       "      <td>world</td>\n",
       "      <td>quora</td>\n",
       "      <td>people</td>\n",
       "      <td>money</td>\n",
       "      <td>eat</td>\n",
       "      <td>movie</td>\n",
       "      <td>different</td>\n",
       "      <td>ask</td>\n",
       "      <td>good</td>\n",
       "      <td>think</td>\n",
       "      <td>feel</td>\n",
       "      <td>stay</td>\n",
       "      <td>person</td>\n",
       "      <td>life</td>\n",
       "      <td>choose</td>\n",
       "    </tr>\n",
       "    <tr>\n",
       "      <td>Topic 2</td>\n",
       "      <td>way</td>\n",
       "      <td>good</td>\n",
       "      <td>school</td>\n",
       "      <td>eat</td>\n",
       "      <td>play</td>\n",
       "      <td>come</td>\n",
       "      <td>world</td>\n",
       "      <td>big</td>\n",
       "      <td>make</td>\n",
       "      <td>people</td>\n",
       "      <td>choose</td>\n",
       "      <td>life</td>\n",
       "      <td>money</td>\n",
       "      <td>company</td>\n",
       "      <td>different</td>\n",
       "      <td>pay</td>\n",
       "      <td>quora</td>\n",
       "      <td>start</td>\n",
       "      <td>ask</td>\n",
       "      <td>feel</td>\n",
       "    </tr>\n",
       "    <tr>\n",
       "      <td>Topic 3</td>\n",
       "      <td>people</td>\n",
       "      <td>company</td>\n",
       "      <td>time</td>\n",
       "      <td>movie</td>\n",
       "      <td>make</td>\n",
       "      <td>person</td>\n",
       "      <td>school</td>\n",
       "      <td>big</td>\n",
       "      <td>way</td>\n",
       "      <td>start</td>\n",
       "      <td>good</td>\n",
       "      <td>choose</td>\n",
       "      <td>work</td>\n",
       "      <td>money</td>\n",
       "      <td>like</td>\n",
       "      <td>stay</td>\n",
       "      <td>use</td>\n",
       "      <td>pay</td>\n",
       "      <td>quora</td>\n",
       "      <td>eat</td>\n",
       "    </tr>\n",
       "    <tr>\n",
       "      <td>Topic 4</td>\n",
       "      <td>year</td>\n",
       "      <td>stay</td>\n",
       "      <td>like</td>\n",
       "      <td>life</td>\n",
       "      <td>quora</td>\n",
       "      <td>ask</td>\n",
       "      <td>pay</td>\n",
       "      <td>people</td>\n",
       "      <td>school</td>\n",
       "      <td>make</td>\n",
       "      <td>person</td>\n",
       "      <td>come</td>\n",
       "      <td>good</td>\n",
       "      <td>country</td>\n",
       "      <td>way</td>\n",
       "      <td>company</td>\n",
       "      <td>world</td>\n",
       "      <td>big</td>\n",
       "      <td>time</td>\n",
       "      <td>money</td>\n",
       "    </tr>\n",
       "    <tr>\n",
       "      <td>Topic 5</td>\n",
       "      <td>life</td>\n",
       "      <td>make</td>\n",
       "      <td>company</td>\n",
       "      <td>different</td>\n",
       "      <td>think</td>\n",
       "      <td>start</td>\n",
       "      <td>feel</td>\n",
       "      <td>school</td>\n",
       "      <td>money</td>\n",
       "      <td>big</td>\n",
       "      <td>ask</td>\n",
       "      <td>pay</td>\n",
       "      <td>world</td>\n",
       "      <td>use</td>\n",
       "      <td>way</td>\n",
       "      <td>work</td>\n",
       "      <td>choose</td>\n",
       "      <td>people</td>\n",
       "      <td>stay</td>\n",
       "      <td>time</td>\n",
       "    </tr>\n",
       "    <tr>\n",
       "      <td>Topic 6</td>\n",
       "      <td>think</td>\n",
       "      <td>people</td>\n",
       "      <td>work</td>\n",
       "      <td>feel</td>\n",
       "      <td>come</td>\n",
       "      <td>start</td>\n",
       "      <td>company</td>\n",
       "      <td>year</td>\n",
       "      <td>school</td>\n",
       "      <td>make</td>\n",
       "      <td>eat</td>\n",
       "      <td>stay</td>\n",
       "      <td>time</td>\n",
       "      <td>movie</td>\n",
       "      <td>world</td>\n",
       "      <td>use</td>\n",
       "      <td>big</td>\n",
       "      <td>money</td>\n",
       "      <td>like</td>\n",
       "      <td>good</td>\n",
       "    </tr>\n",
       "    <tr>\n",
       "      <td>Topic 7</td>\n",
       "      <td>play</td>\n",
       "      <td>country</td>\n",
       "      <td>stay</td>\n",
       "      <td>world</td>\n",
       "      <td>start</td>\n",
       "      <td>school</td>\n",
       "      <td>high</td>\n",
       "      <td>good</td>\n",
       "      <td>movie</td>\n",
       "      <td>person</td>\n",
       "      <td>quora</td>\n",
       "      <td>think</td>\n",
       "      <td>choose</td>\n",
       "      <td>money</td>\n",
       "      <td>year</td>\n",
       "      <td>work</td>\n",
       "      <td>different</td>\n",
       "      <td>use</td>\n",
       "      <td>pay</td>\n",
       "      <td>come</td>\n",
       "    </tr>\n",
       "    <tr>\n",
       "      <td>Topic 8</td>\n",
       "      <td>movie</td>\n",
       "      <td>start</td>\n",
       "      <td>come</td>\n",
       "      <td>ask</td>\n",
       "      <td>use</td>\n",
       "      <td>quora</td>\n",
       "      <td>year</td>\n",
       "      <td>stay</td>\n",
       "      <td>company</td>\n",
       "      <td>think</td>\n",
       "      <td>way</td>\n",
       "      <td>feel</td>\n",
       "      <td>good</td>\n",
       "      <td>people</td>\n",
       "      <td>world</td>\n",
       "      <td>big</td>\n",
       "      <td>work</td>\n",
       "      <td>eat</td>\n",
       "      <td>country</td>\n",
       "      <td>person</td>\n",
       "    </tr>\n",
       "    <tr>\n",
       "      <td>Topic 9</td>\n",
       "      <td>big</td>\n",
       "      <td>ask</td>\n",
       "      <td>world</td>\n",
       "      <td>country</td>\n",
       "      <td>high</td>\n",
       "      <td>school</td>\n",
       "      <td>good</td>\n",
       "      <td>quora</td>\n",
       "      <td>money</td>\n",
       "      <td>make</td>\n",
       "      <td>people</td>\n",
       "      <td>time</td>\n",
       "      <td>like</td>\n",
       "      <td>start</td>\n",
       "      <td>choose</td>\n",
       "      <td>company</td>\n",
       "      <td>think</td>\n",
       "      <td>different</td>\n",
       "      <td>stay</td>\n",
       "      <td>way</td>\n",
       "    </tr>\n",
       "    <tr>\n",
       "      <td>Topic 10</td>\n",
       "      <td>come</td>\n",
       "      <td>ask</td>\n",
       "      <td>play</td>\n",
       "      <td>make</td>\n",
       "      <td>start</td>\n",
       "      <td>life</td>\n",
       "      <td>school</td>\n",
       "      <td>stay</td>\n",
       "      <td>world</td>\n",
       "      <td>time</td>\n",
       "      <td>think</td>\n",
       "      <td>good</td>\n",
       "      <td>different</td>\n",
       "      <td>like</td>\n",
       "      <td>high</td>\n",
       "      <td>way</td>\n",
       "      <td>quora</td>\n",
       "      <td>big</td>\n",
       "      <td>use</td>\n",
       "      <td>people</td>\n",
       "    </tr>\n",
       "    <tr>\n",
       "      <td>Topic 11</td>\n",
       "      <td>come</td>\n",
       "      <td>different</td>\n",
       "      <td>person</td>\n",
       "      <td>play</td>\n",
       "      <td>school</td>\n",
       "      <td>company</td>\n",
       "      <td>eat</td>\n",
       "      <td>make</td>\n",
       "      <td>use</td>\n",
       "      <td>stay</td>\n",
       "      <td>pay</td>\n",
       "      <td>time</td>\n",
       "      <td>country</td>\n",
       "      <td>big</td>\n",
       "      <td>like</td>\n",
       "      <td>life</td>\n",
       "      <td>start</td>\n",
       "      <td>people</td>\n",
       "      <td>money</td>\n",
       "      <td>way</td>\n",
       "    </tr>\n",
       "    <tr>\n",
       "      <td>Topic 12</td>\n",
       "      <td>make</td>\n",
       "      <td>good</td>\n",
       "      <td>company</td>\n",
       "      <td>play</td>\n",
       "      <td>like</td>\n",
       "      <td>movie</td>\n",
       "      <td>way</td>\n",
       "      <td>money</td>\n",
       "      <td>school</td>\n",
       "      <td>eat</td>\n",
       "      <td>start</td>\n",
       "      <td>time</td>\n",
       "      <td>come</td>\n",
       "      <td>person</td>\n",
       "      <td>think</td>\n",
       "      <td>stay</td>\n",
       "      <td>pay</td>\n",
       "      <td>year</td>\n",
       "      <td>ask</td>\n",
       "      <td>world</td>\n",
       "    </tr>\n",
       "    <tr>\n",
       "      <td>Topic 13</td>\n",
       "      <td>way</td>\n",
       "      <td>eat</td>\n",
       "      <td>like</td>\n",
       "      <td>play</td>\n",
       "      <td>money</td>\n",
       "      <td>person</td>\n",
       "      <td>time</td>\n",
       "      <td>come</td>\n",
       "      <td>stay</td>\n",
       "      <td>company</td>\n",
       "      <td>good</td>\n",
       "      <td>people</td>\n",
       "      <td>pay</td>\n",
       "      <td>year</td>\n",
       "      <td>school</td>\n",
       "      <td>think</td>\n",
       "      <td>work</td>\n",
       "      <td>use</td>\n",
       "      <td>country</td>\n",
       "      <td>ask</td>\n",
       "    </tr>\n",
       "    <tr>\n",
       "      <td>Topic 14</td>\n",
       "      <td>choose</td>\n",
       "      <td>life</td>\n",
       "      <td>pay</td>\n",
       "      <td>country</td>\n",
       "      <td>start</td>\n",
       "      <td>movie</td>\n",
       "      <td>stay</td>\n",
       "      <td>money</td>\n",
       "      <td>quora</td>\n",
       "      <td>come</td>\n",
       "      <td>company</td>\n",
       "      <td>people</td>\n",
       "      <td>year</td>\n",
       "      <td>like</td>\n",
       "      <td>time</td>\n",
       "      <td>way</td>\n",
       "      <td>use</td>\n",
       "      <td>eat</td>\n",
       "      <td>good</td>\n",
       "      <td>ask</td>\n",
       "    </tr>\n",
       "    <tr>\n",
       "      <td>Topic 15</td>\n",
       "      <td>feel</td>\n",
       "      <td>quora</td>\n",
       "      <td>person</td>\n",
       "      <td>people</td>\n",
       "      <td>time</td>\n",
       "      <td>choose</td>\n",
       "      <td>ask</td>\n",
       "      <td>stay</td>\n",
       "      <td>eat</td>\n",
       "      <td>company</td>\n",
       "      <td>good</td>\n",
       "      <td>country</td>\n",
       "      <td>big</td>\n",
       "      <td>different</td>\n",
       "      <td>start</td>\n",
       "      <td>world</td>\n",
       "      <td>like</td>\n",
       "      <td>come</td>\n",
       "      <td>way</td>\n",
       "      <td>play</td>\n",
       "    </tr>\n",
       "    <tr>\n",
       "      <td>Topic 16</td>\n",
       "      <td>time</td>\n",
       "      <td>stay</td>\n",
       "      <td>country</td>\n",
       "      <td>use</td>\n",
       "      <td>school</td>\n",
       "      <td>people</td>\n",
       "      <td>ask</td>\n",
       "      <td>come</td>\n",
       "      <td>person</td>\n",
       "      <td>high</td>\n",
       "      <td>think</td>\n",
       "      <td>life</td>\n",
       "      <td>start</td>\n",
       "      <td>play</td>\n",
       "      <td>way</td>\n",
       "      <td>work</td>\n",
       "      <td>like</td>\n",
       "      <td>big</td>\n",
       "      <td>choose</td>\n",
       "      <td>good</td>\n",
       "    </tr>\n",
       "    <tr>\n",
       "      <td>Topic 17</td>\n",
       "      <td>good</td>\n",
       "      <td>world</td>\n",
       "      <td>different</td>\n",
       "      <td>work</td>\n",
       "      <td>life</td>\n",
       "      <td>start</td>\n",
       "      <td>ask</td>\n",
       "      <td>quora</td>\n",
       "      <td>company</td>\n",
       "      <td>money</td>\n",
       "      <td>person</td>\n",
       "      <td>people</td>\n",
       "      <td>eat</td>\n",
       "      <td>use</td>\n",
       "      <td>come</td>\n",
       "      <td>stay</td>\n",
       "      <td>play</td>\n",
       "      <td>year</td>\n",
       "      <td>country</td>\n",
       "      <td>pay</td>\n",
       "    </tr>\n",
       "    <tr>\n",
       "      <td>Topic 18</td>\n",
       "      <td>way</td>\n",
       "      <td>life</td>\n",
       "      <td>stay</td>\n",
       "      <td>start</td>\n",
       "      <td>use</td>\n",
       "      <td>feel</td>\n",
       "      <td>work</td>\n",
       "      <td>big</td>\n",
       "      <td>think</td>\n",
       "      <td>ask</td>\n",
       "      <td>different</td>\n",
       "      <td>money</td>\n",
       "      <td>eat</td>\n",
       "      <td>school</td>\n",
       "      <td>country</td>\n",
       "      <td>movie</td>\n",
       "      <td>come</td>\n",
       "      <td>pay</td>\n",
       "      <td>company</td>\n",
       "      <td>world</td>\n",
       "    </tr>\n",
       "    <tr>\n",
       "      <td>Topic 19</td>\n",
       "      <td>country</td>\n",
       "      <td>high</td>\n",
       "      <td>company</td>\n",
       "      <td>choose</td>\n",
       "      <td>money</td>\n",
       "      <td>time</td>\n",
       "      <td>school</td>\n",
       "      <td>feel</td>\n",
       "      <td>pay</td>\n",
       "      <td>good</td>\n",
       "      <td>eat</td>\n",
       "      <td>make</td>\n",
       "      <td>start</td>\n",
       "      <td>work</td>\n",
       "      <td>life</td>\n",
       "      <td>use</td>\n",
       "      <td>big</td>\n",
       "      <td>year</td>\n",
       "      <td>person</td>\n",
       "      <td>play</td>\n",
       "    </tr>\n",
       "  </tbody>\n",
       "</table>\n",
       "</div>"
      ],
      "text/plain": [
       "           Word 0     Word 1     Word 2     Word 3  Word 4   Word 5   Word 6  \\\n",
       "Topic 0    school      money     choose       high     pay     feel     life   \n",
       "Topic 1       use       like      start     school    year    world    quora   \n",
       "Topic 2       way       good     school        eat    play     come    world   \n",
       "Topic 3    people    company       time      movie    make   person   school   \n",
       "Topic 4      year       stay       like       life   quora      ask      pay   \n",
       "Topic 5      life       make    company  different   think    start     feel   \n",
       "Topic 6     think     people       work       feel    come    start  company   \n",
       "Topic 7      play    country       stay      world   start   school     high   \n",
       "Topic 8     movie      start       come        ask     use    quora     year   \n",
       "Topic 9       big        ask      world    country    high   school     good   \n",
       "Topic 10     come        ask       play       make   start     life   school   \n",
       "Topic 11     come  different     person       play  school  company      eat   \n",
       "Topic 12     make       good    company       play    like    movie      way   \n",
       "Topic 13      way        eat       like       play   money   person     time   \n",
       "Topic 14   choose       life        pay    country   start    movie     stay   \n",
       "Topic 15     feel      quora     person     people    time   choose      ask   \n",
       "Topic 16     time       stay    country        use  school   people      ask   \n",
       "Topic 17     good      world  different       work    life    start      ask   \n",
       "Topic 18      way       life       stay      start     use     feel     work   \n",
       "Topic 19  country       high    company     choose   money     time   school   \n",
       "\n",
       "          Word 7   Word 8   Word 9    Word 10    Word 11    Word 12  \\\n",
       "Topic 0    start   people    quora       time      think        ask   \n",
       "Topic 1   people    money      eat      movie  different        ask   \n",
       "Topic 2      big     make   people     choose       life      money   \n",
       "Topic 3      big      way    start       good     choose       work   \n",
       "Topic 4   people   school     make     person       come       good   \n",
       "Topic 5   school    money      big        ask        pay      world   \n",
       "Topic 6     year   school     make        eat       stay       time   \n",
       "Topic 7     good    movie   person      quora      think     choose   \n",
       "Topic 8     stay  company    think        way       feel       good   \n",
       "Topic 9    quora    money     make     people       time       like   \n",
       "Topic 10    stay    world     time      think       good  different   \n",
       "Topic 11    make      use     stay        pay       time    country   \n",
       "Topic 12   money   school      eat      start       time       come   \n",
       "Topic 13    come     stay  company       good     people        pay   \n",
       "Topic 14   money    quora     come    company     people       year   \n",
       "Topic 15    stay      eat  company       good    country        big   \n",
       "Topic 16    come   person     high      think       life      start   \n",
       "Topic 17   quora  company    money     person     people        eat   \n",
       "Topic 18     big    think      ask  different      money        eat   \n",
       "Topic 19    feel      pay     good        eat       make      start   \n",
       "\n",
       "            Word 13    Word 14  Word 15    Word 16    Word 17  Word 18 Word 19  \n",
       "Topic 0   different       make  country        big      world     good     eat  \n",
       "Topic 1        good      think     feel       stay     person     life  choose  \n",
       "Topic 2     company  different      pay      quora      start      ask    feel  \n",
       "Topic 3       money       like     stay        use        pay    quora     eat  \n",
       "Topic 4     country        way  company      world        big     time   money  \n",
       "Topic 5         use        way     work     choose     people     stay    time  \n",
       "Topic 6       movie      world      use        big      money     like    good  \n",
       "Topic 7       money       year     work  different        use      pay    come  \n",
       "Topic 8      people      world      big       work        eat  country  person  \n",
       "Topic 9       start     choose  company      think  different     stay     way  \n",
       "Topic 10       like       high      way      quora        big      use  people  \n",
       "Topic 11        big       like     life      start     people    money     way  \n",
       "Topic 12     person      think     stay        pay       year      ask   world  \n",
       "Topic 13       year     school    think       work        use  country     ask  \n",
       "Topic 14       like       time      way        use        eat     good     ask  \n",
       "Topic 15  different      start    world       like       come      way    play  \n",
       "Topic 16       play        way     work       like        big   choose    good  \n",
       "Topic 17        use       come     stay       play       year  country     pay  \n",
       "Topic 18     school    country    movie       come        pay  company   world  \n",
       "Topic 19       work       life      use        big       year   person    play  "
      ]
     },
     "execution_count": 111,
     "metadata": {},
     "output_type": "execute_result"
    }
   ],
   "source": [
    "# Show top 20 keywords for each topic\n",
    "def show_topics(vectorizer=vectorizer, lda_model=lda_model, n_words=20):\n",
    "    keywords = np.array(vectorizer.get_feature_names())\n",
    "    topic_keywords = []\n",
    "    for topic_weights in lda_model.components_:\n",
    "        top_keyword_locs = (-topic_weights).argsort()[:n_words]\n",
    "        topic_keywords.append(keywords.take(top_keyword_locs))\n",
    "    return topic_keywords\n",
    "\n",
    "topic_keywords = show_topics(vectorizer=vectorizer, lda_model=lda_model, n_words=20)        \n",
    "\n",
    "# Topic - Keywords Dataframe\n",
    "df_topic_keywords = pd.DataFrame(topic_keywords)\n",
    "df_topic_keywords.columns = ['Word '+str(i) for i in range(df_topic_keywords.shape[1])]\n",
    "df_topic_keywords.index = ['Topic '+str(i) for i in range(df_topic_keywords.shape[0])]\n",
    "df_topic_keywords"
   ]
  },
  {
   "cell_type": "code",
   "execution_count": 112,
   "metadata": {},
   "outputs": [
    {
     "data": {
      "text/html": [
       "<div>\n",
       "<style scoped>\n",
       "    .dataframe tbody tr th:only-of-type {\n",
       "        vertical-align: middle;\n",
       "    }\n",
       "\n",
       "    .dataframe tbody tr th {\n",
       "        vertical-align: top;\n",
       "    }\n",
       "\n",
       "    .dataframe thead th {\n",
       "        text-align: right;\n",
       "    }\n",
       "</style>\n",
       "<table border=\"1\" class=\"dataframe\">\n",
       "  <thead>\n",
       "    <tr style=\"text-align: right;\">\n",
       "      <th></th>\n",
       "      <th>Word 0</th>\n",
       "      <th>Word 1</th>\n",
       "      <th>Word 2</th>\n",
       "      <th>Word 3</th>\n",
       "      <th>Word 4</th>\n",
       "      <th>Word 5</th>\n",
       "      <th>Word 6</th>\n",
       "      <th>Word 7</th>\n",
       "      <th>Word 8</th>\n",
       "      <th>Word 9</th>\n",
       "      <th>Word 10</th>\n",
       "      <th>Word 11</th>\n",
       "      <th>Word 12</th>\n",
       "      <th>Word 13</th>\n",
       "      <th>Word 14</th>\n",
       "      <th>Word 15</th>\n",
       "      <th>Word 16</th>\n",
       "      <th>Word 17</th>\n",
       "      <th>Word 18</th>\n",
       "      <th>Word 19</th>\n",
       "    </tr>\n",
       "  </thead>\n",
       "  <tbody>\n",
       "    <tr>\n",
       "      <td>Topic 0</td>\n",
       "      <td>school</td>\n",
       "      <td>money</td>\n",
       "      <td>choose</td>\n",
       "      <td>high</td>\n",
       "      <td>pay</td>\n",
       "      <td>feel</td>\n",
       "      <td>life</td>\n",
       "      <td>start</td>\n",
       "      <td>people</td>\n",
       "      <td>quora</td>\n",
       "      <td>time</td>\n",
       "      <td>think</td>\n",
       "      <td>ask</td>\n",
       "      <td>different</td>\n",
       "      <td>make</td>\n",
       "      <td>country</td>\n",
       "      <td>big</td>\n",
       "      <td>world</td>\n",
       "      <td>good</td>\n",
       "      <td>eat</td>\n",
       "    </tr>\n",
       "    <tr>\n",
       "      <td>Topic 1</td>\n",
       "      <td>use</td>\n",
       "      <td>like</td>\n",
       "      <td>start</td>\n",
       "      <td>school</td>\n",
       "      <td>year</td>\n",
       "      <td>world</td>\n",
       "      <td>quora</td>\n",
       "      <td>people</td>\n",
       "      <td>money</td>\n",
       "      <td>eat</td>\n",
       "      <td>movie</td>\n",
       "      <td>different</td>\n",
       "      <td>ask</td>\n",
       "      <td>good</td>\n",
       "      <td>think</td>\n",
       "      <td>feel</td>\n",
       "      <td>stay</td>\n",
       "      <td>person</td>\n",
       "      <td>life</td>\n",
       "      <td>choose</td>\n",
       "    </tr>\n",
       "    <tr>\n",
       "      <td>Topic 2</td>\n",
       "      <td>way</td>\n",
       "      <td>good</td>\n",
       "      <td>school</td>\n",
       "      <td>eat</td>\n",
       "      <td>play</td>\n",
       "      <td>come</td>\n",
       "      <td>world</td>\n",
       "      <td>big</td>\n",
       "      <td>make</td>\n",
       "      <td>people</td>\n",
       "      <td>choose</td>\n",
       "      <td>life</td>\n",
       "      <td>money</td>\n",
       "      <td>company</td>\n",
       "      <td>different</td>\n",
       "      <td>pay</td>\n",
       "      <td>quora</td>\n",
       "      <td>start</td>\n",
       "      <td>ask</td>\n",
       "      <td>feel</td>\n",
       "    </tr>\n",
       "    <tr>\n",
       "      <td>Topic 3</td>\n",
       "      <td>people</td>\n",
       "      <td>company</td>\n",
       "      <td>time</td>\n",
       "      <td>movie</td>\n",
       "      <td>make</td>\n",
       "      <td>person</td>\n",
       "      <td>school</td>\n",
       "      <td>big</td>\n",
       "      <td>way</td>\n",
       "      <td>start</td>\n",
       "      <td>good</td>\n",
       "      <td>choose</td>\n",
       "      <td>work</td>\n",
       "      <td>money</td>\n",
       "      <td>like</td>\n",
       "      <td>stay</td>\n",
       "      <td>use</td>\n",
       "      <td>pay</td>\n",
       "      <td>quora</td>\n",
       "      <td>eat</td>\n",
       "    </tr>\n",
       "    <tr>\n",
       "      <td>Topic 4</td>\n",
       "      <td>year</td>\n",
       "      <td>stay</td>\n",
       "      <td>like</td>\n",
       "      <td>life</td>\n",
       "      <td>quora</td>\n",
       "      <td>ask</td>\n",
       "      <td>pay</td>\n",
       "      <td>people</td>\n",
       "      <td>school</td>\n",
       "      <td>make</td>\n",
       "      <td>person</td>\n",
       "      <td>come</td>\n",
       "      <td>good</td>\n",
       "      <td>country</td>\n",
       "      <td>way</td>\n",
       "      <td>company</td>\n",
       "      <td>world</td>\n",
       "      <td>big</td>\n",
       "      <td>time</td>\n",
       "      <td>money</td>\n",
       "    </tr>\n",
       "    <tr>\n",
       "      <td>Topic 5</td>\n",
       "      <td>life</td>\n",
       "      <td>make</td>\n",
       "      <td>company</td>\n",
       "      <td>different</td>\n",
       "      <td>think</td>\n",
       "      <td>start</td>\n",
       "      <td>feel</td>\n",
       "      <td>school</td>\n",
       "      <td>money</td>\n",
       "      <td>big</td>\n",
       "      <td>ask</td>\n",
       "      <td>pay</td>\n",
       "      <td>world</td>\n",
       "      <td>use</td>\n",
       "      <td>way</td>\n",
       "      <td>work</td>\n",
       "      <td>choose</td>\n",
       "      <td>people</td>\n",
       "      <td>stay</td>\n",
       "      <td>time</td>\n",
       "    </tr>\n",
       "    <tr>\n",
       "      <td>Topic 6</td>\n",
       "      <td>think</td>\n",
       "      <td>people</td>\n",
       "      <td>work</td>\n",
       "      <td>feel</td>\n",
       "      <td>come</td>\n",
       "      <td>start</td>\n",
       "      <td>company</td>\n",
       "      <td>year</td>\n",
       "      <td>school</td>\n",
       "      <td>make</td>\n",
       "      <td>eat</td>\n",
       "      <td>stay</td>\n",
       "      <td>time</td>\n",
       "      <td>movie</td>\n",
       "      <td>world</td>\n",
       "      <td>use</td>\n",
       "      <td>big</td>\n",
       "      <td>money</td>\n",
       "      <td>like</td>\n",
       "      <td>good</td>\n",
       "    </tr>\n",
       "    <tr>\n",
       "      <td>Topic 7</td>\n",
       "      <td>play</td>\n",
       "      <td>country</td>\n",
       "      <td>stay</td>\n",
       "      <td>world</td>\n",
       "      <td>start</td>\n",
       "      <td>school</td>\n",
       "      <td>high</td>\n",
       "      <td>good</td>\n",
       "      <td>movie</td>\n",
       "      <td>person</td>\n",
       "      <td>quora</td>\n",
       "      <td>think</td>\n",
       "      <td>choose</td>\n",
       "      <td>money</td>\n",
       "      <td>year</td>\n",
       "      <td>work</td>\n",
       "      <td>different</td>\n",
       "      <td>use</td>\n",
       "      <td>pay</td>\n",
       "      <td>come</td>\n",
       "    </tr>\n",
       "    <tr>\n",
       "      <td>Topic 8</td>\n",
       "      <td>movie</td>\n",
       "      <td>start</td>\n",
       "      <td>come</td>\n",
       "      <td>ask</td>\n",
       "      <td>use</td>\n",
       "      <td>quora</td>\n",
       "      <td>year</td>\n",
       "      <td>stay</td>\n",
       "      <td>company</td>\n",
       "      <td>think</td>\n",
       "      <td>way</td>\n",
       "      <td>feel</td>\n",
       "      <td>good</td>\n",
       "      <td>people</td>\n",
       "      <td>world</td>\n",
       "      <td>big</td>\n",
       "      <td>work</td>\n",
       "      <td>eat</td>\n",
       "      <td>country</td>\n",
       "      <td>person</td>\n",
       "    </tr>\n",
       "    <tr>\n",
       "      <td>Topic 9</td>\n",
       "      <td>big</td>\n",
       "      <td>ask</td>\n",
       "      <td>world</td>\n",
       "      <td>country</td>\n",
       "      <td>high</td>\n",
       "      <td>school</td>\n",
       "      <td>good</td>\n",
       "      <td>quora</td>\n",
       "      <td>money</td>\n",
       "      <td>make</td>\n",
       "      <td>people</td>\n",
       "      <td>time</td>\n",
       "      <td>like</td>\n",
       "      <td>start</td>\n",
       "      <td>choose</td>\n",
       "      <td>company</td>\n",
       "      <td>think</td>\n",
       "      <td>different</td>\n",
       "      <td>stay</td>\n",
       "      <td>way</td>\n",
       "    </tr>\n",
       "    <tr>\n",
       "      <td>Topic 10</td>\n",
       "      <td>come</td>\n",
       "      <td>ask</td>\n",
       "      <td>play</td>\n",
       "      <td>make</td>\n",
       "      <td>start</td>\n",
       "      <td>life</td>\n",
       "      <td>school</td>\n",
       "      <td>stay</td>\n",
       "      <td>world</td>\n",
       "      <td>time</td>\n",
       "      <td>think</td>\n",
       "      <td>good</td>\n",
       "      <td>different</td>\n",
       "      <td>like</td>\n",
       "      <td>high</td>\n",
       "      <td>way</td>\n",
       "      <td>quora</td>\n",
       "      <td>big</td>\n",
       "      <td>use</td>\n",
       "      <td>people</td>\n",
       "    </tr>\n",
       "    <tr>\n",
       "      <td>Topic 11</td>\n",
       "      <td>come</td>\n",
       "      <td>different</td>\n",
       "      <td>person</td>\n",
       "      <td>play</td>\n",
       "      <td>school</td>\n",
       "      <td>company</td>\n",
       "      <td>eat</td>\n",
       "      <td>make</td>\n",
       "      <td>use</td>\n",
       "      <td>stay</td>\n",
       "      <td>pay</td>\n",
       "      <td>time</td>\n",
       "      <td>country</td>\n",
       "      <td>big</td>\n",
       "      <td>like</td>\n",
       "      <td>life</td>\n",
       "      <td>start</td>\n",
       "      <td>people</td>\n",
       "      <td>money</td>\n",
       "      <td>way</td>\n",
       "    </tr>\n",
       "    <tr>\n",
       "      <td>Topic 12</td>\n",
       "      <td>make</td>\n",
       "      <td>good</td>\n",
       "      <td>company</td>\n",
       "      <td>play</td>\n",
       "      <td>like</td>\n",
       "      <td>movie</td>\n",
       "      <td>way</td>\n",
       "      <td>money</td>\n",
       "      <td>school</td>\n",
       "      <td>eat</td>\n",
       "      <td>start</td>\n",
       "      <td>time</td>\n",
       "      <td>come</td>\n",
       "      <td>person</td>\n",
       "      <td>think</td>\n",
       "      <td>stay</td>\n",
       "      <td>pay</td>\n",
       "      <td>year</td>\n",
       "      <td>ask</td>\n",
       "      <td>world</td>\n",
       "    </tr>\n",
       "    <tr>\n",
       "      <td>Topic 13</td>\n",
       "      <td>way</td>\n",
       "      <td>eat</td>\n",
       "      <td>like</td>\n",
       "      <td>play</td>\n",
       "      <td>money</td>\n",
       "      <td>person</td>\n",
       "      <td>time</td>\n",
       "      <td>come</td>\n",
       "      <td>stay</td>\n",
       "      <td>company</td>\n",
       "      <td>good</td>\n",
       "      <td>people</td>\n",
       "      <td>pay</td>\n",
       "      <td>year</td>\n",
       "      <td>school</td>\n",
       "      <td>think</td>\n",
       "      <td>work</td>\n",
       "      <td>use</td>\n",
       "      <td>country</td>\n",
       "      <td>ask</td>\n",
       "    </tr>\n",
       "    <tr>\n",
       "      <td>Topic 14</td>\n",
       "      <td>choose</td>\n",
       "      <td>life</td>\n",
       "      <td>pay</td>\n",
       "      <td>country</td>\n",
       "      <td>start</td>\n",
       "      <td>movie</td>\n",
       "      <td>stay</td>\n",
       "      <td>money</td>\n",
       "      <td>quora</td>\n",
       "      <td>come</td>\n",
       "      <td>company</td>\n",
       "      <td>people</td>\n",
       "      <td>year</td>\n",
       "      <td>like</td>\n",
       "      <td>time</td>\n",
       "      <td>way</td>\n",
       "      <td>use</td>\n",
       "      <td>eat</td>\n",
       "      <td>good</td>\n",
       "      <td>ask</td>\n",
       "    </tr>\n",
       "    <tr>\n",
       "      <td>Topic 15</td>\n",
       "      <td>feel</td>\n",
       "      <td>quora</td>\n",
       "      <td>person</td>\n",
       "      <td>people</td>\n",
       "      <td>time</td>\n",
       "      <td>choose</td>\n",
       "      <td>ask</td>\n",
       "      <td>stay</td>\n",
       "      <td>eat</td>\n",
       "      <td>company</td>\n",
       "      <td>good</td>\n",
       "      <td>country</td>\n",
       "      <td>big</td>\n",
       "      <td>different</td>\n",
       "      <td>start</td>\n",
       "      <td>world</td>\n",
       "      <td>like</td>\n",
       "      <td>come</td>\n",
       "      <td>way</td>\n",
       "      <td>play</td>\n",
       "    </tr>\n",
       "    <tr>\n",
       "      <td>Topic 16</td>\n",
       "      <td>time</td>\n",
       "      <td>stay</td>\n",
       "      <td>country</td>\n",
       "      <td>use</td>\n",
       "      <td>school</td>\n",
       "      <td>people</td>\n",
       "      <td>ask</td>\n",
       "      <td>come</td>\n",
       "      <td>person</td>\n",
       "      <td>high</td>\n",
       "      <td>think</td>\n",
       "      <td>life</td>\n",
       "      <td>start</td>\n",
       "      <td>play</td>\n",
       "      <td>way</td>\n",
       "      <td>work</td>\n",
       "      <td>like</td>\n",
       "      <td>big</td>\n",
       "      <td>choose</td>\n",
       "      <td>good</td>\n",
       "    </tr>\n",
       "    <tr>\n",
       "      <td>Topic 17</td>\n",
       "      <td>good</td>\n",
       "      <td>world</td>\n",
       "      <td>different</td>\n",
       "      <td>work</td>\n",
       "      <td>life</td>\n",
       "      <td>start</td>\n",
       "      <td>ask</td>\n",
       "      <td>quora</td>\n",
       "      <td>company</td>\n",
       "      <td>money</td>\n",
       "      <td>person</td>\n",
       "      <td>people</td>\n",
       "      <td>eat</td>\n",
       "      <td>use</td>\n",
       "      <td>come</td>\n",
       "      <td>stay</td>\n",
       "      <td>play</td>\n",
       "      <td>year</td>\n",
       "      <td>country</td>\n",
       "      <td>pay</td>\n",
       "    </tr>\n",
       "    <tr>\n",
       "      <td>Topic 18</td>\n",
       "      <td>way</td>\n",
       "      <td>life</td>\n",
       "      <td>stay</td>\n",
       "      <td>start</td>\n",
       "      <td>use</td>\n",
       "      <td>feel</td>\n",
       "      <td>work</td>\n",
       "      <td>big</td>\n",
       "      <td>think</td>\n",
       "      <td>ask</td>\n",
       "      <td>different</td>\n",
       "      <td>money</td>\n",
       "      <td>eat</td>\n",
       "      <td>school</td>\n",
       "      <td>country</td>\n",
       "      <td>movie</td>\n",
       "      <td>come</td>\n",
       "      <td>pay</td>\n",
       "      <td>company</td>\n",
       "      <td>world</td>\n",
       "    </tr>\n",
       "    <tr>\n",
       "      <td>Topic 19</td>\n",
       "      <td>country</td>\n",
       "      <td>high</td>\n",
       "      <td>company</td>\n",
       "      <td>choose</td>\n",
       "      <td>money</td>\n",
       "      <td>time</td>\n",
       "      <td>school</td>\n",
       "      <td>feel</td>\n",
       "      <td>pay</td>\n",
       "      <td>good</td>\n",
       "      <td>eat</td>\n",
       "      <td>make</td>\n",
       "      <td>start</td>\n",
       "      <td>work</td>\n",
       "      <td>life</td>\n",
       "      <td>use</td>\n",
       "      <td>big</td>\n",
       "      <td>year</td>\n",
       "      <td>person</td>\n",
       "      <td>play</td>\n",
       "    </tr>\n",
       "  </tbody>\n",
       "</table>\n",
       "</div>"
      ],
      "text/plain": [
       "           Word 0     Word 1     Word 2     Word 3  Word 4   Word 5   Word 6  \\\n",
       "Topic 0    school      money     choose       high     pay     feel     life   \n",
       "Topic 1       use       like      start     school    year    world    quora   \n",
       "Topic 2       way       good     school        eat    play     come    world   \n",
       "Topic 3    people    company       time      movie    make   person   school   \n",
       "Topic 4      year       stay       like       life   quora      ask      pay   \n",
       "Topic 5      life       make    company  different   think    start     feel   \n",
       "Topic 6     think     people       work       feel    come    start  company   \n",
       "Topic 7      play    country       stay      world   start   school     high   \n",
       "Topic 8     movie      start       come        ask     use    quora     year   \n",
       "Topic 9       big        ask      world    country    high   school     good   \n",
       "Topic 10     come        ask       play       make   start     life   school   \n",
       "Topic 11     come  different     person       play  school  company      eat   \n",
       "Topic 12     make       good    company       play    like    movie      way   \n",
       "Topic 13      way        eat       like       play   money   person     time   \n",
       "Topic 14   choose       life        pay    country   start    movie     stay   \n",
       "Topic 15     feel      quora     person     people    time   choose      ask   \n",
       "Topic 16     time       stay    country        use  school   people      ask   \n",
       "Topic 17     good      world  different       work    life    start      ask   \n",
       "Topic 18      way       life       stay      start     use     feel     work   \n",
       "Topic 19  country       high    company     choose   money     time   school   \n",
       "\n",
       "          Word 7   Word 8   Word 9    Word 10    Word 11    Word 12  \\\n",
       "Topic 0    start   people    quora       time      think        ask   \n",
       "Topic 1   people    money      eat      movie  different        ask   \n",
       "Topic 2      big     make   people     choose       life      money   \n",
       "Topic 3      big      way    start       good     choose       work   \n",
       "Topic 4   people   school     make     person       come       good   \n",
       "Topic 5   school    money      big        ask        pay      world   \n",
       "Topic 6     year   school     make        eat       stay       time   \n",
       "Topic 7     good    movie   person      quora      think     choose   \n",
       "Topic 8     stay  company    think        way       feel       good   \n",
       "Topic 9    quora    money     make     people       time       like   \n",
       "Topic 10    stay    world     time      think       good  different   \n",
       "Topic 11    make      use     stay        pay       time    country   \n",
       "Topic 12   money   school      eat      start       time       come   \n",
       "Topic 13    come     stay  company       good     people        pay   \n",
       "Topic 14   money    quora     come    company     people       year   \n",
       "Topic 15    stay      eat  company       good    country        big   \n",
       "Topic 16    come   person     high      think       life      start   \n",
       "Topic 17   quora  company    money     person     people        eat   \n",
       "Topic 18     big    think      ask  different      money        eat   \n",
       "Topic 19    feel      pay     good        eat       make      start   \n",
       "\n",
       "            Word 13    Word 14  Word 15    Word 16    Word 17  Word 18 Word 19  \n",
       "Topic 0   different       make  country        big      world     good     eat  \n",
       "Topic 1        good      think     feel       stay     person     life  choose  \n",
       "Topic 2     company  different      pay      quora      start      ask    feel  \n",
       "Topic 3       money       like     stay        use        pay    quora     eat  \n",
       "Topic 4     country        way  company      world        big     time   money  \n",
       "Topic 5         use        way     work     choose     people     stay    time  \n",
       "Topic 6       movie      world      use        big      money     like    good  \n",
       "Topic 7       money       year     work  different        use      pay    come  \n",
       "Topic 8      people      world      big       work        eat  country  person  \n",
       "Topic 9       start     choose  company      think  different     stay     way  \n",
       "Topic 10       like       high      way      quora        big      use  people  \n",
       "Topic 11        big       like     life      start     people    money     way  \n",
       "Topic 12     person      think     stay        pay       year      ask   world  \n",
       "Topic 13       year     school    think       work        use  country     ask  \n",
       "Topic 14       like       time      way        use        eat     good     ask  \n",
       "Topic 15  different      start    world       like       come      way    play  \n",
       "Topic 16       play        way     work       like        big   choose    good  \n",
       "Topic 17        use       come     stay       play       year  country     pay  \n",
       "Topic 18     school    country    movie       come        pay  company   world  \n",
       "Topic 19       work       life      use        big       year   person    play  "
      ]
     },
     "execution_count": 112,
     "metadata": {},
     "output_type": "execute_result"
    }
   ],
   "source": [
    "df_topic_keywords"
   ]
  },
  {
   "cell_type": "code",
   "execution_count": 113,
   "metadata": {},
   "outputs": [
    {
     "data": {
      "text/html": [
       "<div>\n",
       "<style scoped>\n",
       "    .dataframe tbody tr th:only-of-type {\n",
       "        vertical-align: middle;\n",
       "    }\n",
       "\n",
       "    .dataframe tbody tr th {\n",
       "        vertical-align: top;\n",
       "    }\n",
       "\n",
       "    .dataframe thead th {\n",
       "        text-align: right;\n",
       "    }\n",
       "</style>\n",
       "<table border=\"1\" class=\"dataframe\">\n",
       "  <thead>\n",
       "    <tr style=\"text-align: right;\">\n",
       "      <th>topic_theme</th>\n",
       "      <th>American/Car/Marriage/Story/Life in general</th>\n",
       "      <th>Education/Business/Money</th>\n",
       "      <th>American Medicare/Trump</th>\n",
       "      <th>State/Social/Rights</th>\n",
       "      <th>Build new life</th>\n",
       "      <th>Highly educated Indian engineers in America</th>\n",
       "      <th>Tips on improving work day efficiency</th>\n",
       "      <th>College/Service/Power</th>\n",
       "      <th>Company/Human/Invest</th>\n",
       "      <th>Bank account/Charge</th>\n",
       "      <th>Book/Indian/App/Technology</th>\n",
       "      <th>War/Future/Family/USA/Race/Political</th>\n",
       "      <th>Government/President/Society</th>\n",
       "      <th>Relationship/China/Parent/Japan</th>\n",
       "      <th>Application/Energy/Machine/Economic/Art/Europe</th>\n",
       "      <th>Earth/Marketing/Culture</th>\n",
       "      <th>Air/Rate/Sleep/Blood/Email</th>\n",
       "      <th>Student/Internet/Computer/Science/Research</th>\n",
       "      <th>University/Engineering/Language/Software</th>\n",
       "      <th>Job/Learn/Skill improvement</th>\n",
       "    </tr>\n",
       "  </thead>\n",
       "  <tbody>\n",
       "    <tr>\n",
       "      <td>Word 0</td>\n",
       "      <td>school</td>\n",
       "      <td>use</td>\n",
       "      <td>way</td>\n",
       "      <td>people</td>\n",
       "      <td>year</td>\n",
       "      <td>life</td>\n",
       "      <td>think</td>\n",
       "      <td>play</td>\n",
       "      <td>movie</td>\n",
       "      <td>big</td>\n",
       "      <td>come</td>\n",
       "      <td>come</td>\n",
       "      <td>make</td>\n",
       "      <td>way</td>\n",
       "      <td>choose</td>\n",
       "      <td>feel</td>\n",
       "      <td>time</td>\n",
       "      <td>good</td>\n",
       "      <td>way</td>\n",
       "      <td>country</td>\n",
       "    </tr>\n",
       "    <tr>\n",
       "      <td>Word 1</td>\n",
       "      <td>money</td>\n",
       "      <td>like</td>\n",
       "      <td>good</td>\n",
       "      <td>company</td>\n",
       "      <td>stay</td>\n",
       "      <td>make</td>\n",
       "      <td>people</td>\n",
       "      <td>country</td>\n",
       "      <td>start</td>\n",
       "      <td>ask</td>\n",
       "      <td>ask</td>\n",
       "      <td>different</td>\n",
       "      <td>good</td>\n",
       "      <td>eat</td>\n",
       "      <td>life</td>\n",
       "      <td>quora</td>\n",
       "      <td>stay</td>\n",
       "      <td>world</td>\n",
       "      <td>life</td>\n",
       "      <td>high</td>\n",
       "    </tr>\n",
       "    <tr>\n",
       "      <td>Word 2</td>\n",
       "      <td>choose</td>\n",
       "      <td>start</td>\n",
       "      <td>school</td>\n",
       "      <td>time</td>\n",
       "      <td>like</td>\n",
       "      <td>company</td>\n",
       "      <td>work</td>\n",
       "      <td>stay</td>\n",
       "      <td>come</td>\n",
       "      <td>world</td>\n",
       "      <td>play</td>\n",
       "      <td>person</td>\n",
       "      <td>company</td>\n",
       "      <td>like</td>\n",
       "      <td>pay</td>\n",
       "      <td>person</td>\n",
       "      <td>country</td>\n",
       "      <td>different</td>\n",
       "      <td>stay</td>\n",
       "      <td>company</td>\n",
       "    </tr>\n",
       "    <tr>\n",
       "      <td>Word 3</td>\n",
       "      <td>high</td>\n",
       "      <td>school</td>\n",
       "      <td>eat</td>\n",
       "      <td>movie</td>\n",
       "      <td>life</td>\n",
       "      <td>different</td>\n",
       "      <td>feel</td>\n",
       "      <td>world</td>\n",
       "      <td>ask</td>\n",
       "      <td>country</td>\n",
       "      <td>make</td>\n",
       "      <td>play</td>\n",
       "      <td>play</td>\n",
       "      <td>play</td>\n",
       "      <td>country</td>\n",
       "      <td>people</td>\n",
       "      <td>use</td>\n",
       "      <td>work</td>\n",
       "      <td>start</td>\n",
       "      <td>choose</td>\n",
       "    </tr>\n",
       "    <tr>\n",
       "      <td>Word 4</td>\n",
       "      <td>pay</td>\n",
       "      <td>year</td>\n",
       "      <td>play</td>\n",
       "      <td>make</td>\n",
       "      <td>quora</td>\n",
       "      <td>think</td>\n",
       "      <td>come</td>\n",
       "      <td>start</td>\n",
       "      <td>use</td>\n",
       "      <td>high</td>\n",
       "      <td>start</td>\n",
       "      <td>school</td>\n",
       "      <td>like</td>\n",
       "      <td>money</td>\n",
       "      <td>start</td>\n",
       "      <td>time</td>\n",
       "      <td>school</td>\n",
       "      <td>life</td>\n",
       "      <td>use</td>\n",
       "      <td>money</td>\n",
       "    </tr>\n",
       "    <tr>\n",
       "      <td>Word 5</td>\n",
       "      <td>feel</td>\n",
       "      <td>world</td>\n",
       "      <td>come</td>\n",
       "      <td>person</td>\n",
       "      <td>ask</td>\n",
       "      <td>start</td>\n",
       "      <td>start</td>\n",
       "      <td>school</td>\n",
       "      <td>quora</td>\n",
       "      <td>school</td>\n",
       "      <td>life</td>\n",
       "      <td>company</td>\n",
       "      <td>movie</td>\n",
       "      <td>person</td>\n",
       "      <td>movie</td>\n",
       "      <td>choose</td>\n",
       "      <td>people</td>\n",
       "      <td>start</td>\n",
       "      <td>feel</td>\n",
       "      <td>time</td>\n",
       "    </tr>\n",
       "    <tr>\n",
       "      <td>Word 6</td>\n",
       "      <td>life</td>\n",
       "      <td>quora</td>\n",
       "      <td>world</td>\n",
       "      <td>school</td>\n",
       "      <td>pay</td>\n",
       "      <td>feel</td>\n",
       "      <td>company</td>\n",
       "      <td>high</td>\n",
       "      <td>year</td>\n",
       "      <td>good</td>\n",
       "      <td>school</td>\n",
       "      <td>eat</td>\n",
       "      <td>way</td>\n",
       "      <td>time</td>\n",
       "      <td>stay</td>\n",
       "      <td>ask</td>\n",
       "      <td>ask</td>\n",
       "      <td>ask</td>\n",
       "      <td>work</td>\n",
       "      <td>school</td>\n",
       "    </tr>\n",
       "    <tr>\n",
       "      <td>Word 7</td>\n",
       "      <td>start</td>\n",
       "      <td>people</td>\n",
       "      <td>big</td>\n",
       "      <td>big</td>\n",
       "      <td>people</td>\n",
       "      <td>school</td>\n",
       "      <td>year</td>\n",
       "      <td>good</td>\n",
       "      <td>stay</td>\n",
       "      <td>quora</td>\n",
       "      <td>stay</td>\n",
       "      <td>make</td>\n",
       "      <td>money</td>\n",
       "      <td>come</td>\n",
       "      <td>money</td>\n",
       "      <td>stay</td>\n",
       "      <td>come</td>\n",
       "      <td>quora</td>\n",
       "      <td>big</td>\n",
       "      <td>feel</td>\n",
       "    </tr>\n",
       "    <tr>\n",
       "      <td>Word 8</td>\n",
       "      <td>people</td>\n",
       "      <td>money</td>\n",
       "      <td>make</td>\n",
       "      <td>way</td>\n",
       "      <td>school</td>\n",
       "      <td>money</td>\n",
       "      <td>school</td>\n",
       "      <td>movie</td>\n",
       "      <td>company</td>\n",
       "      <td>money</td>\n",
       "      <td>world</td>\n",
       "      <td>use</td>\n",
       "      <td>school</td>\n",
       "      <td>stay</td>\n",
       "      <td>quora</td>\n",
       "      <td>eat</td>\n",
       "      <td>person</td>\n",
       "      <td>company</td>\n",
       "      <td>think</td>\n",
       "      <td>pay</td>\n",
       "    </tr>\n",
       "    <tr>\n",
       "      <td>Word 9</td>\n",
       "      <td>quora</td>\n",
       "      <td>eat</td>\n",
       "      <td>people</td>\n",
       "      <td>start</td>\n",
       "      <td>make</td>\n",
       "      <td>big</td>\n",
       "      <td>make</td>\n",
       "      <td>person</td>\n",
       "      <td>think</td>\n",
       "      <td>make</td>\n",
       "      <td>time</td>\n",
       "      <td>stay</td>\n",
       "      <td>eat</td>\n",
       "      <td>company</td>\n",
       "      <td>come</td>\n",
       "      <td>company</td>\n",
       "      <td>high</td>\n",
       "      <td>money</td>\n",
       "      <td>ask</td>\n",
       "      <td>good</td>\n",
       "    </tr>\n",
       "    <tr>\n",
       "      <td>Word 10</td>\n",
       "      <td>time</td>\n",
       "      <td>movie</td>\n",
       "      <td>choose</td>\n",
       "      <td>good</td>\n",
       "      <td>person</td>\n",
       "      <td>ask</td>\n",
       "      <td>eat</td>\n",
       "      <td>quora</td>\n",
       "      <td>way</td>\n",
       "      <td>people</td>\n",
       "      <td>think</td>\n",
       "      <td>pay</td>\n",
       "      <td>start</td>\n",
       "      <td>good</td>\n",
       "      <td>company</td>\n",
       "      <td>good</td>\n",
       "      <td>think</td>\n",
       "      <td>person</td>\n",
       "      <td>different</td>\n",
       "      <td>eat</td>\n",
       "    </tr>\n",
       "    <tr>\n",
       "      <td>Word 11</td>\n",
       "      <td>think</td>\n",
       "      <td>different</td>\n",
       "      <td>life</td>\n",
       "      <td>choose</td>\n",
       "      <td>come</td>\n",
       "      <td>pay</td>\n",
       "      <td>stay</td>\n",
       "      <td>think</td>\n",
       "      <td>feel</td>\n",
       "      <td>time</td>\n",
       "      <td>good</td>\n",
       "      <td>time</td>\n",
       "      <td>time</td>\n",
       "      <td>people</td>\n",
       "      <td>people</td>\n",
       "      <td>country</td>\n",
       "      <td>life</td>\n",
       "      <td>people</td>\n",
       "      <td>money</td>\n",
       "      <td>make</td>\n",
       "    </tr>\n",
       "    <tr>\n",
       "      <td>Word 12</td>\n",
       "      <td>ask</td>\n",
       "      <td>ask</td>\n",
       "      <td>money</td>\n",
       "      <td>work</td>\n",
       "      <td>good</td>\n",
       "      <td>world</td>\n",
       "      <td>time</td>\n",
       "      <td>choose</td>\n",
       "      <td>good</td>\n",
       "      <td>like</td>\n",
       "      <td>different</td>\n",
       "      <td>country</td>\n",
       "      <td>come</td>\n",
       "      <td>pay</td>\n",
       "      <td>year</td>\n",
       "      <td>big</td>\n",
       "      <td>start</td>\n",
       "      <td>eat</td>\n",
       "      <td>eat</td>\n",
       "      <td>start</td>\n",
       "    </tr>\n",
       "    <tr>\n",
       "      <td>Word 13</td>\n",
       "      <td>different</td>\n",
       "      <td>good</td>\n",
       "      <td>company</td>\n",
       "      <td>money</td>\n",
       "      <td>country</td>\n",
       "      <td>use</td>\n",
       "      <td>movie</td>\n",
       "      <td>money</td>\n",
       "      <td>people</td>\n",
       "      <td>start</td>\n",
       "      <td>like</td>\n",
       "      <td>big</td>\n",
       "      <td>person</td>\n",
       "      <td>year</td>\n",
       "      <td>like</td>\n",
       "      <td>different</td>\n",
       "      <td>play</td>\n",
       "      <td>use</td>\n",
       "      <td>school</td>\n",
       "      <td>work</td>\n",
       "    </tr>\n",
       "    <tr>\n",
       "      <td>Word 14</td>\n",
       "      <td>make</td>\n",
       "      <td>think</td>\n",
       "      <td>different</td>\n",
       "      <td>like</td>\n",
       "      <td>way</td>\n",
       "      <td>way</td>\n",
       "      <td>world</td>\n",
       "      <td>year</td>\n",
       "      <td>world</td>\n",
       "      <td>choose</td>\n",
       "      <td>high</td>\n",
       "      <td>like</td>\n",
       "      <td>think</td>\n",
       "      <td>school</td>\n",
       "      <td>time</td>\n",
       "      <td>start</td>\n",
       "      <td>way</td>\n",
       "      <td>come</td>\n",
       "      <td>country</td>\n",
       "      <td>life</td>\n",
       "    </tr>\n",
       "    <tr>\n",
       "      <td>Word 15</td>\n",
       "      <td>country</td>\n",
       "      <td>feel</td>\n",
       "      <td>pay</td>\n",
       "      <td>stay</td>\n",
       "      <td>company</td>\n",
       "      <td>work</td>\n",
       "      <td>use</td>\n",
       "      <td>work</td>\n",
       "      <td>big</td>\n",
       "      <td>company</td>\n",
       "      <td>way</td>\n",
       "      <td>life</td>\n",
       "      <td>stay</td>\n",
       "      <td>think</td>\n",
       "      <td>way</td>\n",
       "      <td>world</td>\n",
       "      <td>work</td>\n",
       "      <td>stay</td>\n",
       "      <td>movie</td>\n",
       "      <td>use</td>\n",
       "    </tr>\n",
       "    <tr>\n",
       "      <td>Word 16</td>\n",
       "      <td>big</td>\n",
       "      <td>stay</td>\n",
       "      <td>quora</td>\n",
       "      <td>use</td>\n",
       "      <td>world</td>\n",
       "      <td>choose</td>\n",
       "      <td>big</td>\n",
       "      <td>different</td>\n",
       "      <td>work</td>\n",
       "      <td>think</td>\n",
       "      <td>quora</td>\n",
       "      <td>start</td>\n",
       "      <td>pay</td>\n",
       "      <td>work</td>\n",
       "      <td>use</td>\n",
       "      <td>like</td>\n",
       "      <td>like</td>\n",
       "      <td>play</td>\n",
       "      <td>come</td>\n",
       "      <td>big</td>\n",
       "    </tr>\n",
       "    <tr>\n",
       "      <td>Word 17</td>\n",
       "      <td>world</td>\n",
       "      <td>person</td>\n",
       "      <td>start</td>\n",
       "      <td>pay</td>\n",
       "      <td>big</td>\n",
       "      <td>people</td>\n",
       "      <td>money</td>\n",
       "      <td>use</td>\n",
       "      <td>eat</td>\n",
       "      <td>different</td>\n",
       "      <td>big</td>\n",
       "      <td>people</td>\n",
       "      <td>year</td>\n",
       "      <td>use</td>\n",
       "      <td>eat</td>\n",
       "      <td>come</td>\n",
       "      <td>big</td>\n",
       "      <td>year</td>\n",
       "      <td>pay</td>\n",
       "      <td>year</td>\n",
       "    </tr>\n",
       "    <tr>\n",
       "      <td>Word 18</td>\n",
       "      <td>good</td>\n",
       "      <td>life</td>\n",
       "      <td>ask</td>\n",
       "      <td>quora</td>\n",
       "      <td>time</td>\n",
       "      <td>stay</td>\n",
       "      <td>like</td>\n",
       "      <td>pay</td>\n",
       "      <td>country</td>\n",
       "      <td>stay</td>\n",
       "      <td>use</td>\n",
       "      <td>money</td>\n",
       "      <td>ask</td>\n",
       "      <td>country</td>\n",
       "      <td>good</td>\n",
       "      <td>way</td>\n",
       "      <td>choose</td>\n",
       "      <td>country</td>\n",
       "      <td>company</td>\n",
       "      <td>person</td>\n",
       "    </tr>\n",
       "    <tr>\n",
       "      <td>Word 19</td>\n",
       "      <td>eat</td>\n",
       "      <td>choose</td>\n",
       "      <td>feel</td>\n",
       "      <td>eat</td>\n",
       "      <td>money</td>\n",
       "      <td>time</td>\n",
       "      <td>good</td>\n",
       "      <td>come</td>\n",
       "      <td>person</td>\n",
       "      <td>way</td>\n",
       "      <td>people</td>\n",
       "      <td>way</td>\n",
       "      <td>world</td>\n",
       "      <td>ask</td>\n",
       "      <td>ask</td>\n",
       "      <td>play</td>\n",
       "      <td>good</td>\n",
       "      <td>pay</td>\n",
       "      <td>world</td>\n",
       "      <td>play</td>\n",
       "    </tr>\n",
       "  </tbody>\n",
       "</table>\n",
       "</div>"
      ],
      "text/plain": [
       "topic_theme American/Car/Marriage/Story/Life in general  \\\n",
       "Word 0                                           school   \n",
       "Word 1                                            money   \n",
       "Word 2                                           choose   \n",
       "Word 3                                             high   \n",
       "Word 4                                              pay   \n",
       "Word 5                                             feel   \n",
       "Word 6                                             life   \n",
       "Word 7                                            start   \n",
       "Word 8                                           people   \n",
       "Word 9                                            quora   \n",
       "Word 10                                            time   \n",
       "Word 11                                           think   \n",
       "Word 12                                             ask   \n",
       "Word 13                                       different   \n",
       "Word 14                                            make   \n",
       "Word 15                                         country   \n",
       "Word 16                                             big   \n",
       "Word 17                                           world   \n",
       "Word 18                                            good   \n",
       "Word 19                                             eat   \n",
       "\n",
       "topic_theme Education/Business/Money American Medicare/Trump  \\\n",
       "Word 0                           use                     way   \n",
       "Word 1                          like                    good   \n",
       "Word 2                         start                  school   \n",
       "Word 3                        school                     eat   \n",
       "Word 4                          year                    play   \n",
       "Word 5                         world                    come   \n",
       "Word 6                         quora                   world   \n",
       "Word 7                        people                     big   \n",
       "Word 8                         money                    make   \n",
       "Word 9                           eat                  people   \n",
       "Word 10                        movie                  choose   \n",
       "Word 11                    different                    life   \n",
       "Word 12                          ask                   money   \n",
       "Word 13                         good                 company   \n",
       "Word 14                        think               different   \n",
       "Word 15                         feel                     pay   \n",
       "Word 16                         stay                   quora   \n",
       "Word 17                       person                   start   \n",
       "Word 18                         life                     ask   \n",
       "Word 19                       choose                    feel   \n",
       "\n",
       "topic_theme State/Social/Rights Build new life  \\\n",
       "Word 0                   people           year   \n",
       "Word 1                  company           stay   \n",
       "Word 2                     time           like   \n",
       "Word 3                    movie           life   \n",
       "Word 4                     make          quora   \n",
       "Word 5                   person            ask   \n",
       "Word 6                   school            pay   \n",
       "Word 7                      big         people   \n",
       "Word 8                      way         school   \n",
       "Word 9                    start           make   \n",
       "Word 10                    good         person   \n",
       "Word 11                  choose           come   \n",
       "Word 12                    work           good   \n",
       "Word 13                   money        country   \n",
       "Word 14                    like            way   \n",
       "Word 15                    stay        company   \n",
       "Word 16                     use          world   \n",
       "Word 17                     pay            big   \n",
       "Word 18                   quora           time   \n",
       "Word 19                     eat          money   \n",
       "\n",
       "topic_theme Highly educated Indian engineers in America  \\\n",
       "Word 0                                             life   \n",
       "Word 1                                             make   \n",
       "Word 2                                          company   \n",
       "Word 3                                        different   \n",
       "Word 4                                            think   \n",
       "Word 5                                            start   \n",
       "Word 6                                             feel   \n",
       "Word 7                                           school   \n",
       "Word 8                                            money   \n",
       "Word 9                                              big   \n",
       "Word 10                                             ask   \n",
       "Word 11                                             pay   \n",
       "Word 12                                           world   \n",
       "Word 13                                             use   \n",
       "Word 14                                             way   \n",
       "Word 15                                            work   \n",
       "Word 16                                          choose   \n",
       "Word 17                                          people   \n",
       "Word 18                                            stay   \n",
       "Word 19                                            time   \n",
       "\n",
       "topic_theme Tips on improving work day efficiency College/Service/Power  \\\n",
       "Word 0                                      think                  play   \n",
       "Word 1                                     people               country   \n",
       "Word 2                                       work                  stay   \n",
       "Word 3                                       feel                 world   \n",
       "Word 4                                       come                 start   \n",
       "Word 5                                      start                school   \n",
       "Word 6                                    company                  high   \n",
       "Word 7                                       year                  good   \n",
       "Word 8                                     school                 movie   \n",
       "Word 9                                       make                person   \n",
       "Word 10                                       eat                 quora   \n",
       "Word 11                                      stay                 think   \n",
       "Word 12                                      time                choose   \n",
       "Word 13                                     movie                 money   \n",
       "Word 14                                     world                  year   \n",
       "Word 15                                       use                  work   \n",
       "Word 16                                       big             different   \n",
       "Word 17                                     money                   use   \n",
       "Word 18                                      like                   pay   \n",
       "Word 19                                      good                  come   \n",
       "\n",
       "topic_theme Company/Human/Invest Bank account/Charge  \\\n",
       "Word 0                     movie                 big   \n",
       "Word 1                     start                 ask   \n",
       "Word 2                      come               world   \n",
       "Word 3                       ask             country   \n",
       "Word 4                       use                high   \n",
       "Word 5                     quora              school   \n",
       "Word 6                      year                good   \n",
       "Word 7                      stay               quora   \n",
       "Word 8                   company               money   \n",
       "Word 9                     think                make   \n",
       "Word 10                      way              people   \n",
       "Word 11                     feel                time   \n",
       "Word 12                     good                like   \n",
       "Word 13                   people               start   \n",
       "Word 14                    world              choose   \n",
       "Word 15                      big             company   \n",
       "Word 16                     work               think   \n",
       "Word 17                      eat           different   \n",
       "Word 18                  country                stay   \n",
       "Word 19                   person                 way   \n",
       "\n",
       "topic_theme Book/Indian/App/Technology War/Future/Family/USA/Race/Political  \\\n",
       "Word 0                            come                                 come   \n",
       "Word 1                             ask                            different   \n",
       "Word 2                            play                               person   \n",
       "Word 3                            make                                 play   \n",
       "Word 4                           start                               school   \n",
       "Word 5                            life                              company   \n",
       "Word 6                          school                                  eat   \n",
       "Word 7                            stay                                 make   \n",
       "Word 8                           world                                  use   \n",
       "Word 9                            time                                 stay   \n",
       "Word 10                          think                                  pay   \n",
       "Word 11                           good                                 time   \n",
       "Word 12                      different                              country   \n",
       "Word 13                           like                                  big   \n",
       "Word 14                           high                                 like   \n",
       "Word 15                            way                                 life   \n",
       "Word 16                          quora                                start   \n",
       "Word 17                            big                               people   \n",
       "Word 18                            use                                money   \n",
       "Word 19                         people                                  way   \n",
       "\n",
       "topic_theme Government/President/Society Relationship/China/Parent/Japan  \\\n",
       "Word 0                              make                             way   \n",
       "Word 1                              good                             eat   \n",
       "Word 2                           company                            like   \n",
       "Word 3                              play                            play   \n",
       "Word 4                              like                           money   \n",
       "Word 5                             movie                          person   \n",
       "Word 6                               way                            time   \n",
       "Word 7                             money                            come   \n",
       "Word 8                            school                            stay   \n",
       "Word 9                               eat                         company   \n",
       "Word 10                            start                            good   \n",
       "Word 11                             time                          people   \n",
       "Word 12                             come                             pay   \n",
       "Word 13                           person                            year   \n",
       "Word 14                            think                          school   \n",
       "Word 15                             stay                           think   \n",
       "Word 16                              pay                            work   \n",
       "Word 17                             year                             use   \n",
       "Word 18                              ask                         country   \n",
       "Word 19                            world                             ask   \n",
       "\n",
       "topic_theme Application/Energy/Machine/Economic/Art/Europe  \\\n",
       "Word 0                                              choose   \n",
       "Word 1                                                life   \n",
       "Word 2                                                 pay   \n",
       "Word 3                                             country   \n",
       "Word 4                                               start   \n",
       "Word 5                                               movie   \n",
       "Word 6                                                stay   \n",
       "Word 7                                               money   \n",
       "Word 8                                               quora   \n",
       "Word 9                                                come   \n",
       "Word 10                                            company   \n",
       "Word 11                                             people   \n",
       "Word 12                                               year   \n",
       "Word 13                                               like   \n",
       "Word 14                                               time   \n",
       "Word 15                                                way   \n",
       "Word 16                                                use   \n",
       "Word 17                                                eat   \n",
       "Word 18                                               good   \n",
       "Word 19                                                ask   \n",
       "\n",
       "topic_theme Earth/Marketing/Culture Air/Rate/Sleep/Blood/Email  \\\n",
       "Word 0                         feel                       time   \n",
       "Word 1                        quora                       stay   \n",
       "Word 2                       person                    country   \n",
       "Word 3                       people                        use   \n",
       "Word 4                         time                     school   \n",
       "Word 5                       choose                     people   \n",
       "Word 6                          ask                        ask   \n",
       "Word 7                         stay                       come   \n",
       "Word 8                          eat                     person   \n",
       "Word 9                      company                       high   \n",
       "Word 10                        good                      think   \n",
       "Word 11                     country                       life   \n",
       "Word 12                         big                      start   \n",
       "Word 13                   different                       play   \n",
       "Word 14                       start                        way   \n",
       "Word 15                       world                       work   \n",
       "Word 16                        like                       like   \n",
       "Word 17                        come                        big   \n",
       "Word 18                         way                     choose   \n",
       "Word 19                        play                       good   \n",
       "\n",
       "topic_theme Student/Internet/Computer/Science/Research  \\\n",
       "Word 0                                            good   \n",
       "Word 1                                           world   \n",
       "Word 2                                       different   \n",
       "Word 3                                            work   \n",
       "Word 4                                            life   \n",
       "Word 5                                           start   \n",
       "Word 6                                             ask   \n",
       "Word 7                                           quora   \n",
       "Word 8                                         company   \n",
       "Word 9                                           money   \n",
       "Word 10                                         person   \n",
       "Word 11                                         people   \n",
       "Word 12                                            eat   \n",
       "Word 13                                            use   \n",
       "Word 14                                           come   \n",
       "Word 15                                           stay   \n",
       "Word 16                                           play   \n",
       "Word 17                                           year   \n",
       "Word 18                                        country   \n",
       "Word 19                                            pay   \n",
       "\n",
       "topic_theme University/Engineering/Language/Software  \\\n",
       "Word 0                                           way   \n",
       "Word 1                                          life   \n",
       "Word 2                                          stay   \n",
       "Word 3                                         start   \n",
       "Word 4                                           use   \n",
       "Word 5                                          feel   \n",
       "Word 6                                          work   \n",
       "Word 7                                           big   \n",
       "Word 8                                         think   \n",
       "Word 9                                           ask   \n",
       "Word 10                                    different   \n",
       "Word 11                                        money   \n",
       "Word 12                                          eat   \n",
       "Word 13                                       school   \n",
       "Word 14                                      country   \n",
       "Word 15                                        movie   \n",
       "Word 16                                         come   \n",
       "Word 17                                          pay   \n",
       "Word 18                                      company   \n",
       "Word 19                                        world   \n",
       "\n",
       "topic_theme Job/Learn/Skill improvement  \n",
       "Word 0                          country  \n",
       "Word 1                             high  \n",
       "Word 2                          company  \n",
       "Word 3                           choose  \n",
       "Word 4                            money  \n",
       "Word 5                             time  \n",
       "Word 6                           school  \n",
       "Word 7                             feel  \n",
       "Word 8                              pay  \n",
       "Word 9                             good  \n",
       "Word 10                             eat  \n",
       "Word 11                            make  \n",
       "Word 12                           start  \n",
       "Word 13                            work  \n",
       "Word 14                            life  \n",
       "Word 15                             use  \n",
       "Word 16                             big  \n",
       "Word 17                            year  \n",
       "Word 18                          person  \n",
       "Word 19                            play  "
      ]
     },
     "execution_count": 113,
     "metadata": {},
     "output_type": "execute_result"
    }
   ],
   "source": [
    "\n",
    "Topics_theme = ['American/Car/Marriage/Story/Life in general', 'Education/Business/Money', 'American Medicare/Trump', 'State/Social/Rights', \n",
    "                'Build new life', 'Highly educated Indian engineers in America', 'Tips on improving work day efficiency', 'College/Service/Power', \n",
    "                'Company/Human/Invest', 'Bank account/Charge', 'Book/Indian/App/Technology', 'War/Future/Family/USA/Race/Political', \n",
    "                'Government/President/Society', 'Relationship/China/Parent/Japan', 'Application/Energy/Machine/Economic/Art/Europe', 'Earth/Marketing/Culture', \n",
    "               'Air/Rate/Sleep/Blood/Email', 'Student/Internet/Computer/Science/Research', 'University/Engineering/Language/Software', \n",
    "                'Job/Learn/Skill improvement']\n",
    "df_topic_keywords['topic_theme'] = Topics_theme\n",
    "df_topic_keywords.set_index('topic_theme', inplace=True)\n",
    "df_topic_keywords.T"
   ]
  },
  {
   "cell_type": "code",
   "execution_count": 114,
   "metadata": {},
   "outputs": [],
   "source": [
    "# Create Document - Topic Matrix\n",
    "lda_output = lda_model.transform(data_vectorized)\n",
    "\n",
    "# column names\n",
    "topicnames = df_topic_keywords.T.columns\n",
    "# topicnames = [\"Topic\" + str(i) for i in range(20)]\n",
    "\n",
    "# index names\n",
    "docnames = [\"Doc\" + str(i) for i in range(len(df_clean))]\n",
    "\n",
    "# Make the pandas dataframe\n",
    "df_document_topic = pd.DataFrame(np.round(lda_output, 2), columns=topicnames, index=docnames)\n",
    "\n",
    "# Get dominant topic for each document\n",
    "dominant_topic = np.argmax(df_document_topic.values, axis=1)\n",
    "df_document_topic['dominant_topic'] = dominant_topic"
   ]
  },
  {
   "cell_type": "code",
   "execution_count": 115,
   "metadata": {},
   "outputs": [
    {
     "data": {
      "text/html": [
       "<div>\n",
       "<style scoped>\n",
       "    .dataframe tbody tr th:only-of-type {\n",
       "        vertical-align: middle;\n",
       "    }\n",
       "\n",
       "    .dataframe tbody tr th {\n",
       "        vertical-align: top;\n",
       "    }\n",
       "\n",
       "    .dataframe thead th {\n",
       "        text-align: right;\n",
       "    }\n",
       "</style>\n",
       "<table border=\"1\" class=\"dataframe\">\n",
       "  <thead>\n",
       "    <tr style=\"text-align: right;\">\n",
       "      <th>topic_theme</th>\n",
       "      <th>American/Car/Marriage/Story/Life in general</th>\n",
       "      <th>Education/Business/Money</th>\n",
       "      <th>American Medicare/Trump</th>\n",
       "      <th>State/Social/Rights</th>\n",
       "      <th>Build new life</th>\n",
       "      <th>Highly educated Indian engineers in America</th>\n",
       "      <th>Tips on improving work day efficiency</th>\n",
       "      <th>College/Service/Power</th>\n",
       "      <th>Company/Human/Invest</th>\n",
       "      <th>Bank account/Charge</th>\n",
       "      <th>...</th>\n",
       "      <th>War/Future/Family/USA/Race/Political</th>\n",
       "      <th>Government/President/Society</th>\n",
       "      <th>Relationship/China/Parent/Japan</th>\n",
       "      <th>Application/Energy/Machine/Economic/Art/Europe</th>\n",
       "      <th>Earth/Marketing/Culture</th>\n",
       "      <th>Air/Rate/Sleep/Blood/Email</th>\n",
       "      <th>Student/Internet/Computer/Science/Research</th>\n",
       "      <th>University/Engineering/Language/Software</th>\n",
       "      <th>Job/Learn/Skill improvement</th>\n",
       "      <th>dominant_topic</th>\n",
       "    </tr>\n",
       "  </thead>\n",
       "  <tbody>\n",
       "    <tr>\n",
       "      <td>Doc0</td>\n",
       "      <td>0.05</td>\n",
       "      <td>0.05</td>\n",
       "      <td>0.05</td>\n",
       "      <td>0.05</td>\n",
       "      <td>0.05</td>\n",
       "      <td>0.05</td>\n",
       "      <td>0.05</td>\n",
       "      <td>0.05</td>\n",
       "      <td>0.05</td>\n",
       "      <td>0.05</td>\n",
       "      <td>...</td>\n",
       "      <td>0.05</td>\n",
       "      <td>0.05</td>\n",
       "      <td>0.05</td>\n",
       "      <td>0.05</td>\n",
       "      <td>0.05</td>\n",
       "      <td>0.05</td>\n",
       "      <td>0.05</td>\n",
       "      <td>0.05</td>\n",
       "      <td>0.05</td>\n",
       "      <td>0</td>\n",
       "    </tr>\n",
       "    <tr>\n",
       "      <td>Doc1</td>\n",
       "      <td>0.03</td>\n",
       "      <td>0.03</td>\n",
       "      <td>0.03</td>\n",
       "      <td>0.03</td>\n",
       "      <td>0.03</td>\n",
       "      <td>0.03</td>\n",
       "      <td>0.03</td>\n",
       "      <td>0.03</td>\n",
       "      <td>0.03</td>\n",
       "      <td>0.03</td>\n",
       "      <td>...</td>\n",
       "      <td>0.03</td>\n",
       "      <td>0.03</td>\n",
       "      <td>0.03</td>\n",
       "      <td>0.03</td>\n",
       "      <td>0.03</td>\n",
       "      <td>0.03</td>\n",
       "      <td>0.52</td>\n",
       "      <td>0.03</td>\n",
       "      <td>0.03</td>\n",
       "      <td>17</td>\n",
       "    </tr>\n",
       "    <tr>\n",
       "      <td>Doc2</td>\n",
       "      <td>0.05</td>\n",
       "      <td>0.05</td>\n",
       "      <td>0.05</td>\n",
       "      <td>0.05</td>\n",
       "      <td>0.05</td>\n",
       "      <td>0.05</td>\n",
       "      <td>0.05</td>\n",
       "      <td>0.05</td>\n",
       "      <td>0.05</td>\n",
       "      <td>0.05</td>\n",
       "      <td>...</td>\n",
       "      <td>0.05</td>\n",
       "      <td>0.05</td>\n",
       "      <td>0.05</td>\n",
       "      <td>0.05</td>\n",
       "      <td>0.05</td>\n",
       "      <td>0.05</td>\n",
       "      <td>0.05</td>\n",
       "      <td>0.05</td>\n",
       "      <td>0.05</td>\n",
       "      <td>0</td>\n",
       "    </tr>\n",
       "    <tr>\n",
       "      <td>Doc3</td>\n",
       "      <td>0.05</td>\n",
       "      <td>0.05</td>\n",
       "      <td>0.05</td>\n",
       "      <td>0.05</td>\n",
       "      <td>0.05</td>\n",
       "      <td>0.05</td>\n",
       "      <td>0.05</td>\n",
       "      <td>0.05</td>\n",
       "      <td>0.05</td>\n",
       "      <td>0.05</td>\n",
       "      <td>...</td>\n",
       "      <td>0.05</td>\n",
       "      <td>0.05</td>\n",
       "      <td>0.05</td>\n",
       "      <td>0.05</td>\n",
       "      <td>0.05</td>\n",
       "      <td>0.05</td>\n",
       "      <td>0.05</td>\n",
       "      <td>0.05</td>\n",
       "      <td>0.05</td>\n",
       "      <td>0</td>\n",
       "    </tr>\n",
       "    <tr>\n",
       "      <td>Doc4</td>\n",
       "      <td>0.05</td>\n",
       "      <td>0.05</td>\n",
       "      <td>0.05</td>\n",
       "      <td>0.05</td>\n",
       "      <td>0.05</td>\n",
       "      <td>0.05</td>\n",
       "      <td>0.05</td>\n",
       "      <td>0.05</td>\n",
       "      <td>0.05</td>\n",
       "      <td>0.05</td>\n",
       "      <td>...</td>\n",
       "      <td>0.05</td>\n",
       "      <td>0.05</td>\n",
       "      <td>0.05</td>\n",
       "      <td>0.05</td>\n",
       "      <td>0.05</td>\n",
       "      <td>0.05</td>\n",
       "      <td>0.05</td>\n",
       "      <td>0.05</td>\n",
       "      <td>0.05</td>\n",
       "      <td>0</td>\n",
       "    </tr>\n",
       "    <tr>\n",
       "      <td>...</td>\n",
       "      <td>...</td>\n",
       "      <td>...</td>\n",
       "      <td>...</td>\n",
       "      <td>...</td>\n",
       "      <td>...</td>\n",
       "      <td>...</td>\n",
       "      <td>...</td>\n",
       "      <td>...</td>\n",
       "      <td>...</td>\n",
       "      <td>...</td>\n",
       "      <td>...</td>\n",
       "      <td>...</td>\n",
       "      <td>...</td>\n",
       "      <td>...</td>\n",
       "      <td>...</td>\n",
       "      <td>...</td>\n",
       "      <td>...</td>\n",
       "      <td>...</td>\n",
       "      <td>...</td>\n",
       "      <td>...</td>\n",
       "      <td>...</td>\n",
       "    </tr>\n",
       "    <tr>\n",
       "      <td>Doc144</td>\n",
       "      <td>0.05</td>\n",
       "      <td>0.05</td>\n",
       "      <td>0.05</td>\n",
       "      <td>0.05</td>\n",
       "      <td>0.05</td>\n",
       "      <td>0.05</td>\n",
       "      <td>0.05</td>\n",
       "      <td>0.05</td>\n",
       "      <td>0.05</td>\n",
       "      <td>0.05</td>\n",
       "      <td>...</td>\n",
       "      <td>0.05</td>\n",
       "      <td>0.05</td>\n",
       "      <td>0.05</td>\n",
       "      <td>0.05</td>\n",
       "      <td>0.05</td>\n",
       "      <td>0.05</td>\n",
       "      <td>0.05</td>\n",
       "      <td>0.05</td>\n",
       "      <td>0.05</td>\n",
       "      <td>0</td>\n",
       "    </tr>\n",
       "    <tr>\n",
       "      <td>Doc145</td>\n",
       "      <td>0.05</td>\n",
       "      <td>0.05</td>\n",
       "      <td>0.05</td>\n",
       "      <td>0.05</td>\n",
       "      <td>0.05</td>\n",
       "      <td>0.05</td>\n",
       "      <td>0.05</td>\n",
       "      <td>0.05</td>\n",
       "      <td>0.05</td>\n",
       "      <td>0.05</td>\n",
       "      <td>...</td>\n",
       "      <td>0.05</td>\n",
       "      <td>0.05</td>\n",
       "      <td>0.05</td>\n",
       "      <td>0.05</td>\n",
       "      <td>0.05</td>\n",
       "      <td>0.05</td>\n",
       "      <td>0.05</td>\n",
       "      <td>0.05</td>\n",
       "      <td>0.05</td>\n",
       "      <td>0</td>\n",
       "    </tr>\n",
       "    <tr>\n",
       "      <td>Doc146</td>\n",
       "      <td>0.03</td>\n",
       "      <td>0.03</td>\n",
       "      <td>0.03</td>\n",
       "      <td>0.03</td>\n",
       "      <td>0.03</td>\n",
       "      <td>0.03</td>\n",
       "      <td>0.03</td>\n",
       "      <td>0.03</td>\n",
       "      <td>0.03</td>\n",
       "      <td>0.03</td>\n",
       "      <td>...</td>\n",
       "      <td>0.03</td>\n",
       "      <td>0.03</td>\n",
       "      <td>0.03</td>\n",
       "      <td>0.03</td>\n",
       "      <td>0.03</td>\n",
       "      <td>0.03</td>\n",
       "      <td>0.52</td>\n",
       "      <td>0.03</td>\n",
       "      <td>0.03</td>\n",
       "      <td>17</td>\n",
       "    </tr>\n",
       "    <tr>\n",
       "      <td>Doc147</td>\n",
       "      <td>0.05</td>\n",
       "      <td>0.05</td>\n",
       "      <td>0.05</td>\n",
       "      <td>0.05</td>\n",
       "      <td>0.05</td>\n",
       "      <td>0.05</td>\n",
       "      <td>0.05</td>\n",
       "      <td>0.05</td>\n",
       "      <td>0.05</td>\n",
       "      <td>0.05</td>\n",
       "      <td>...</td>\n",
       "      <td>0.05</td>\n",
       "      <td>0.05</td>\n",
       "      <td>0.05</td>\n",
       "      <td>0.05</td>\n",
       "      <td>0.05</td>\n",
       "      <td>0.05</td>\n",
       "      <td>0.05</td>\n",
       "      <td>0.05</td>\n",
       "      <td>0.05</td>\n",
       "      <td>0</td>\n",
       "    </tr>\n",
       "    <tr>\n",
       "      <td>Doc148</td>\n",
       "      <td>0.05</td>\n",
       "      <td>0.05</td>\n",
       "      <td>0.05</td>\n",
       "      <td>0.05</td>\n",
       "      <td>0.05</td>\n",
       "      <td>0.05</td>\n",
       "      <td>0.05</td>\n",
       "      <td>0.05</td>\n",
       "      <td>0.05</td>\n",
       "      <td>0.05</td>\n",
       "      <td>...</td>\n",
       "      <td>0.05</td>\n",
       "      <td>0.05</td>\n",
       "      <td>0.05</td>\n",
       "      <td>0.05</td>\n",
       "      <td>0.05</td>\n",
       "      <td>0.05</td>\n",
       "      <td>0.05</td>\n",
       "      <td>0.05</td>\n",
       "      <td>0.05</td>\n",
       "      <td>0</td>\n",
       "    </tr>\n",
       "  </tbody>\n",
       "</table>\n",
       "<p>149 rows × 21 columns</p>\n",
       "</div>"
      ],
      "text/plain": [
       "topic_theme  American/Car/Marriage/Story/Life in general  \\\n",
       "Doc0                                                0.05   \n",
       "Doc1                                                0.03   \n",
       "Doc2                                                0.05   \n",
       "Doc3                                                0.05   \n",
       "Doc4                                                0.05   \n",
       "...                                                  ...   \n",
       "Doc144                                              0.05   \n",
       "Doc145                                              0.05   \n",
       "Doc146                                              0.03   \n",
       "Doc147                                              0.05   \n",
       "Doc148                                              0.05   \n",
       "\n",
       "topic_theme  Education/Business/Money  American Medicare/Trump  \\\n",
       "Doc0                             0.05                     0.05   \n",
       "Doc1                             0.03                     0.03   \n",
       "Doc2                             0.05                     0.05   \n",
       "Doc3                             0.05                     0.05   \n",
       "Doc4                             0.05                     0.05   \n",
       "...                               ...                      ...   \n",
       "Doc144                           0.05                     0.05   \n",
       "Doc145                           0.05                     0.05   \n",
       "Doc146                           0.03                     0.03   \n",
       "Doc147                           0.05                     0.05   \n",
       "Doc148                           0.05                     0.05   \n",
       "\n",
       "topic_theme  State/Social/Rights  Build new life  \\\n",
       "Doc0                        0.05            0.05   \n",
       "Doc1                        0.03            0.03   \n",
       "Doc2                        0.05            0.05   \n",
       "Doc3                        0.05            0.05   \n",
       "Doc4                        0.05            0.05   \n",
       "...                          ...             ...   \n",
       "Doc144                      0.05            0.05   \n",
       "Doc145                      0.05            0.05   \n",
       "Doc146                      0.03            0.03   \n",
       "Doc147                      0.05            0.05   \n",
       "Doc148                      0.05            0.05   \n",
       "\n",
       "topic_theme  Highly educated Indian engineers in America  \\\n",
       "Doc0                                                0.05   \n",
       "Doc1                                                0.03   \n",
       "Doc2                                                0.05   \n",
       "Doc3                                                0.05   \n",
       "Doc4                                                0.05   \n",
       "...                                                  ...   \n",
       "Doc144                                              0.05   \n",
       "Doc145                                              0.05   \n",
       "Doc146                                              0.03   \n",
       "Doc147                                              0.05   \n",
       "Doc148                                              0.05   \n",
       "\n",
       "topic_theme  Tips on improving work day efficiency  College/Service/Power  \\\n",
       "Doc0                                          0.05                   0.05   \n",
       "Doc1                                          0.03                   0.03   \n",
       "Doc2                                          0.05                   0.05   \n",
       "Doc3                                          0.05                   0.05   \n",
       "Doc4                                          0.05                   0.05   \n",
       "...                                            ...                    ...   \n",
       "Doc144                                        0.05                   0.05   \n",
       "Doc145                                        0.05                   0.05   \n",
       "Doc146                                        0.03                   0.03   \n",
       "Doc147                                        0.05                   0.05   \n",
       "Doc148                                        0.05                   0.05   \n",
       "\n",
       "topic_theme  Company/Human/Invest  Bank account/Charge  ...  \\\n",
       "Doc0                         0.05                 0.05  ...   \n",
       "Doc1                         0.03                 0.03  ...   \n",
       "Doc2                         0.05                 0.05  ...   \n",
       "Doc3                         0.05                 0.05  ...   \n",
       "Doc4                         0.05                 0.05  ...   \n",
       "...                           ...                  ...  ...   \n",
       "Doc144                       0.05                 0.05  ...   \n",
       "Doc145                       0.05                 0.05  ...   \n",
       "Doc146                       0.03                 0.03  ...   \n",
       "Doc147                       0.05                 0.05  ...   \n",
       "Doc148                       0.05                 0.05  ...   \n",
       "\n",
       "topic_theme  War/Future/Family/USA/Race/Political  \\\n",
       "Doc0                                         0.05   \n",
       "Doc1                                         0.03   \n",
       "Doc2                                         0.05   \n",
       "Doc3                                         0.05   \n",
       "Doc4                                         0.05   \n",
       "...                                           ...   \n",
       "Doc144                                       0.05   \n",
       "Doc145                                       0.05   \n",
       "Doc146                                       0.03   \n",
       "Doc147                                       0.05   \n",
       "Doc148                                       0.05   \n",
       "\n",
       "topic_theme  Government/President/Society  Relationship/China/Parent/Japan  \\\n",
       "Doc0                                 0.05                             0.05   \n",
       "Doc1                                 0.03                             0.03   \n",
       "Doc2                                 0.05                             0.05   \n",
       "Doc3                                 0.05                             0.05   \n",
       "Doc4                                 0.05                             0.05   \n",
       "...                                   ...                              ...   \n",
       "Doc144                               0.05                             0.05   \n",
       "Doc145                               0.05                             0.05   \n",
       "Doc146                               0.03                             0.03   \n",
       "Doc147                               0.05                             0.05   \n",
       "Doc148                               0.05                             0.05   \n",
       "\n",
       "topic_theme  Application/Energy/Machine/Economic/Art/Europe  \\\n",
       "Doc0                                                   0.05   \n",
       "Doc1                                                   0.03   \n",
       "Doc2                                                   0.05   \n",
       "Doc3                                                   0.05   \n",
       "Doc4                                                   0.05   \n",
       "...                                                     ...   \n",
       "Doc144                                                 0.05   \n",
       "Doc145                                                 0.05   \n",
       "Doc146                                                 0.03   \n",
       "Doc147                                                 0.05   \n",
       "Doc148                                                 0.05   \n",
       "\n",
       "topic_theme  Earth/Marketing/Culture  Air/Rate/Sleep/Blood/Email  \\\n",
       "Doc0                            0.05                        0.05   \n",
       "Doc1                            0.03                        0.03   \n",
       "Doc2                            0.05                        0.05   \n",
       "Doc3                            0.05                        0.05   \n",
       "Doc4                            0.05                        0.05   \n",
       "...                              ...                         ...   \n",
       "Doc144                          0.05                        0.05   \n",
       "Doc145                          0.05                        0.05   \n",
       "Doc146                          0.03                        0.03   \n",
       "Doc147                          0.05                        0.05   \n",
       "Doc148                          0.05                        0.05   \n",
       "\n",
       "topic_theme  Student/Internet/Computer/Science/Research  \\\n",
       "Doc0                                               0.05   \n",
       "Doc1                                               0.52   \n",
       "Doc2                                               0.05   \n",
       "Doc3                                               0.05   \n",
       "Doc4                                               0.05   \n",
       "...                                                 ...   \n",
       "Doc144                                             0.05   \n",
       "Doc145                                             0.05   \n",
       "Doc146                                             0.52   \n",
       "Doc147                                             0.05   \n",
       "Doc148                                             0.05   \n",
       "\n",
       "topic_theme  University/Engineering/Language/Software  \\\n",
       "Doc0                                             0.05   \n",
       "Doc1                                             0.03   \n",
       "Doc2                                             0.05   \n",
       "Doc3                                             0.05   \n",
       "Doc4                                             0.05   \n",
       "...                                               ...   \n",
       "Doc144                                           0.05   \n",
       "Doc145                                           0.05   \n",
       "Doc146                                           0.03   \n",
       "Doc147                                           0.05   \n",
       "Doc148                                           0.05   \n",
       "\n",
       "topic_theme  Job/Learn/Skill improvement  dominant_topic  \n",
       "Doc0                                0.05               0  \n",
       "Doc1                                0.03              17  \n",
       "Doc2                                0.05               0  \n",
       "Doc3                                0.05               0  \n",
       "Doc4                                0.05               0  \n",
       "...                                  ...             ...  \n",
       "Doc144                              0.05               0  \n",
       "Doc145                              0.05               0  \n",
       "Doc146                              0.03              17  \n",
       "Doc147                              0.05               0  \n",
       "Doc148                              0.05               0  \n",
       "\n",
       "[149 rows x 21 columns]"
      ]
     },
     "execution_count": 115,
     "metadata": {},
     "output_type": "execute_result"
    }
   ],
   "source": [
    "df_document_topic"
   ]
  },
  {
   "cell_type": "code",
   "execution_count": 116,
   "metadata": {},
   "outputs": [],
   "source": [
    "df_document_topic.reset_index(inplace=True)\n",
    "df_sent_topic= pd.merge(df_clean, df_document_topic, left_index=True, right_index=True)\n",
    "df_sent_topic.drop('index', axis=1, inplace=True)"
   ]
  },
  {
   "cell_type": "code",
   "execution_count": 117,
   "metadata": {},
   "outputs": [
    {
     "data": {
      "text/html": [
       "<div>\n",
       "<style scoped>\n",
       "    .dataframe tbody tr th:only-of-type {\n",
       "        vertical-align: middle;\n",
       "    }\n",
       "\n",
       "    .dataframe tbody tr th {\n",
       "        vertical-align: top;\n",
       "    }\n",
       "\n",
       "    .dataframe thead th {\n",
       "        text-align: right;\n",
       "    }\n",
       "</style>\n",
       "<table border=\"1\" class=\"dataframe\">\n",
       "  <thead>\n",
       "    <tr style=\"text-align: right;\">\n",
       "      <th></th>\n",
       "      <th>question_text</th>\n",
       "      <th>question_lemmatize</th>\n",
       "      <th>question_lemmatize_clean</th>\n",
       "      <th>American/Car/Marriage/Story/Life in general</th>\n",
       "      <th>Education/Business/Money</th>\n",
       "      <th>American Medicare/Trump</th>\n",
       "      <th>State/Social/Rights</th>\n",
       "      <th>Build new life</th>\n",
       "      <th>Highly educated Indian engineers in America</th>\n",
       "      <th>Tips on improving work day efficiency</th>\n",
       "      <th>...</th>\n",
       "      <th>War/Future/Family/USA/Race/Political</th>\n",
       "      <th>Government/President/Society</th>\n",
       "      <th>Relationship/China/Parent/Japan</th>\n",
       "      <th>Application/Energy/Machine/Economic/Art/Europe</th>\n",
       "      <th>Earth/Marketing/Culture</th>\n",
       "      <th>Air/Rate/Sleep/Blood/Email</th>\n",
       "      <th>Student/Internet/Computer/Science/Research</th>\n",
       "      <th>University/Engineering/Language/Software</th>\n",
       "      <th>Job/Learn/Skill improvement</th>\n",
       "      <th>dominant_topic</th>\n",
       "    </tr>\n",
       "  </thead>\n",
       "  <tbody>\n",
       "    <tr>\n",
       "      <td>0</td>\n",
       "      <td>why is saturn v considered an overestimated ro...</td>\n",
       "      <td>why be saturn v consider an overestimated rock...</td>\n",
       "      <td>why be saturn v consider an overestimated rock...</td>\n",
       "      <td>0.05</td>\n",
       "      <td>0.05</td>\n",
       "      <td>0.05</td>\n",
       "      <td>0.05</td>\n",
       "      <td>0.05</td>\n",
       "      <td>0.05</td>\n",
       "      <td>0.05</td>\n",
       "      <td>...</td>\n",
       "      <td>0.05</td>\n",
       "      <td>0.05</td>\n",
       "      <td>0.05</td>\n",
       "      <td>0.05</td>\n",
       "      <td>0.05</td>\n",
       "      <td>0.05</td>\n",
       "      <td>0.05</td>\n",
       "      <td>0.05</td>\n",
       "      <td>0.05</td>\n",
       "      <td>0</td>\n",
       "    </tr>\n",
       "    <tr>\n",
       "      <td>1</td>\n",
       "      <td>why is cheap vodka so good</td>\n",
       "      <td>why be cheap vodka so good</td>\n",
       "      <td>why be cheap vodka so good</td>\n",
       "      <td>0.03</td>\n",
       "      <td>0.03</td>\n",
       "      <td>0.03</td>\n",
       "      <td>0.03</td>\n",
       "      <td>0.03</td>\n",
       "      <td>0.03</td>\n",
       "      <td>0.03</td>\n",
       "      <td>...</td>\n",
       "      <td>0.03</td>\n",
       "      <td>0.03</td>\n",
       "      <td>0.03</td>\n",
       "      <td>0.03</td>\n",
       "      <td>0.03</td>\n",
       "      <td>0.03</td>\n",
       "      <td>0.52</td>\n",
       "      <td>0.03</td>\n",
       "      <td>0.03</td>\n",
       "      <td>17</td>\n",
       "    </tr>\n",
       "    <tr>\n",
       "      <td>2</td>\n",
       "      <td>what does drunk and disorganized mean</td>\n",
       "      <td>what do drunk and disorganize mean</td>\n",
       "      <td>what do drunk and disorganize mean</td>\n",
       "      <td>0.05</td>\n",
       "      <td>0.05</td>\n",
       "      <td>0.05</td>\n",
       "      <td>0.05</td>\n",
       "      <td>0.05</td>\n",
       "      <td>0.05</td>\n",
       "      <td>0.05</td>\n",
       "      <td>...</td>\n",
       "      <td>0.05</td>\n",
       "      <td>0.05</td>\n",
       "      <td>0.05</td>\n",
       "      <td>0.05</td>\n",
       "      <td>0.05</td>\n",
       "      <td>0.05</td>\n",
       "      <td>0.05</td>\n",
       "      <td>0.05</td>\n",
       "      <td>0.05</td>\n",
       "      <td>0</td>\n",
       "    </tr>\n",
       "    <tr>\n",
       "      <td>3</td>\n",
       "      <td>how can i prepare for isro</td>\n",
       "      <td>how can i prepare for isro</td>\n",
       "      <td>how can i prepare for isro</td>\n",
       "      <td>0.05</td>\n",
       "      <td>0.05</td>\n",
       "      <td>0.05</td>\n",
       "      <td>0.05</td>\n",
       "      <td>0.05</td>\n",
       "      <td>0.05</td>\n",
       "      <td>0.05</td>\n",
       "      <td>...</td>\n",
       "      <td>0.05</td>\n",
       "      <td>0.05</td>\n",
       "      <td>0.05</td>\n",
       "      <td>0.05</td>\n",
       "      <td>0.05</td>\n",
       "      <td>0.05</td>\n",
       "      <td>0.05</td>\n",
       "      <td>0.05</td>\n",
       "      <td>0.05</td>\n",
       "      <td>0</td>\n",
       "    </tr>\n",
       "    <tr>\n",
       "      <td>4</td>\n",
       "      <td>what is the probation period after ssc cgl</td>\n",
       "      <td>what be the probation period after ssc cgl</td>\n",
       "      <td>what be the probation period after ssc cgl</td>\n",
       "      <td>0.05</td>\n",
       "      <td>0.05</td>\n",
       "      <td>0.05</td>\n",
       "      <td>0.05</td>\n",
       "      <td>0.05</td>\n",
       "      <td>0.05</td>\n",
       "      <td>0.05</td>\n",
       "      <td>...</td>\n",
       "      <td>0.05</td>\n",
       "      <td>0.05</td>\n",
       "      <td>0.05</td>\n",
       "      <td>0.05</td>\n",
       "      <td>0.05</td>\n",
       "      <td>0.05</td>\n",
       "      <td>0.05</td>\n",
       "      <td>0.05</td>\n",
       "      <td>0.05</td>\n",
       "      <td>0</td>\n",
       "    </tr>\n",
       "    <tr>\n",
       "      <td>...</td>\n",
       "      <td>...</td>\n",
       "      <td>...</td>\n",
       "      <td>...</td>\n",
       "      <td>...</td>\n",
       "      <td>...</td>\n",
       "      <td>...</td>\n",
       "      <td>...</td>\n",
       "      <td>...</td>\n",
       "      <td>...</td>\n",
       "      <td>...</td>\n",
       "      <td>...</td>\n",
       "      <td>...</td>\n",
       "      <td>...</td>\n",
       "      <td>...</td>\n",
       "      <td>...</td>\n",
       "      <td>...</td>\n",
       "      <td>...</td>\n",
       "      <td>...</td>\n",
       "      <td>...</td>\n",
       "      <td>...</td>\n",
       "      <td>...</td>\n",
       "    </tr>\n",
       "    <tr>\n",
       "      <td>144</td>\n",
       "      <td>srm or amritha has more placements</td>\n",
       "      <td>srm or amritha have more placement</td>\n",
       "      <td>srm or amritha have more placement</td>\n",
       "      <td>0.05</td>\n",
       "      <td>0.05</td>\n",
       "      <td>0.05</td>\n",
       "      <td>0.05</td>\n",
       "      <td>0.05</td>\n",
       "      <td>0.05</td>\n",
       "      <td>0.05</td>\n",
       "      <td>...</td>\n",
       "      <td>0.05</td>\n",
       "      <td>0.05</td>\n",
       "      <td>0.05</td>\n",
       "      <td>0.05</td>\n",
       "      <td>0.05</td>\n",
       "      <td>0.05</td>\n",
       "      <td>0.05</td>\n",
       "      <td>0.05</td>\n",
       "      <td>0.05</td>\n",
       "      <td>0</td>\n",
       "    </tr>\n",
       "    <tr>\n",
       "      <td>145</td>\n",
       "      <td>how can i cure dandruff</td>\n",
       "      <td>how can i cure dandruff</td>\n",
       "      <td>how can i cure dandruff</td>\n",
       "      <td>0.05</td>\n",
       "      <td>0.05</td>\n",
       "      <td>0.05</td>\n",
       "      <td>0.05</td>\n",
       "      <td>0.05</td>\n",
       "      <td>0.05</td>\n",
       "      <td>0.05</td>\n",
       "      <td>...</td>\n",
       "      <td>0.05</td>\n",
       "      <td>0.05</td>\n",
       "      <td>0.05</td>\n",
       "      <td>0.05</td>\n",
       "      <td>0.05</td>\n",
       "      <td>0.05</td>\n",
       "      <td>0.05</td>\n",
       "      <td>0.05</td>\n",
       "      <td>0.05</td>\n",
       "      <td>0</td>\n",
       "    </tr>\n",
       "    <tr>\n",
       "      <td>146</td>\n",
       "      <td>if someone suffers with severe low self esteem...</td>\n",
       "      <td>if someone suffer with severe low self esteem ...</td>\n",
       "      <td>if someone suffer with severe low self esteem ...</td>\n",
       "      <td>0.03</td>\n",
       "      <td>0.03</td>\n",
       "      <td>0.03</td>\n",
       "      <td>0.03</td>\n",
       "      <td>0.03</td>\n",
       "      <td>0.03</td>\n",
       "      <td>0.03</td>\n",
       "      <td>...</td>\n",
       "      <td>0.03</td>\n",
       "      <td>0.03</td>\n",
       "      <td>0.03</td>\n",
       "      <td>0.03</td>\n",
       "      <td>0.03</td>\n",
       "      <td>0.03</td>\n",
       "      <td>0.52</td>\n",
       "      <td>0.03</td>\n",
       "      <td>0.03</td>\n",
       "      <td>17</td>\n",
       "    </tr>\n",
       "    <tr>\n",
       "      <td>147</td>\n",
       "      <td>how can i white my teeth</td>\n",
       "      <td>how can i white -PRON- tooth</td>\n",
       "      <td>how can i white  tooth</td>\n",
       "      <td>0.05</td>\n",
       "      <td>0.05</td>\n",
       "      <td>0.05</td>\n",
       "      <td>0.05</td>\n",
       "      <td>0.05</td>\n",
       "      <td>0.05</td>\n",
       "      <td>0.05</td>\n",
       "      <td>...</td>\n",
       "      <td>0.05</td>\n",
       "      <td>0.05</td>\n",
       "      <td>0.05</td>\n",
       "      <td>0.05</td>\n",
       "      <td>0.05</td>\n",
       "      <td>0.05</td>\n",
       "      <td>0.05</td>\n",
       "      <td>0.05</td>\n",
       "      <td>0.05</td>\n",
       "      <td>0</td>\n",
       "    </tr>\n",
       "    <tr>\n",
       "      <td>148</td>\n",
       "      <td>how did draco malfoy find out about the da coins</td>\n",
       "      <td>how do draco malfoy find out about the da coin</td>\n",
       "      <td>how do draco malfoy find out about the da coin</td>\n",
       "      <td>0.05</td>\n",
       "      <td>0.05</td>\n",
       "      <td>0.05</td>\n",
       "      <td>0.05</td>\n",
       "      <td>0.05</td>\n",
       "      <td>0.05</td>\n",
       "      <td>0.05</td>\n",
       "      <td>...</td>\n",
       "      <td>0.05</td>\n",
       "      <td>0.05</td>\n",
       "      <td>0.05</td>\n",
       "      <td>0.05</td>\n",
       "      <td>0.05</td>\n",
       "      <td>0.05</td>\n",
       "      <td>0.05</td>\n",
       "      <td>0.05</td>\n",
       "      <td>0.05</td>\n",
       "      <td>0</td>\n",
       "    </tr>\n",
       "  </tbody>\n",
       "</table>\n",
       "<p>149 rows × 24 columns</p>\n",
       "</div>"
      ],
      "text/plain": [
       "                                         question_text  \\\n",
       "0    why is saturn v considered an overestimated ro...   \n",
       "1                           why is cheap vodka so good   \n",
       "2                what does drunk and disorganized mean   \n",
       "3                          how can i prepare for isro    \n",
       "4           what is the probation period after ssc cgl   \n",
       "..                                                 ...   \n",
       "144                 srm or amritha has more placements   \n",
       "145                            how can i cure dandruff   \n",
       "146  if someone suffers with severe low self esteem...   \n",
       "147                           how can i white my teeth   \n",
       "148   how did draco malfoy find out about the da coins   \n",
       "\n",
       "                                    question_lemmatize  \\\n",
       "0    why be saturn v consider an overestimated rock...   \n",
       "1                           why be cheap vodka so good   \n",
       "2                   what do drunk and disorganize mean   \n",
       "3                           how can i prepare for isro   \n",
       "4           what be the probation period after ssc cgl   \n",
       "..                                                 ...   \n",
       "144                 srm or amritha have more placement   \n",
       "145                            how can i cure dandruff   \n",
       "146  if someone suffer with severe low self esteem ...   \n",
       "147                       how can i white -PRON- tooth   \n",
       "148     how do draco malfoy find out about the da coin   \n",
       "\n",
       "                              question_lemmatize_clean  \\\n",
       "0    why be saturn v consider an overestimated rock...   \n",
       "1                           why be cheap vodka so good   \n",
       "2                   what do drunk and disorganize mean   \n",
       "3                           how can i prepare for isro   \n",
       "4           what be the probation period after ssc cgl   \n",
       "..                                                 ...   \n",
       "144                 srm or amritha have more placement   \n",
       "145                            how can i cure dandruff   \n",
       "146  if someone suffer with severe low self esteem ...   \n",
       "147                             how can i white  tooth   \n",
       "148     how do draco malfoy find out about the da coin   \n",
       "\n",
       "     American/Car/Marriage/Story/Life in general  Education/Business/Money  \\\n",
       "0                                           0.05                      0.05   \n",
       "1                                           0.03                      0.03   \n",
       "2                                           0.05                      0.05   \n",
       "3                                           0.05                      0.05   \n",
       "4                                           0.05                      0.05   \n",
       "..                                           ...                       ...   \n",
       "144                                         0.05                      0.05   \n",
       "145                                         0.05                      0.05   \n",
       "146                                         0.03                      0.03   \n",
       "147                                         0.05                      0.05   \n",
       "148                                         0.05                      0.05   \n",
       "\n",
       "     American Medicare/Trump  State/Social/Rights  Build new life  \\\n",
       "0                       0.05                 0.05            0.05   \n",
       "1                       0.03                 0.03            0.03   \n",
       "2                       0.05                 0.05            0.05   \n",
       "3                       0.05                 0.05            0.05   \n",
       "4                       0.05                 0.05            0.05   \n",
       "..                       ...                  ...             ...   \n",
       "144                     0.05                 0.05            0.05   \n",
       "145                     0.05                 0.05            0.05   \n",
       "146                     0.03                 0.03            0.03   \n",
       "147                     0.05                 0.05            0.05   \n",
       "148                     0.05                 0.05            0.05   \n",
       "\n",
       "     Highly educated Indian engineers in America  \\\n",
       "0                                           0.05   \n",
       "1                                           0.03   \n",
       "2                                           0.05   \n",
       "3                                           0.05   \n",
       "4                                           0.05   \n",
       "..                                           ...   \n",
       "144                                         0.05   \n",
       "145                                         0.05   \n",
       "146                                         0.03   \n",
       "147                                         0.05   \n",
       "148                                         0.05   \n",
       "\n",
       "     Tips on improving work day efficiency  ...  \\\n",
       "0                                     0.05  ...   \n",
       "1                                     0.03  ...   \n",
       "2                                     0.05  ...   \n",
       "3                                     0.05  ...   \n",
       "4                                     0.05  ...   \n",
       "..                                     ...  ...   \n",
       "144                                   0.05  ...   \n",
       "145                                   0.05  ...   \n",
       "146                                   0.03  ...   \n",
       "147                                   0.05  ...   \n",
       "148                                   0.05  ...   \n",
       "\n",
       "     War/Future/Family/USA/Race/Political  Government/President/Society  \\\n",
       "0                                    0.05                          0.05   \n",
       "1                                    0.03                          0.03   \n",
       "2                                    0.05                          0.05   \n",
       "3                                    0.05                          0.05   \n",
       "4                                    0.05                          0.05   \n",
       "..                                    ...                           ...   \n",
       "144                                  0.05                          0.05   \n",
       "145                                  0.05                          0.05   \n",
       "146                                  0.03                          0.03   \n",
       "147                                  0.05                          0.05   \n",
       "148                                  0.05                          0.05   \n",
       "\n",
       "     Relationship/China/Parent/Japan  \\\n",
       "0                               0.05   \n",
       "1                               0.03   \n",
       "2                               0.05   \n",
       "3                               0.05   \n",
       "4                               0.05   \n",
       "..                               ...   \n",
       "144                             0.05   \n",
       "145                             0.05   \n",
       "146                             0.03   \n",
       "147                             0.05   \n",
       "148                             0.05   \n",
       "\n",
       "     Application/Energy/Machine/Economic/Art/Europe  Earth/Marketing/Culture  \\\n",
       "0                                              0.05                     0.05   \n",
       "1                                              0.03                     0.03   \n",
       "2                                              0.05                     0.05   \n",
       "3                                              0.05                     0.05   \n",
       "4                                              0.05                     0.05   \n",
       "..                                              ...                      ...   \n",
       "144                                            0.05                     0.05   \n",
       "145                                            0.05                     0.05   \n",
       "146                                            0.03                     0.03   \n",
       "147                                            0.05                     0.05   \n",
       "148                                            0.05                     0.05   \n",
       "\n",
       "     Air/Rate/Sleep/Blood/Email  Student/Internet/Computer/Science/Research  \\\n",
       "0                          0.05                                        0.05   \n",
       "1                          0.03                                        0.52   \n",
       "2                          0.05                                        0.05   \n",
       "3                          0.05                                        0.05   \n",
       "4                          0.05                                        0.05   \n",
       "..                          ...                                         ...   \n",
       "144                        0.05                                        0.05   \n",
       "145                        0.05                                        0.05   \n",
       "146                        0.03                                        0.52   \n",
       "147                        0.05                                        0.05   \n",
       "148                        0.05                                        0.05   \n",
       "\n",
       "     University/Engineering/Language/Software  Job/Learn/Skill improvement  \\\n",
       "0                                        0.05                         0.05   \n",
       "1                                        0.03                         0.03   \n",
       "2                                        0.05                         0.05   \n",
       "3                                        0.05                         0.05   \n",
       "4                                        0.05                         0.05   \n",
       "..                                        ...                          ...   \n",
       "144                                      0.05                         0.05   \n",
       "145                                      0.05                         0.05   \n",
       "146                                      0.03                         0.03   \n",
       "147                                      0.05                         0.05   \n",
       "148                                      0.05                         0.05   \n",
       "\n",
       "     dominant_topic  \n",
       "0                 0  \n",
       "1                17  \n",
       "2                 0  \n",
       "3                 0  \n",
       "4                 0  \n",
       "..              ...  \n",
       "144               0  \n",
       "145               0  \n",
       "146              17  \n",
       "147               0  \n",
       "148               0  \n",
       "\n",
       "[149 rows x 24 columns]"
      ]
     },
     "execution_count": 117,
     "metadata": {},
     "output_type": "execute_result"
    }
   ],
   "source": [
    "df_sent_topic"
   ]
  },
  {
   "cell_type": "code",
   "execution_count": 118,
   "metadata": {},
   "outputs": [
    {
     "data": {
      "text/html": [
       "<div>\n",
       "<style scoped>\n",
       "    .dataframe tbody tr th:only-of-type {\n",
       "        vertical-align: middle;\n",
       "    }\n",
       "\n",
       "    .dataframe tbody tr th {\n",
       "        vertical-align: top;\n",
       "    }\n",
       "\n",
       "    .dataframe thead th {\n",
       "        text-align: right;\n",
       "    }\n",
       "</style>\n",
       "<table border=\"1\" class=\"dataframe\">\n",
       "  <thead>\n",
       "    <tr style=\"text-align: right;\">\n",
       "      <th></th>\n",
       "      <th>question_text</th>\n",
       "      <th>dominant_topic</th>\n",
       "    </tr>\n",
       "  </thead>\n",
       "  <tbody>\n",
       "    <tr>\n",
       "      <td>0</td>\n",
       "      <td>why is saturn v considered an overestimated ro...</td>\n",
       "      <td>0</td>\n",
       "    </tr>\n",
       "    <tr>\n",
       "      <td>1</td>\n",
       "      <td>why is cheap vodka so good</td>\n",
       "      <td>17</td>\n",
       "    </tr>\n",
       "    <tr>\n",
       "      <td>2</td>\n",
       "      <td>what does drunk and disorganized mean</td>\n",
       "      <td>0</td>\n",
       "    </tr>\n",
       "    <tr>\n",
       "      <td>3</td>\n",
       "      <td>how can i prepare for isro</td>\n",
       "      <td>0</td>\n",
       "    </tr>\n",
       "    <tr>\n",
       "      <td>4</td>\n",
       "      <td>what is the probation period after ssc cgl</td>\n",
       "      <td>0</td>\n",
       "    </tr>\n",
       "    <tr>\n",
       "      <td>5</td>\n",
       "      <td>what cpu is better for flight simulation  or</td>\n",
       "      <td>0</td>\n",
       "    </tr>\n",
       "    <tr>\n",
       "      <td>6</td>\n",
       "      <td>which one is the safest hoverboard to buy in</td>\n",
       "      <td>0</td>\n",
       "    </tr>\n",
       "    <tr>\n",
       "      <td>7</td>\n",
       "      <td>can we change the human model as far as ingest...</td>\n",
       "      <td>5</td>\n",
       "    </tr>\n",
       "    <tr>\n",
       "      <td>8</td>\n",
       "      <td>why do some christians make some of those nonc...</td>\n",
       "      <td>12</td>\n",
       "    </tr>\n",
       "    <tr>\n",
       "      <td>9</td>\n",
       "      <td>who have been the worst cast actors for movies...</td>\n",
       "      <td>8</td>\n",
       "    </tr>\n",
       "  </tbody>\n",
       "</table>\n",
       "</div>"
      ],
      "text/plain": [
       "                                       question_text  dominant_topic\n",
       "0  why is saturn v considered an overestimated ro...               0\n",
       "1                         why is cheap vodka so good              17\n",
       "2              what does drunk and disorganized mean               0\n",
       "3                        how can i prepare for isro                0\n",
       "4         what is the probation period after ssc cgl               0\n",
       "5      what cpu is better for flight simulation  or                0\n",
       "6      which one is the safest hoverboard to buy in                0\n",
       "7  can we change the human model as far as ingest...               5\n",
       "8  why do some christians make some of those nonc...              12\n",
       "9  who have been the worst cast actors for movies...               8"
      ]
     },
     "execution_count": 118,
     "metadata": {},
     "output_type": "execute_result"
    }
   ],
   "source": [
    "df_topic_theme = df_sent_topic[['question_text', 'dominant_topic']]\n",
    "df_topic_theme.head(10)"
   ]
  },
  {
   "cell_type": "code",
   "execution_count": 119,
   "metadata": {},
   "outputs": [],
   "source": [
    "def label_theme(row):\n",
    "    if row['dominant_topic'] == 0 :\n",
    "        return 'American/Car/Marriage/Story/Life in general'\n",
    "    if row['dominant_topic'] == 1 :\n",
    "        return 'Education/Business/Money'\n",
    "    if row['dominant_topic'] == 2 :\n",
    "        return 'American Medicare/Trump'\n",
    "    if row['dominant_topic'] == 3:\n",
    "        return 'State/Social/Rights'\n",
    "    if row['dominant_topic']  == 4:\n",
    "        return 'Build new life'\n",
    "    if row['dominant_topic'] == 5:\n",
    "        return 'Highly educated Indian engineers in America'\n",
    "    if row['dominant_topic'] == 6:\n",
    "        return 'Tips on improving work day efficiency'\n",
    "    if row['dominant_topic'] == 7:\n",
    "        return 'College/Service/Power'\n",
    "    if row['dominant_topic'] == 8:\n",
    "        return 'Company/Human/Invest'\n",
    "    if row['dominant_topic'] == 9:\n",
    "        return 'Bank account/Charge'\n",
    "    if row['dominant_topic'] == 10:\n",
    "        return 'Book/Indian/App/Technology'\n",
    "    if row['dominant_topic'] == 11:\n",
    "        return 'War/Future/Family/USA/Race/Political'\n",
    "    if row['dominant_topic'] == 12:\n",
    "        return 'Government/President/Society'\n",
    "    if row['dominant_topic'] == 13:\n",
    "        return 'Relationship/China/Parent/Japan'\n",
    "    if row['dominant_topic'] == 14:\n",
    "        return 'Application/Energy/Machine/Economic/Art/Europe'\n",
    "    if row['dominant_topic'] == 15:\n",
    "        return 'Earth/Marketing/Culture'\n",
    "    if row['dominant_topic'] == 16:\n",
    "        return 'Air/Rate/Sleep/Blood/Email'\n",
    "    if row['dominant_topic'] == 17:\n",
    "        return 'Student/Internet/Computer/Science/Research'\n",
    "    if row['dominant_topic'] == 18:\n",
    "        return 'University/Engineering/Language/Software'\n",
    "    if row['dominant_topic'] == 19:\n",
    "        return 'Job/Learn/Skill improvement'"
   ]
  },
  {
   "cell_type": "code",
   "execution_count": 120,
   "metadata": {},
   "outputs": [
    {
     "name": "stderr",
     "output_type": "stream",
     "text": [
      "/opt/anaconda3/lib/python3.7/site-packages/ipykernel_launcher.py:1: SettingWithCopyWarning:\n",
      "\n",
      "\n",
      "A value is trying to be set on a copy of a slice from a DataFrame.\n",
      "Try using .loc[row_indexer,col_indexer] = value instead\n",
      "\n",
      "See the caveats in the documentation: http://pandas.pydata.org/pandas-docs/stable/user_guide/indexing.html#returning-a-view-versus-a-copy\n",
      "\n"
     ]
    }
   ],
   "source": [
    "df_topic_theme['dominant_topic_theme'] = df_topic_theme.apply (lambda row: label_theme(row), axis=1)\n"
   ]
  },
  {
   "cell_type": "code",
   "execution_count": 121,
   "metadata": {},
   "outputs": [
    {
     "data": {
      "text/html": [
       "<div>\n",
       "<style scoped>\n",
       "    .dataframe tbody tr th:only-of-type {\n",
       "        vertical-align: middle;\n",
       "    }\n",
       "\n",
       "    .dataframe tbody tr th {\n",
       "        vertical-align: top;\n",
       "    }\n",
       "\n",
       "    .dataframe thead th {\n",
       "        text-align: right;\n",
       "    }\n",
       "</style>\n",
       "<table border=\"1\" class=\"dataframe\">\n",
       "  <thead>\n",
       "    <tr style=\"text-align: right;\">\n",
       "      <th></th>\n",
       "      <th>question_text</th>\n",
       "      <th>dominant_topic</th>\n",
       "      <th>dominant_topic_theme</th>\n",
       "    </tr>\n",
       "  </thead>\n",
       "  <tbody>\n",
       "    <tr>\n",
       "      <td>0</td>\n",
       "      <td>why is saturn v considered an overestimated ro...</td>\n",
       "      <td>0</td>\n",
       "      <td>American/Car/Marriage/Story/Life in general</td>\n",
       "    </tr>\n",
       "    <tr>\n",
       "      <td>1</td>\n",
       "      <td>why is cheap vodka so good</td>\n",
       "      <td>17</td>\n",
       "      <td>Student/Internet/Computer/Science/Research</td>\n",
       "    </tr>\n",
       "    <tr>\n",
       "      <td>2</td>\n",
       "      <td>what does drunk and disorganized mean</td>\n",
       "      <td>0</td>\n",
       "      <td>American/Car/Marriage/Story/Life in general</td>\n",
       "    </tr>\n",
       "    <tr>\n",
       "      <td>3</td>\n",
       "      <td>how can i prepare for isro</td>\n",
       "      <td>0</td>\n",
       "      <td>American/Car/Marriage/Story/Life in general</td>\n",
       "    </tr>\n",
       "    <tr>\n",
       "      <td>4</td>\n",
       "      <td>what is the probation period after ssc cgl</td>\n",
       "      <td>0</td>\n",
       "      <td>American/Car/Marriage/Story/Life in general</td>\n",
       "    </tr>\n",
       "    <tr>\n",
       "      <td>5</td>\n",
       "      <td>what cpu is better for flight simulation  or</td>\n",
       "      <td>0</td>\n",
       "      <td>American/Car/Marriage/Story/Life in general</td>\n",
       "    </tr>\n",
       "    <tr>\n",
       "      <td>6</td>\n",
       "      <td>which one is the safest hoverboard to buy in</td>\n",
       "      <td>0</td>\n",
       "      <td>American/Car/Marriage/Story/Life in general</td>\n",
       "    </tr>\n",
       "    <tr>\n",
       "      <td>7</td>\n",
       "      <td>can we change the human model as far as ingest...</td>\n",
       "      <td>5</td>\n",
       "      <td>Highly educated Indian engineers in America</td>\n",
       "    </tr>\n",
       "    <tr>\n",
       "      <td>8</td>\n",
       "      <td>why do some christians make some of those nonc...</td>\n",
       "      <td>12</td>\n",
       "      <td>Government/President/Society</td>\n",
       "    </tr>\n",
       "    <tr>\n",
       "      <td>9</td>\n",
       "      <td>who have been the worst cast actors for movies...</td>\n",
       "      <td>8</td>\n",
       "      <td>Company/Human/Invest</td>\n",
       "    </tr>\n",
       "    <tr>\n",
       "      <td>10</td>\n",
       "      <td>if you could dedicate your life to solving one...</td>\n",
       "      <td>0</td>\n",
       "      <td>American/Car/Marriage/Story/Life in general</td>\n",
       "    </tr>\n",
       "    <tr>\n",
       "      <td>11</td>\n",
       "      <td>i have a driving license on rta mwallet but no...</td>\n",
       "      <td>0</td>\n",
       "      <td>American/Car/Marriage/Story/Life in general</td>\n",
       "    </tr>\n",
       "    <tr>\n",
       "      <td>12</td>\n",
       "      <td>whats the equation of dissolving  and  in water</td>\n",
       "      <td>0</td>\n",
       "      <td>American/Car/Marriage/Story/Life in general</td>\n",
       "    </tr>\n",
       "    <tr>\n",
       "      <td>13</td>\n",
       "      <td>have you had a good life</td>\n",
       "      <td>17</td>\n",
       "      <td>Student/Internet/Computer/Science/Research</td>\n",
       "    </tr>\n",
       "    <tr>\n",
       "      <td>14</td>\n",
       "      <td>what should you avoid when cooking navy beans</td>\n",
       "      <td>0</td>\n",
       "      <td>American/Car/Marriage/Story/Life in general</td>\n",
       "    </tr>\n",
       "  </tbody>\n",
       "</table>\n",
       "</div>"
      ],
      "text/plain": [
       "                                        question_text  dominant_topic  \\\n",
       "0   why is saturn v considered an overestimated ro...               0   \n",
       "1                          why is cheap vodka so good              17   \n",
       "2               what does drunk and disorganized mean               0   \n",
       "3                         how can i prepare for isro                0   \n",
       "4          what is the probation period after ssc cgl               0   \n",
       "5       what cpu is better for flight simulation  or                0   \n",
       "6       which one is the safest hoverboard to buy in                0   \n",
       "7   can we change the human model as far as ingest...               5   \n",
       "8   why do some christians make some of those nonc...              12   \n",
       "9   who have been the worst cast actors for movies...               8   \n",
       "10  if you could dedicate your life to solving one...               0   \n",
       "11  i have a driving license on rta mwallet but no...               0   \n",
       "12    whats the equation of dissolving  and  in water               0   \n",
       "13                           have you had a good life              17   \n",
       "14      what should you avoid when cooking navy beans               0   \n",
       "\n",
       "                           dominant_topic_theme  \n",
       "0   American/Car/Marriage/Story/Life in general  \n",
       "1    Student/Internet/Computer/Science/Research  \n",
       "2   American/Car/Marriage/Story/Life in general  \n",
       "3   American/Car/Marriage/Story/Life in general  \n",
       "4   American/Car/Marriage/Story/Life in general  \n",
       "5   American/Car/Marriage/Story/Life in general  \n",
       "6   American/Car/Marriage/Story/Life in general  \n",
       "7   Highly educated Indian engineers in America  \n",
       "8                  Government/President/Society  \n",
       "9                          Company/Human/Invest  \n",
       "10  American/Car/Marriage/Story/Life in general  \n",
       "11  American/Car/Marriage/Story/Life in general  \n",
       "12  American/Car/Marriage/Story/Life in general  \n",
       "13   Student/Internet/Computer/Science/Research  \n",
       "14  American/Car/Marriage/Story/Life in general  "
      ]
     },
     "execution_count": 121,
     "metadata": {},
     "output_type": "execute_result"
    }
   ],
   "source": [
    "df_topic_theme.head(15)"
   ]
  },
  {
   "cell_type": "code",
   "execution_count": 122,
   "metadata": {},
   "outputs": [
    {
     "data": {
      "text/plain": [
       "'What does drunk and disorganized mean?'"
      ]
     },
     "execution_count": 122,
     "metadata": {},
     "output_type": "execute_result"
    }
   ],
   "source": [
    "df.question_text[2]"
   ]
  },
  {
   "cell_type": "code",
   "execution_count": 123,
   "metadata": {},
   "outputs": [
    {
     "data": {
      "text/plain": [
       "'Why do some Christians make some of those non-Christians believe that there is a God?'"
      ]
     },
     "execution_count": 123,
     "metadata": {},
     "output_type": "execute_result"
    }
   ],
   "source": [
    "df.question_text[8]"
   ]
  },
  {
   "cell_type": "code",
   "execution_count": 124,
   "metadata": {},
   "outputs": [
    {
     "data": {
      "text/plain": [
       "Word 0           way\n",
       "Word 1          life\n",
       "Word 2          stay\n",
       "Word 3         start\n",
       "Word 4           use\n",
       "Word 5          feel\n",
       "Word 6          work\n",
       "Word 7           big\n",
       "Word 8         think\n",
       "Word 9           ask\n",
       "Word 10    different\n",
       "Word 11        money\n",
       "Word 12          eat\n",
       "Word 13       school\n",
       "Word 14      country\n",
       "Word 15        movie\n",
       "Word 16         come\n",
       "Word 17          pay\n",
       "Word 18      company\n",
       "Word 19        world\n",
       "Name: University/Engineering/Language/Software, dtype: object"
      ]
     },
     "execution_count": 124,
     "metadata": {},
     "output_type": "execute_result"
    }
   ],
   "source": [
    "df_topic_keywords.T['University/Engineering/Language/Software']"
   ]
  },
  {
   "cell_type": "code",
   "execution_count": 125,
   "metadata": {},
   "outputs": [
    {
     "data": {
      "text/html": [
       "<div>\n",
       "<style scoped>\n",
       "    .dataframe tbody tr th:only-of-type {\n",
       "        vertical-align: middle;\n",
       "    }\n",
       "\n",
       "    .dataframe tbody tr th {\n",
       "        vertical-align: top;\n",
       "    }\n",
       "\n",
       "    .dataframe thead th {\n",
       "        text-align: right;\n",
       "    }\n",
       "</style>\n",
       "<table border=\"1\" class=\"dataframe\">\n",
       "  <thead>\n",
       "    <tr style=\"text-align: right;\">\n",
       "      <th></th>\n",
       "      <th>dominant_topic</th>\n",
       "      <th>dominant_topic_theme</th>\n",
       "      <th>count</th>\n",
       "    </tr>\n",
       "  </thead>\n",
       "  <tbody>\n",
       "    <tr>\n",
       "      <td>0</td>\n",
       "      <td>0</td>\n",
       "      <td>American/Car/Marriage/Story/Life in general</td>\n",
       "      <td>77</td>\n",
       "    </tr>\n",
       "    <tr>\n",
       "      <td>1</td>\n",
       "      <td>17</td>\n",
       "      <td>Student/Internet/Computer/Science/Research</td>\n",
       "      <td>12</td>\n",
       "    </tr>\n",
       "    <tr>\n",
       "      <td>2</td>\n",
       "      <td>4</td>\n",
       "      <td>Build new life</td>\n",
       "      <td>8</td>\n",
       "    </tr>\n",
       "    <tr>\n",
       "      <td>3</td>\n",
       "      <td>15</td>\n",
       "      <td>Earth/Marketing/Culture</td>\n",
       "      <td>8</td>\n",
       "    </tr>\n",
       "    <tr>\n",
       "      <td>4</td>\n",
       "      <td>12</td>\n",
       "      <td>Government/President/Society</td>\n",
       "      <td>6</td>\n",
       "    </tr>\n",
       "    <tr>\n",
       "      <td>5</td>\n",
       "      <td>9</td>\n",
       "      <td>Bank account/Charge</td>\n",
       "      <td>6</td>\n",
       "    </tr>\n",
       "    <tr>\n",
       "      <td>6</td>\n",
       "      <td>13</td>\n",
       "      <td>Relationship/China/Parent/Japan</td>\n",
       "      <td>6</td>\n",
       "    </tr>\n",
       "    <tr>\n",
       "      <td>7</td>\n",
       "      <td>6</td>\n",
       "      <td>Tips on improving work day efficiency</td>\n",
       "      <td>4</td>\n",
       "    </tr>\n",
       "    <tr>\n",
       "      <td>8</td>\n",
       "      <td>3</td>\n",
       "      <td>State/Social/Rights</td>\n",
       "      <td>4</td>\n",
       "    </tr>\n",
       "    <tr>\n",
       "      <td>9</td>\n",
       "      <td>1</td>\n",
       "      <td>Education/Business/Money</td>\n",
       "      <td>4</td>\n",
       "    </tr>\n",
       "    <tr>\n",
       "      <td>10</td>\n",
       "      <td>8</td>\n",
       "      <td>Company/Human/Invest</td>\n",
       "      <td>3</td>\n",
       "    </tr>\n",
       "    <tr>\n",
       "      <td>11</td>\n",
       "      <td>10</td>\n",
       "      <td>Book/Indian/App/Technology</td>\n",
       "      <td>2</td>\n",
       "    </tr>\n",
       "    <tr>\n",
       "      <td>12</td>\n",
       "      <td>7</td>\n",
       "      <td>College/Service/Power</td>\n",
       "      <td>2</td>\n",
       "    </tr>\n",
       "    <tr>\n",
       "      <td>13</td>\n",
       "      <td>5</td>\n",
       "      <td>Highly educated Indian engineers in America</td>\n",
       "      <td>2</td>\n",
       "    </tr>\n",
       "    <tr>\n",
       "      <td>14</td>\n",
       "      <td>16</td>\n",
       "      <td>Air/Rate/Sleep/Blood/Email</td>\n",
       "      <td>2</td>\n",
       "    </tr>\n",
       "    <tr>\n",
       "      <td>15</td>\n",
       "      <td>19</td>\n",
       "      <td>Job/Learn/Skill improvement</td>\n",
       "      <td>2</td>\n",
       "    </tr>\n",
       "    <tr>\n",
       "      <td>16</td>\n",
       "      <td>14</td>\n",
       "      <td>Application/Energy/Machine/Economic/Art/Europe</td>\n",
       "      <td>1</td>\n",
       "    </tr>\n",
       "  </tbody>\n",
       "</table>\n",
       "</div>"
      ],
      "text/plain": [
       "    dominant_topic                            dominant_topic_theme  count\n",
       "0                0     American/Car/Marriage/Story/Life in general     77\n",
       "1               17      Student/Internet/Computer/Science/Research     12\n",
       "2                4                                  Build new life      8\n",
       "3               15                         Earth/Marketing/Culture      8\n",
       "4               12                    Government/President/Society      6\n",
       "5                9                             Bank account/Charge      6\n",
       "6               13                 Relationship/China/Parent/Japan      6\n",
       "7                6           Tips on improving work day efficiency      4\n",
       "8                3                             State/Social/Rights      4\n",
       "9                1                        Education/Business/Money      4\n",
       "10               8                            Company/Human/Invest      3\n",
       "11              10                      Book/Indian/App/Technology      2\n",
       "12               7                           College/Service/Power      2\n",
       "13               5     Highly educated Indian engineers in America      2\n",
       "14              16                      Air/Rate/Sleep/Blood/Email      2\n",
       "15              19                     Job/Learn/Skill improvement      2\n",
       "16              14  Application/Energy/Machine/Economic/Art/Europe      1"
      ]
     },
     "execution_count": 125,
     "metadata": {},
     "output_type": "execute_result"
    }
   ],
   "source": [
    "df_topic_theme.groupby(['dominant_topic', 'dominant_topic_theme']).size().sort_values(ascending=False).reset_index(name='count').drop_duplicates(subset='dominant_topic_theme')"
   ]
  },
  {
   "cell_type": "code",
   "execution_count": 126,
   "metadata": {},
   "outputs": [],
   "source": [
    "df_topic_distribution = df_topic_theme.groupby(['dominant_topic', 'dominant_topic_theme']).size().sort_values(ascending=False).reset_index(name='count').drop_duplicates(subset='dominant_topic_theme')"
   ]
  },
  {
   "cell_type": "code",
   "execution_count": 127,
   "metadata": {},
   "outputs": [
    {
     "data": {
      "text/html": [
       "<div>\n",
       "<style scoped>\n",
       "    .dataframe tbody tr th:only-of-type {\n",
       "        vertical-align: middle;\n",
       "    }\n",
       "\n",
       "    .dataframe tbody tr th {\n",
       "        vertical-align: top;\n",
       "    }\n",
       "\n",
       "    .dataframe thead th {\n",
       "        text-align: right;\n",
       "    }\n",
       "</style>\n",
       "<table border=\"1\" class=\"dataframe\">\n",
       "  <thead>\n",
       "    <tr style=\"text-align: right;\">\n",
       "      <th></th>\n",
       "      <th>dominant_topic</th>\n",
       "      <th>dominant_topic_theme</th>\n",
       "      <th>count</th>\n",
       "    </tr>\n",
       "  </thead>\n",
       "  <tbody>\n",
       "    <tr>\n",
       "      <td>0</td>\n",
       "      <td>0</td>\n",
       "      <td>American/Car/Marriage/Story/Life in general</td>\n",
       "      <td>77</td>\n",
       "    </tr>\n",
       "    <tr>\n",
       "      <td>1</td>\n",
       "      <td>17</td>\n",
       "      <td>Student/Internet/Computer/Science/Research</td>\n",
       "      <td>12</td>\n",
       "    </tr>\n",
       "    <tr>\n",
       "      <td>2</td>\n",
       "      <td>4</td>\n",
       "      <td>Build new life</td>\n",
       "      <td>8</td>\n",
       "    </tr>\n",
       "    <tr>\n",
       "      <td>3</td>\n",
       "      <td>15</td>\n",
       "      <td>Earth/Marketing/Culture</td>\n",
       "      <td>8</td>\n",
       "    </tr>\n",
       "    <tr>\n",
       "      <td>4</td>\n",
       "      <td>12</td>\n",
       "      <td>Government/President/Society</td>\n",
       "      <td>6</td>\n",
       "    </tr>\n",
       "    <tr>\n",
       "      <td>5</td>\n",
       "      <td>9</td>\n",
       "      <td>Bank account/Charge</td>\n",
       "      <td>6</td>\n",
       "    </tr>\n",
       "    <tr>\n",
       "      <td>6</td>\n",
       "      <td>13</td>\n",
       "      <td>Relationship/China/Parent/Japan</td>\n",
       "      <td>6</td>\n",
       "    </tr>\n",
       "    <tr>\n",
       "      <td>7</td>\n",
       "      <td>6</td>\n",
       "      <td>Tips on improving work day efficiency</td>\n",
       "      <td>4</td>\n",
       "    </tr>\n",
       "    <tr>\n",
       "      <td>8</td>\n",
       "      <td>3</td>\n",
       "      <td>State/Social/Rights</td>\n",
       "      <td>4</td>\n",
       "    </tr>\n",
       "    <tr>\n",
       "      <td>9</td>\n",
       "      <td>1</td>\n",
       "      <td>Education/Business/Money</td>\n",
       "      <td>4</td>\n",
       "    </tr>\n",
       "    <tr>\n",
       "      <td>10</td>\n",
       "      <td>8</td>\n",
       "      <td>Company/Human/Invest</td>\n",
       "      <td>3</td>\n",
       "    </tr>\n",
       "    <tr>\n",
       "      <td>11</td>\n",
       "      <td>10</td>\n",
       "      <td>Book/Indian/App/Technology</td>\n",
       "      <td>2</td>\n",
       "    </tr>\n",
       "    <tr>\n",
       "      <td>12</td>\n",
       "      <td>7</td>\n",
       "      <td>College/Service/Power</td>\n",
       "      <td>2</td>\n",
       "    </tr>\n",
       "    <tr>\n",
       "      <td>13</td>\n",
       "      <td>5</td>\n",
       "      <td>Highly educated Indian engineers in America</td>\n",
       "      <td>2</td>\n",
       "    </tr>\n",
       "    <tr>\n",
       "      <td>14</td>\n",
       "      <td>16</td>\n",
       "      <td>Air/Rate/Sleep/Blood/Email</td>\n",
       "      <td>2</td>\n",
       "    </tr>\n",
       "    <tr>\n",
       "      <td>15</td>\n",
       "      <td>19</td>\n",
       "      <td>Job/Learn/Skill improvement</td>\n",
       "      <td>2</td>\n",
       "    </tr>\n",
       "    <tr>\n",
       "      <td>16</td>\n",
       "      <td>14</td>\n",
       "      <td>Application/Energy/Machine/Economic/Art/Europe</td>\n",
       "      <td>1</td>\n",
       "    </tr>\n",
       "  </tbody>\n",
       "</table>\n",
       "</div>"
      ],
      "text/plain": [
       "    dominant_topic                            dominant_topic_theme  count\n",
       "0                0     American/Car/Marriage/Story/Life in general     77\n",
       "1               17      Student/Internet/Computer/Science/Research     12\n",
       "2                4                                  Build new life      8\n",
       "3               15                         Earth/Marketing/Culture      8\n",
       "4               12                    Government/President/Society      6\n",
       "5                9                             Bank account/Charge      6\n",
       "6               13                 Relationship/China/Parent/Japan      6\n",
       "7                6           Tips on improving work day efficiency      4\n",
       "8                3                             State/Social/Rights      4\n",
       "9                1                        Education/Business/Money      4\n",
       "10               8                            Company/Human/Invest      3\n",
       "11              10                      Book/Indian/App/Technology      2\n",
       "12               7                           College/Service/Power      2\n",
       "13               5     Highly educated Indian engineers in America      2\n",
       "14              16                      Air/Rate/Sleep/Blood/Email      2\n",
       "15              19                     Job/Learn/Skill improvement      2\n",
       "16              14  Application/Energy/Machine/Economic/Art/Europe      1"
      ]
     },
     "execution_count": 127,
     "metadata": {},
     "output_type": "execute_result"
    }
   ],
   "source": [
    "df_topic_distribution"
   ]
  },
  {
   "cell_type": "code",
   "execution_count": 128,
   "metadata": {},
   "outputs": [],
   "source": [
    "# Tokenize and Clean-up using gensim’s simple_preprocess\n",
    "\n",
    "def sent_to_words(sentences):\n",
    "    for sentence in sentences:\n",
    "        yield(gensim.utils.simple_preprocess(str(sentence), deacc=True))\n",
    "        \n",
    "# Lemmatization, remove pronouns.\n",
    "def lemmatization(texts, allowed_postags=['NOUN', 'ADJ', 'VERB', 'ADV']):\n",
    "    \"\"\"https://spacy.io/api/annotation\"\"\"\n",
    "    texts_out = []\n",
    "    for sent in texts:\n",
    "        doc = nlp(\" \".join(sent)) \n",
    "        texts_out.append(\" \".join([token.lemma_ if token.lemma_ not in ['-PRON-'] else '' for token in doc if token.pos_ in allowed_postags]))\n",
    "    return texts_out"
   ]
  },
  {
   "cell_type": "code",
   "execution_count": 129,
   "metadata": {},
   "outputs": [
    {
     "name": "stdout",
     "output_type": "stream",
     "text": [
      "['life', 'make', 'company', 'different', 'think', 'start', 'feel', 'school', 'money', 'big', 'ask', 'pay', 'world', 'use', 'way', 'work', 'choose', 'people', 'stay', 'time']\n"
     ]
    }
   ],
   "source": [
    "# Initialize spacy 'en' model, keeping only tagger component (for efficiency)\n",
    "# We will not assign dependency labels, and we will not lable named entities. And we need pos. \n",
    "nlp = spacy.load('en', disable=['parser', 'ner'])\n",
    "\n",
    "# Define function to predict topic for a given new question.\n",
    "def predict_topic(text, nlp=nlp):\n",
    "    global sent_to_words\n",
    "    global lemmatization\n",
    "\n",
    "    # Step 1: Clean with simple_preprocess\n",
    "    mytext_2 = list(sent_to_words(text))\n",
    "\n",
    "    # Step 2: Lemmatize\n",
    "    mytext_3 = lemmatization(mytext_2, allowed_postags=['NOUN', 'ADJ', 'VERB', 'ADV'])\n",
    "\n",
    "    # Step 3: Vectorize transform\n",
    "    mytext_4 = vectorizer.transform(mytext_3)\n",
    "\n",
    "    # Step 4: LDA Transform\n",
    "    topic_probability_scores = lda_model.transform(mytext_4)\n",
    "    topic = df_topic_keywords.iloc[np.argmax(topic_probability_scores), :].values.tolist()\n",
    "    return topic, topic_probability_scores\n",
    "\n",
    "# Predict the topic\n",
    "mytext = [\"What are the most important lessons you have learned in your life and when did you learn them?\"]\n",
    "topic, prob_scores = predict_topic(text = mytext)\n",
    "print(topic)"
   ]
  },
  {
   "cell_type": "code",
   "execution_count": 130,
   "metadata": {},
   "outputs": [
    {
     "data": {
      "text/plain": [
       "(['life',\n",
       "  'make',\n",
       "  'company',\n",
       "  'different',\n",
       "  'think',\n",
       "  'start',\n",
       "  'feel',\n",
       "  'school',\n",
       "  'money',\n",
       "  'big',\n",
       "  'ask',\n",
       "  'pay',\n",
       "  'world',\n",
       "  'use',\n",
       "  'way',\n",
       "  'work',\n",
       "  'choose',\n",
       "  'people',\n",
       "  'stay',\n",
       "  'time'],\n",
       " array([[0.025, 0.025, 0.025, 0.025, 0.025, 0.525, 0.025, 0.025, 0.025,\n",
       "         0.025, 0.025, 0.025, 0.025, 0.025, 0.025, 0.025, 0.025, 0.025,\n",
       "         0.025, 0.025]]))"
      ]
     },
     "execution_count": 130,
     "metadata": {},
     "output_type": "execute_result"
    }
   ],
   "source": [
    "topic, prob_scores"
   ]
  },
  {
   "cell_type": "code",
   "execution_count": 131,
   "metadata": {},
   "outputs": [
    {
     "data": {
      "text/plain": [
       "Word 0          good\n",
       "Word 1         world\n",
       "Word 2     different\n",
       "Word 3          work\n",
       "Word 4          life\n",
       "Word 5         start\n",
       "Word 6           ask\n",
       "Word 7         quora\n",
       "Word 8       company\n",
       "Word 9         money\n",
       "Word 10       person\n",
       "Word 11       people\n",
       "Word 12          eat\n",
       "Word 13          use\n",
       "Word 14         come\n",
       "Word 15         stay\n",
       "Word 16         play\n",
       "Word 17         year\n",
       "Word 18      country\n",
       "Word 19          pay\n",
       "Name: Student/Internet/Computer/Science/Research, dtype: object"
      ]
     },
     "execution_count": 131,
     "metadata": {},
     "output_type": "execute_result"
    }
   ],
   "source": [
    "df_topic_keywords.T['Student/Internet/Computer/Science/Research']"
   ]
  },
  {
   "cell_type": "code",
   "execution_count": 132,
   "metadata": {},
   "outputs": [
    {
     "data": {
      "text/html": [
       "<div>\n",
       "<style scoped>\n",
       "    .dataframe tbody tr th:only-of-type {\n",
       "        vertical-align: middle;\n",
       "    }\n",
       "\n",
       "    .dataframe tbody tr th {\n",
       "        vertical-align: top;\n",
       "    }\n",
       "\n",
       "    .dataframe thead th {\n",
       "        text-align: right;\n",
       "    }\n",
       "</style>\n",
       "<table border=\"1\" class=\"dataframe\">\n",
       "  <thead>\n",
       "    <tr style=\"text-align: right;\">\n",
       "      <th></th>\n",
       "      <th>question_text</th>\n",
       "      <th>dominant_topic</th>\n",
       "      <th>dominant_topic_theme</th>\n",
       "    </tr>\n",
       "  </thead>\n",
       "  <tbody>\n",
       "    <tr>\n",
       "      <td>0</td>\n",
       "      <td>why is saturn v considered an overestimated ro...</td>\n",
       "      <td>0</td>\n",
       "      <td>American/Car/Marriage/Story/Life in general</td>\n",
       "    </tr>\n",
       "    <tr>\n",
       "      <td>1</td>\n",
       "      <td>why is cheap vodka so good</td>\n",
       "      <td>17</td>\n",
       "      <td>Student/Internet/Computer/Science/Research</td>\n",
       "    </tr>\n",
       "    <tr>\n",
       "      <td>2</td>\n",
       "      <td>what does drunk and disorganized mean</td>\n",
       "      <td>0</td>\n",
       "      <td>American/Car/Marriage/Story/Life in general</td>\n",
       "    </tr>\n",
       "    <tr>\n",
       "      <td>3</td>\n",
       "      <td>how can i prepare for isro</td>\n",
       "      <td>0</td>\n",
       "      <td>American/Car/Marriage/Story/Life in general</td>\n",
       "    </tr>\n",
       "    <tr>\n",
       "      <td>4</td>\n",
       "      <td>what is the probation period after ssc cgl</td>\n",
       "      <td>0</td>\n",
       "      <td>American/Car/Marriage/Story/Life in general</td>\n",
       "    </tr>\n",
       "  </tbody>\n",
       "</table>\n",
       "</div>"
      ],
      "text/plain": [
       "                                       question_text  dominant_topic  \\\n",
       "0  why is saturn v considered an overestimated ro...               0   \n",
       "1                         why is cheap vodka so good              17   \n",
       "2              what does drunk and disorganized mean               0   \n",
       "3                        how can i prepare for isro                0   \n",
       "4         what is the probation period after ssc cgl               0   \n",
       "\n",
       "                          dominant_topic_theme  \n",
       "0  American/Car/Marriage/Story/Life in general  \n",
       "1   Student/Internet/Computer/Science/Research  \n",
       "2  American/Car/Marriage/Story/Life in general  \n",
       "3  American/Car/Marriage/Story/Life in general  \n",
       "4  American/Car/Marriage/Story/Life in general  "
      ]
     },
     "execution_count": 132,
     "metadata": {},
     "output_type": "execute_result"
    }
   ],
   "source": [
    "df_topic_theme.head()"
   ]
  }
 ],
 "metadata": {
  "kernelspec": {
   "display_name": "Python 3",
   "language": "python",
   "name": "python3"
  },
  "language_info": {
   "codemirror_mode": {
    "name": "ipython",
    "version": 3
   },
   "file_extension": ".py",
   "mimetype": "text/x-python",
   "name": "python",
   "nbconvert_exporter": "python",
   "pygments_lexer": "ipython3",
   "version": "3.7.4"
  }
 },
 "nbformat": 4,
 "nbformat_minor": 2
}
